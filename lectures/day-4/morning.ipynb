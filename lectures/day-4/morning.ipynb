{
 "cells": [
  {
   "cell_type": "markdown",
   "metadata": {},
   "source": [
    "# Python Bootcamp Day 4 Morning\n",
    "\n",
    "* Instructor:  Andrew Yarmola [andrew.yarmola@gmail.com](mailto:andrew.yarmola@gmail.com)\n",
    "* Bootcamp files: [github.com/andrew-yarmola/python-bootcamp](https://github.com/andrew-yarmola/python-bootcamp)"
   ]
  },
  {
   "cell_type": "markdown",
   "metadata": {},
   "source": [
    "## Comments\n",
    "\n",
    "### References in Swagger specification files\n",
    "\n",
    "One can use references inside `swagger.yml` files used by `connexion` to eliminate repetition. For example,\n",
    "\n",
    "```yml\n",
    "paths:\n",
    "...\n",
    "  /employee/{employee_id}:\n",
    "    get:\n",
    "      operationId: employee.read_one\n",
    "      tags:\n",
    "        - Employee\n",
    "      summary: Read one employee\n",
    "      description: Read one employee\n",
    "      parameters:\n",
    "        - $ref: '#/parameters/employee_id'\n",
    "      responses:\n",
    "        200:\n",
    "          description: Successfully read employee from employee data operation\n",
    "          schema:\n",
    "              $ref: '#/definitions/employee'\n",
    "...\n",
    "parameters:\n",
    "  employee_id:\n",
    "    name: employee_id\n",
    "    description: Employees's unique identifier\n",
    "    in: path\n",
    "    type: string\n",
    "    required: true\n",
    "    pattern: \"^[0-9]+$\"\n",
    "  employee:\n",
    "    name: employee\n",
    "    in: body\n",
    "    description: Employee to create or update\n",
    "    required: True\n",
    "    schema:\n",
    "      type: object\n",
    "      properties:\n",
    "        name:\n",
    "          type: string\n",
    "          pattern: \"^[a-zA-Z\\\\s]*$\"\n",
    "          description: Name of employee to create or update\n",
    "          minLength: 1\n",
    "          maxLength: 100\n",
    "\n",
    "definitions:\n",
    "  employee:\n",
    "    type: object\n",
    "    required:\n",
    "      - name\n",
    "    properties:\n",
    "      employee_id:\n",
    "        type: string\n",
    "        description: Unique identifier\n",
    "        example: \"123\"\n",
    "        readOnly: true\n",
    "      name:\n",
    "        type: string\n",
    "        description: Employee's name\n",
    "        example: \"Susie Andrews\"\n",
    "        minLength: 1\n",
    "        maxLength: 100\n",
    "      age:\n",
    "        type: string\n",
    "        description: Employee's age\n",
    "        example: \"35\"\n",
    "        minLength: 1\n",
    "      monthly_salary:\n",
    "        type: string\n",
    "        description: Employee's monthly salary\n",
    "        example: \"23124.53\"\n",
    "        minLength: 1\n",
    "      timestamp:\n",
    "        type: string\n",
    "        format: date-time\n",
    "        description: Creation or update time\n",
    "        example: \"2015-07-07T15:49:51.230+02:00\"\n",
    "        readOnly: true\n",
    "```\n",
    "\n",
    "Notice the extra properties such as `readOnly`, `minLength`, and most interesting of all `pattern`, which applies a regular expression to verify input well before it hits your python code!\n",
    "\n",
    "**Note**. As far as I can tell, for `json` output, the only `type` options are `object`, `array`, `string`.\n",
    "\n",
    "You can read the full Swagger/OpenAPI spec at [swagger.io/specification/](https://swagger.io/specification/).\n",
    "\n",
    "See the `challenges/day-3/solutions/dummy-with-connexion` app for the full example."
   ]
  },
  {
   "cell_type": "markdown",
   "metadata": {},
   "source": [
    "## A few words about unit testing\n",
    "\n"
   ]
  },
  {
   "cell_type": "markdown",
   "metadata": {},
   "source": [
    "## Introduction to data processing libraries\n",
    "\n",
    "The data processing/data mining toolchain is composed of the top level `numpy`, `scipy`, and `scikit-learn` frameworks. The two most important data organizing frameworks are `numpy`, which works with `arrays`, and `pandas`, which works with `DataFrame` and `Series`. There is also the `sympy` framework that does symbolic computations and `pymc3` for statical distributions.\n",
    "\n",
    "For graphing and plotting, there are `matplotlib` and  `seabon`, both of which are great.\n",
    "\n",
    "In our repository, we now have a new `jupyterlab` project and `data_mining` projects, the later of which contains a `Pipfile` with all the data processing libraries of interest.\n",
    "\n",
    "```bash\n",
    "# install jupyter lab\n",
    "cd jupyterlab\n",
    "pipenv sync\n",
    "./install_extensions\n",
    "\n",
    "# install data mining libraries\n",
    "cd data_mining\n",
    "pipenv sync --dev\n",
    "./install_kernel data_mining\n",
    "\n",
    "# launch jupyter lab\n",
    "cd jupyterlab\n",
    "pipenv shell\n",
    "$ cd .. # or wherever you want the root of juputer to be\n",
    "$ jupyter lab\n",
    "```\n",
    "\n",
    "You should now be able to start new notebooks with the `data_mining` kernel or switch kernels in the `Kernel -> Change Kernel` menu item."
   ]
  },
  {
   "cell_type": "markdown",
   "metadata": {},
   "source": [
    "# `numpy`\n",
    "\n",
    "`numpy` is a python package that focuses on multi-dimensional arrays, scientific computation, and high efficiency. Combined with `scipy`, `sympy`, and graphing modules, one can use python in highly customizable scientific computing.\n",
    "\n",
    "## `array` object\n",
    "\n",
    "`numpy` is known for **array oriented computing**. An `array` is a mutli-dimensional table (in dimension 2, you can think of an `array` as a matrix."
   ]
  },
  {
   "cell_type": "code",
   "execution_count": 140,
   "metadata": {},
   "outputs": [],
   "source": [
    "import numpy as np\n",
    "\n",
    "# we can make an array from a list of lists\n",
    "a = np.array([[0,1,2],[3,4,5]]) # 2-d\n",
    "b = np.array([[[0,1],[2,3]],[[4,5],[6,7]]]) # 3-d"
   ]
  },
  {
   "cell_type": "code",
   "execution_count": 141,
   "metadata": {},
   "outputs": [
    {
     "data": {
      "text/plain": [
       "array([[0, 1, 2],\n",
       "       [3, 4, 5]])"
      ]
     },
     "execution_count": 141,
     "metadata": {},
     "output_type": "execute_result"
    }
   ],
   "source": [
    "a"
   ]
  },
  {
   "cell_type": "code",
   "execution_count": 142,
   "metadata": {},
   "outputs": [
    {
     "data": {
      "text/plain": [
       "array([[[0, 1],\n",
       "        [2, 3]],\n",
       "\n",
       "       [[4, 5],\n",
       "        [6, 7]]])"
      ]
     },
     "execution_count": 142,
     "metadata": {},
     "output_type": "execute_result"
    }
   ],
   "source": [
    "b"
   ]
  },
  {
   "cell_type": "code",
   "execution_count": 143,
   "metadata": {},
   "outputs": [
    {
     "data": {
      "text/plain": [
       "2"
      ]
     },
     "execution_count": 143,
     "metadata": {},
     "output_type": "execute_result"
    }
   ],
   "source": [
    "a.ndim"
   ]
  },
  {
   "cell_type": "code",
   "execution_count": 144,
   "metadata": {},
   "outputs": [
    {
     "data": {
      "text/plain": [
       "3"
      ]
     },
     "execution_count": 144,
     "metadata": {},
     "output_type": "execute_result"
    }
   ],
   "source": [
    "b.ndim"
   ]
  },
  {
   "cell_type": "code",
   "execution_count": 145,
   "metadata": {},
   "outputs": [
    {
     "data": {
      "text/plain": [
       "(2, 3)"
      ]
     },
     "execution_count": 145,
     "metadata": {},
     "output_type": "execute_result"
    }
   ],
   "source": [
    "a.shape"
   ]
  },
  {
   "cell_type": "code",
   "execution_count": 146,
   "metadata": {},
   "outputs": [
    {
     "data": {
      "text/plain": [
       "(2, 2, 2)"
      ]
     },
     "execution_count": 146,
     "metadata": {},
     "output_type": "execute_result"
    }
   ],
   "source": [
    "b.shape"
   ]
  },
  {
   "cell_type": "markdown",
   "metadata": {},
   "source": [
    "### Basic indexing, assignment, and copies\n",
    "\n",
    "To get values out of an array, we use the syntax `array[p_1,p_2,p_3,...]` where `p_i` is the index in that dimension (also known as **axis**) starting with zero."
   ]
  },
  {
   "cell_type": "code",
   "execution_count": 147,
   "metadata": {},
   "outputs": [
    {
     "data": {
      "text/plain": [
       "2"
      ]
     },
     "execution_count": 147,
     "metadata": {},
     "output_type": "execute_result"
    }
   ],
   "source": [
    "b[0,1,0]"
   ]
  },
  {
   "cell_type": "code",
   "execution_count": 148,
   "metadata": {},
   "outputs": [
    {
     "name": "stdout",
     "output_type": "stream",
     "text": [
      "a =  array([[0, 1, 2],\n",
      "       [3, 4, 5]])\n",
      "a =  array([[ 0,  1,  2],\n",
      "       [ 3, 29,  5]])\n"
     ]
    }
   ],
   "source": [
    "print(\"a = \", repr(a))\n",
    "\n",
    "a[1,1] = 29\n",
    "\n",
    "print(\"a = \", repr(a))"
   ]
  },
  {
   "cell_type": "code",
   "execution_count": 149,
   "metadata": {},
   "outputs": [
    {
     "name": "stdout",
     "output_type": "stream",
     "text": [
      "c =  array([[ 9,  1,  2],\n",
      "       [ 3, 29,  5]])\n"
     ]
    }
   ],
   "source": [
    "# make a copy of a\n",
    "c = a.copy()\n",
    "c[0,0] = 9\n",
    "print(\"c = \", repr(c))"
   ]
  },
  {
   "cell_type": "markdown",
   "metadata": {},
   "source": [
    "We will look at array slicing towards the end of this lecture."
   ]
  },
  {
   "cell_type": "markdown",
   "metadata": {},
   "source": [
    "### Getting help\n",
    "\n",
    "Along with the standrad `help()` and `?` methods of looking up documentation in `ipython`, we can also search the documentation using `numpy.lookfor()`. This can be useful if you can't quite remember the exact name of a command."
   ]
  },
  {
   "cell_type": "code",
   "execution_count": 150,
   "metadata": {},
   "outputs": [
    {
     "name": "stdout",
     "output_type": "stream",
     "text": [
      "Search results for 'evenly spaced values'\n",
      "-----------------------------------------\n",
      "numpy.arange\n",
      "    Return evenly spaced values within a given interval.\n",
      "numpy.ma.arange\n",
      "    Return evenly spaced values within a given interval.\n",
      "numpy.logspace\n",
      "    Return numbers spaced evenly on a log scale.\n",
      "numpy.geomspace\n",
      "    Return numbers spaced evenly on a log scale (a geometric progression).\n",
      "numpy.trapz\n",
      "    Integrate along the given axis using the composite trapezoidal rule.\n",
      "numpy.gradient\n",
      "    Return the gradient of an N-dimensional array.\n"
     ]
    }
   ],
   "source": [
    "np.lookfor('evenly spaced values')"
   ]
  },
  {
   "cell_type": "markdown",
   "metadata": {},
   "source": [
    "### Efficiency\n",
    "\n",
    "At first glance, `arrays` look just like lists of lists, however, they are **much more efficient** (for certain tasks)"
   ]
  },
  {
   "cell_type": "code",
   "execution_count": 151,
   "metadata": {},
   "outputs": [
    {
     "name": "stdout",
     "output_type": "stream",
     "text": [
      "22.9 µs ± 1.26 µs per loop (mean ± std. dev. of 7 runs, 10000 loops each)\n"
     ]
    }
   ],
   "source": [
    "# we can time basic creation\n",
    "%timeit list(range(1000))"
   ]
  },
  {
   "cell_type": "code",
   "execution_count": 152,
   "metadata": {},
   "outputs": [
    {
     "name": "stdout",
     "output_type": "stream",
     "text": [
      "1.49 µs ± 136 ns per loop (mean ± std. dev. of 7 runs, 1000000 loops each)\n"
     ]
    }
   ],
   "source": [
    "# `numpy` not only creates faster, it can be smart\n",
    "%timeit np.arange(1000)"
   ]
  },
  {
   "cell_type": "code",
   "execution_count": 153,
   "metadata": {},
   "outputs": [
    {
     "name": "stdout",
     "output_type": "stream",
     "text": [
      "440 µs ± 50.7 µs per loop (mean ± std. dev. of 7 runs, 1000 loops each)\n"
     ]
    }
   ],
   "source": [
    "# operations are even slower\n",
    "%timeit [i**2 for i in range(1000)]"
   ]
  },
  {
   "cell_type": "code",
   "execution_count": 154,
   "metadata": {},
   "outputs": [
    {
     "name": "stdout",
     "output_type": "stream",
     "text": [
      "3.89 µs ± 154 ns per loop (mean ± std. dev. of 7 runs, 100000 loops each)\n"
     ]
    }
   ],
   "source": [
    "# squares are even slower\n",
    "%timeit np.arange(1000)**2"
   ]
  },
  {
   "cell_type": "markdown",
   "metadata": {},
   "source": [
    "### Creating `arrays`\n",
    "\n",
    "As we just saw above, it is much faster to create arrays directly than to turn lists into arrays. `numpy` has many build in methods for array creation. Here are a few :"
   ]
  },
  {
   "cell_type": "code",
   "execution_count": 155,
   "metadata": {},
   "outputs": [
    {
     "name": "stdout",
     "output_type": "stream",
     "text": [
      "a =  array([2, 4, 6, 8])\n"
     ]
    }
   ],
   "source": [
    "# evenly spaced\n",
    "a = np.arange(2,10,2)\n",
    "print(\"a = \", repr(a))"
   ]
  },
  {
   "cell_type": "code",
   "execution_count": 156,
   "metadata": {},
   "outputs": [
    {
     "name": "stdout",
     "output_type": "stream",
     "text": [
      "a =  array([2.        , 2.55555556, 3.11111111, 3.66666667, 4.22222222,\n",
      "       4.77777778, 5.33333333, 5.88888889, 6.44444444, 7.        ])\n"
     ]
    }
   ],
   "source": [
    "# evenly spaced by number of points\n",
    "a = np.linspace(2,7,10)\n",
    "print(\"a = \", repr(a))"
   ]
  },
  {
   "cell_type": "code",
   "execution_count": 157,
   "metadata": {},
   "outputs": [
    {
     "name": "stdout",
     "output_type": "stream",
     "text": [
      "a =  array([[[0., 0., 0.],\n",
      "        [0., 0., 0.]],\n",
      "\n",
      "       [[0., 0., 0.],\n",
      "        [0., 0., 0.]],\n",
      "\n",
      "       [[0., 0., 0.],\n",
      "        [0., 0., 0.]],\n",
      "\n",
      "       [[0., 0., 0.],\n",
      "        [0., 0., 0.]]])\n"
     ]
    }
   ],
   "source": [
    "# zeros of a given shape\n",
    "a = np.zeros((4,2,3))\n",
    "print(\"a = \", repr(a))"
   ]
  },
  {
   "cell_type": "code",
   "execution_count": 158,
   "metadata": {},
   "outputs": [
    {
     "name": "stdout",
     "output_type": "stream",
     "text": [
      "a =  array([[[1., 1., 1., 1.],\n",
      "        [1., 1., 1., 1.],\n",
      "        [1., 1., 1., 1.]],\n",
      "\n",
      "       [[1., 1., 1., 1.],\n",
      "        [1., 1., 1., 1.],\n",
      "        [1., 1., 1., 1.]]])\n"
     ]
    }
   ],
   "source": [
    "# ones of a given shape\n",
    "a = np.ones((2,3,4))\n",
    "print(\"a = \", repr(a))"
   ]
  },
  {
   "cell_type": "code",
   "execution_count": 159,
   "metadata": {},
   "outputs": [
    {
     "name": "stdout",
     "output_type": "stream",
     "text": [
      "a =  array([[1., 0., 0., 0.],\n",
      "       [0., 1., 0., 0.],\n",
      "       [0., 0., 1., 0.],\n",
      "       [0., 0., 0., 1.]])\n"
     ]
    }
   ],
   "source": [
    "# identity matrix\n",
    "a = np.eye(4)\n",
    "print(\"a = \", repr(a))"
   ]
  },
  {
   "cell_type": "code",
   "execution_count": 160,
   "metadata": {},
   "outputs": [
    {
     "name": "stdout",
     "output_type": "stream",
     "text": [
      "a =  array([[0.        , 0.        , 0.        , 0.        ],\n",
      "       [0.        , 0.33333333, 0.        , 0.        ],\n",
      "       [0.        , 0.        , 0.66666667, 0.        ],\n",
      "       [0.        , 0.        , 0.        , 1.        ]])\n"
     ]
    }
   ],
   "source": [
    "# diagonal matrix\n",
    "d = np.linspace(0,1,4)\n",
    "a = np.diag(d) # the argument can be any iterable\n",
    "print(\"a = \", repr(a))"
   ]
  },
  {
   "cell_type": "code",
   "execution_count": 161,
   "metadata": {},
   "outputs": [
    {
     "name": "stdout",
     "output_type": "stream",
     "text": [
      "a =  array([[0.74243563],\n",
      "       [0.41823086],\n",
      "       [0.35044166]])\n"
     ]
    }
   ],
   "source": [
    "# random arrays\n",
    "# uniform in [0,1]\n",
    "a = np.random.rand(3,1)\n",
    "print(\"a = \", repr(a))"
   ]
  },
  {
   "cell_type": "code",
   "execution_count": 162,
   "metadata": {},
   "outputs": [
    {
     "name": "stdout",
     "output_type": "stream",
     "text": [
      "a =  array([[[ 2.59483582,  1.6550092 , -0.16104677]],\n",
      "\n",
      "       [[-1.06274895, -2.20100275, -0.2542852 ]]])\n"
     ]
    }
   ],
   "source": [
    "shape = (2,1,3)\n",
    "# standard normal distribution (Gaussian)\n",
    "a = np.random.randn(*shape)\n",
    "print(\"a = \", repr(a))"
   ]
  },
  {
   "cell_type": "markdown",
   "metadata": {},
   "source": [
    "**Remark.** `numpy.random` has a **much better** random number generator than `random`"
   ]
  },
  {
   "cell_type": "markdown",
   "metadata": {},
   "source": [
    "If you every need to **preallocate** space for an array quickly and with **arbitrary** (but not random) values, you can use `numpy.empty`"
   ]
  },
  {
   "cell_type": "code",
   "execution_count": 163,
   "metadata": {},
   "outputs": [
    {
     "name": "stdout",
     "output_type": "stream",
     "text": [
      "a =  array([[[-0.        , -0.47160169, -0.        , -0.86733405]],\n",
      "\n",
      "       [[-0.        , -0.25862143, -0.        , -0.72934131]],\n",
      "\n",
      "       [[ 0.        ,  0.42555993,  0.        ,  0.09247073]]])\n"
     ]
    }
   ],
   "source": [
    "# \"empty\" array of a given shape\n",
    "a = np.empty((3,1,4))\n",
    "print(\"a = \", repr(a))"
   ]
  },
  {
   "cell_type": "markdown",
   "metadata": {},
   "source": [
    "**Warning.** You have no guarantee about the values of `numpy.empty`"
   ]
  },
  {
   "cell_type": "code",
   "execution_count": 164,
   "metadata": {},
   "outputs": [
    {
     "name": "stdout",
     "output_type": "stream",
     "text": [
      "b =  array([[[-0.        , -0.47160169, -0.        , -0.86733405]],\n",
      "\n",
      "       [[-0.        , -0.25862143, -0.        , -0.72934131]],\n",
      "\n",
      "       [[ 0.        ,  0.42555993,  0.        ,  0.09247073]]])\n"
     ]
    }
   ],
   "source": [
    "# \"empty\" array of another array\n",
    "b = np.empty_like(a)\n",
    "print(\"b = \", repr(b))"
   ]
  },
  {
   "cell_type": "markdown",
   "metadata": {},
   "source": [
    "**Remark**. Note that most methods take a `shape` as a tuple, however, some methods such as `numpy.random.randint` expect the `shape` as positional arguments."
   ]
  },
  {
   "cell_type": "markdown",
   "metadata": {},
   "source": [
    "### Data types\n",
    "\n",
    "Unlike python `lists` (or lists of lists), `numpy` `arrays` can **only store one type of value** at a time. Here is an example :"
   ]
  },
  {
   "cell_type": "code",
   "execution_count": 165,
   "metadata": {},
   "outputs": [
    {
     "name": "stdout",
     "output_type": "stream",
     "text": [
      "a =  array([0, 1, 2, 3])\n"
     ]
    }
   ],
   "source": [
    "a = np.arange(4)\n",
    "print(\"a = \", repr(a))"
   ]
  },
  {
   "cell_type": "code",
   "execution_count": 166,
   "metadata": {},
   "outputs": [
    {
     "name": "stdout",
     "output_type": "stream",
     "text": [
      "a =  array([0, 1, 5, 3])\n"
     ]
    }
   ],
   "source": [
    "a[2] = 5 # change value at 2\n",
    "print(\"a = \", repr(a))"
   ]
  },
  {
   "cell_type": "code",
   "execution_count": 167,
   "metadata": {},
   "outputs": [
    {
     "name": "stdout",
     "output_type": "stream",
     "text": [
      "a =  array([0, 7, 5, 3])\n"
     ]
    }
   ],
   "source": [
    "a[1] = 7.6 # try to set a float\n",
    "print(\"a = \", repr(a))"
   ]
  },
  {
   "cell_type": "markdown",
   "metadata": {},
   "source": [
    "From these examples, we can see the following things :\n",
    "   * arrays are mutable types\n",
    "   * for 1-dim arrays, we can access just like a list (more on this alter)\n",
    "   * **when we tried to set a `float` for `a[1]`, the array turned it into an `int`**"
   ]
  },
  {
   "cell_type": "markdown",
   "metadata": {},
   "source": [
    "Why did this happen? It turns out that when our array was created, its data type (`dtype`) was set to being an integer."
   ]
  },
  {
   "cell_type": "code",
   "execution_count": 177,
   "metadata": {},
   "outputs": [
    {
     "data": {
      "text/plain": [
       "dtype('int64')"
      ]
     },
     "execution_count": 177,
     "metadata": {},
     "output_type": "execute_result"
    }
   ],
   "source": [
    "a.dtype"
   ]
  },
  {
   "cell_type": "code",
   "execution_count": 178,
   "metadata": {},
   "outputs": [
    {
     "data": {
      "text/plain": [
       "dtype('float64')"
      ]
     },
     "execution_count": 178,
     "metadata": {},
     "output_type": "execute_result"
    }
   ],
   "source": [
    "b = np.array([1.,2.,3.,4.])\n",
    "b.dtype"
   ]
  },
  {
   "cell_type": "code",
   "execution_count": 170,
   "metadata": {},
   "outputs": [
    {
     "data": {
      "text/plain": [
       "dtype('<U5')"
      ]
     },
     "execution_count": 170,
     "metadata": {},
     "output_type": "execute_result"
    }
   ],
   "source": [
    "c = np.array('a list of words'.split())\n",
    "c.dtype"
   ]
  },
  {
   "cell_type": "markdown",
   "metadata": {},
   "source": [
    "**Remark**. Above, `'int64'` means integer using at most `64` bits. The `'<U5'` type stands for 5 or less **unicode** characters."
   ]
  },
  {
   "cell_type": "code",
   "execution_count": 171,
   "metadata": {},
   "outputs": [
    {
     "name": "stdout",
     "output_type": "stream",
     "text": [
      "c =  array(['somet', 'list', 'of', 'words'], dtype='<U5')\n"
     ]
    }
   ],
   "source": [
    "# the type won't change when I set a value\n",
    "c[0] = 'something'\n",
    "print(\"c = \", repr(c))"
   ]
  },
  {
   "cell_type": "code",
   "execution_count": 172,
   "metadata": {},
   "outputs": [
    {
     "name": "stdout",
     "output_type": "stream",
     "text": [
      "d =  array(['somet', 'list', 'of', 'words'], dtype='<U10')\n",
      "d =  array(['something', 'list', 'of', 'words'], dtype='<U10')\n"
     ]
    }
   ],
   "source": [
    "# a copy with different type\n",
    "d = c.astype('<U10')\n",
    "print(\"d = \", repr(d))\n",
    "\n",
    "d[0] = 'something'\n",
    "print(\"d = \", repr(d))"
   ]
  },
  {
   "cell_type": "markdown",
   "metadata": {},
   "source": [
    "### Structured data types\n",
    "\n",
    "If you want to store types a little more complicate than just strings, integers, floating point and complex numbers, you can use **structured data types**"
   ]
  },
  {
   "cell_type": "code",
   "execution_count": 173,
   "metadata": {},
   "outputs": [
    {
     "name": "stdout",
     "output_type": "stream",
     "text": [
      "(3, 3)\n",
      "array([['ALFA', '1', '0.37'],\n",
      "       ['BETA', '2', '0.11'],\n",
      "       ['TAU', '1', '0.13']], dtype='<U4')\n"
     ]
    }
   ],
   "source": [
    "samples = np.array([('ALFA',1,0.37),\n",
    "                    ('BETA',2,0.11),\n",
    "                    ('TAU',1,0.13)])\n",
    "print(samples.shape)\n",
    "print(repr(samples))"
   ]
  },
  {
   "cell_type": "code",
   "execution_count": 174,
   "metadata": {},
   "outputs": [],
   "source": [
    "# data type spec\n",
    "t = np.dtype([('sensor_code', '<U4'),\n",
    "              ('position', 'int64'),\n",
    "              ('value', 'float64')])"
   ]
  },
  {
   "cell_type": "code",
   "execution_count": 175,
   "metadata": {},
   "outputs": [
    {
     "name": "stdout",
     "output_type": "stream",
     "text": [
      "(3, 1)\n",
      "array([[('ALFA', 1, 0.37)],\n",
      "       [('BETA', 2, 0.11)],\n",
      "       [('TAU', 1, 0.13)]],\n",
      "      dtype=[('sensor_code', '<U4'), ('position', '<i8'), ('value', '<f8')])\n"
     ]
    }
   ],
   "source": [
    "samples = np.array([[('ALFA',1,0.37)],\n",
    "                    [('BETA',2,0.11)],\n",
    "                    [('TAU',1,0.13)]], dtype=t)\n",
    "print(samples.shape)\n",
    "print(repr(samples))"
   ]
  },
  {
   "cell_type": "code",
   "execution_count": 176,
   "metadata": {},
   "outputs": [
    {
     "data": {
      "text/plain": [
       "array([['ALFA'],\n",
       "       ['BETA'],\n",
       "       ['TAU']], dtype='<U4')"
      ]
     },
     "execution_count": 176,
     "metadata": {},
     "output_type": "execute_result"
    }
   ],
   "source": [
    "# we can use the type name to\n",
    "# get a nice subarray\n",
    "samples['sensor_code']"
   ]
  },
  {
   "cell_type": "code",
   "execution_count": 40,
   "metadata": {},
   "outputs": [
    {
     "name": "stdout",
     "output_type": "stream",
     "text": [
      "array([[('XI', 1, 0.37)],\n",
      "       [('BETA', 2, 0.11)],\n",
      "       [('TAU', 1, 0.13)]],\n",
      "      dtype=[('sensor_code', '<U4'), ('position', '<i8'), ('value', '<f8')])\n"
     ]
    }
   ],
   "source": [
    "# we can also make assignemtns\n",
    "samples[0]['sensor_code'] = 'XI'\n",
    "print(repr(samples))"
   ]
  },
  {
   "cell_type": "markdown",
   "metadata": {},
   "source": [
    "**Remark**. It is possible to write your own classes that can be used as data types for `numpy` arrays."
   ]
  },
  {
   "cell_type": "markdown",
   "metadata": {},
   "source": [
    "### Basic operatons\n",
    "\n",
    "`numpy.array` behaves **very differently** from python `list` when it comes to binary operations such as `+,-,*,/,**,%, ==, <, >, etc`. All of the standard operations are **element-wise**"
   ]
  },
  {
   "cell_type": "code",
   "execution_count": 63,
   "metadata": {},
   "outputs": [
    {
     "name": "stdout",
     "output_type": "stream",
     "text": [
      "array([[ 1, -1,  2],\n",
      "       [ 3,  4,  5]])\n",
      "array([[3, 0, 6],\n",
      "       [6, 4, 5]])\n"
     ]
    }
   ],
   "source": [
    "a = np.array([[1,-1,2],[3,4,5]])\n",
    "b = np.array([[3,0,6],[6,4,5]])\n",
    "print(\"a = \", repr(a))\n",
    "print(\"b = \", repr(b))"
   ]
  },
  {
   "cell_type": "code",
   "execution_count": 64,
   "metadata": {},
   "outputs": [
    {
     "data": {
      "text/plain": [
       "array([[ 4, -1,  8],\n",
       "       [ 9,  8, 10]])"
      ]
     },
     "execution_count": 64,
     "metadata": {},
     "output_type": "execute_result"
    }
   ],
   "source": [
    "# element-wise addition \n",
    "a+b"
   ]
  },
  {
   "cell_type": "code",
   "execution_count": 65,
   "metadata": {},
   "outputs": [
    {
     "data": {
      "text/plain": [
       "array([[ 3,  0, 12],\n",
       "       [18, 16, 25]])"
      ]
     },
     "execution_count": 65,
     "metadata": {},
     "output_type": "execute_result"
    }
   ],
   "source": [
    "# element-wise multiplication \n",
    "a*b"
   ]
  },
  {
   "cell_type": "markdown",
   "metadata": {},
   "source": [
    "**Warning**. For 2-dim arrays, `a*b` **is not matrix multiplication**! To multiply matrices, use `a.dot(b)`."
   ]
  },
  {
   "cell_type": "code",
   "execution_count": 66,
   "metadata": {},
   "outputs": [
    {
     "data": {
      "text/plain": [
       "array([[4., 1., 7.],\n",
       "       [7., 5., 6.]])"
      ]
     },
     "execution_count": 66,
     "metadata": {},
     "output_type": "execute_result"
    }
   ],
   "source": [
    "# element-wise division \n",
    "(b*a+a)/a"
   ]
  },
  {
   "cell_type": "code",
   "execution_count": 67,
   "metadata": {},
   "outputs": [
    {
     "data": {
      "text/plain": [
       "array([[   1,    1,   64],\n",
       "       [ 729,  256, 3125]])"
      ]
     },
     "execution_count": 67,
     "metadata": {},
     "output_type": "execute_result"
    }
   ],
   "source": [
    "# element-wise exp\n",
    "a**b"
   ]
  },
  {
   "cell_type": "code",
   "execution_count": 68,
   "metadata": {},
   "outputs": [
    {
     "name": "stderr",
     "output_type": "stream",
     "text": [
      "/Users/yarmola/.local/share/virtualenvs/data_mining-xIzjQ1YQ/lib/python3.7/site-packages/ipykernel_launcher.py:2: RuntimeWarning: divide by zero encountered in remainder\n",
      "  \n"
     ]
    },
    {
     "data": {
      "text/plain": [
       "array([[1, 0, 2],\n",
       "       [3, 0, 0]])"
      ]
     },
     "execution_count": 68,
     "metadata": {},
     "output_type": "execute_result"
    }
   ],
   "source": [
    "# elemnt-wise remainder\n",
    "a % b"
   ]
  },
  {
   "cell_type": "markdown",
   "metadata": {},
   "source": [
    "For operations with integers and floats everything is still element-wise"
   ]
  },
  {
   "cell_type": "code",
   "execution_count": 69,
   "metadata": {},
   "outputs": [
    {
     "name": "stdout",
     "output_type": "stream",
     "text": [
      "array([[ 1, -1,  2],\n",
      "       [ 3,  4,  5]])\n"
     ]
    },
    {
     "data": {
      "text/plain": [
       "array([[2.5, 0.5, 3.5],\n",
       "       [4.5, 5.5, 6.5]])"
      ]
     },
     "execution_count": 69,
     "metadata": {},
     "output_type": "execute_result"
    }
   ],
   "source": [
    "print(\"a = \", repr(a))\n",
    "a + 1.5"
   ]
  },
  {
   "cell_type": "code",
   "execution_count": 70,
   "metadata": {},
   "outputs": [
    {
     "data": {
      "text/plain": [
       "array([[ 3.  , -3.  ,  1.5 ],\n",
       "       [ 1.  ,  0.75,  0.6 ]])"
      ]
     },
     "execution_count": 70,
     "metadata": {},
     "output_type": "execute_result"
    }
   ],
   "source": [
    "3/a"
   ]
  },
  {
   "cell_type": "code",
   "execution_count": 71,
   "metadata": {},
   "outputs": [
    {
     "data": {
      "text/plain": [
       "array([[ 1,  1,  4],\n",
       "       [ 9, 16, 25]])"
      ]
     },
     "execution_count": 71,
     "metadata": {},
     "output_type": "execute_result"
    }
   ],
   "source": [
    "a**2"
   ]
  },
  {
   "cell_type": "code",
   "execution_count": 72,
   "metadata": {},
   "outputs": [
    {
     "data": {
      "text/plain": [
       "array([[1, 2, 2],\n",
       "       [0, 1, 2]])"
      ]
     },
     "execution_count": 72,
     "metadata": {},
     "output_type": "execute_result"
    }
   ],
   "source": [
    "a % 3"
   ]
  },
  {
   "cell_type": "markdown",
   "metadata": {},
   "source": [
    "You can also do **sums**  and **products** of all elements of just along an axis. You can use both `numpy.prod()` and` numpy.sum()` functions or use instance methods `.prod()` and `.sum()`."
   ]
  },
  {
   "cell_type": "code",
   "execution_count": 73,
   "metadata": {},
   "outputs": [
    {
     "name": "stdout",
     "output_type": "stream",
     "text": [
      "14\n",
      "-120\n"
     ]
    }
   ],
   "source": [
    "# sum all elements\n",
    "print(np.sum(a))\n",
    "\n",
    "# product of all elements\n",
    "print(a.prod())"
   ]
  },
  {
   "cell_type": "code",
   "execution_count": 74,
   "metadata": {},
   "outputs": [
    {
     "data": {
      "text/plain": [
       "array([4, 3, 7])"
      ]
     },
     "execution_count": 74,
     "metadata": {},
     "output_type": "execute_result"
    }
   ],
   "source": [
    "# sum along the 0-axis (rows)\n",
    "a.sum(axis = 0)"
   ]
  },
  {
   "cell_type": "code",
   "execution_count": 75,
   "metadata": {},
   "outputs": [
    {
     "data": {
      "text/plain": [
       "array([-2, 60])"
      ]
     },
     "execution_count": 75,
     "metadata": {},
     "output_type": "execute_result"
    }
   ],
   "source": [
    "# product along the 1-axis (cols)\n",
    "np.prod(a, axis = 1)"
   ]
  },
  {
   "cell_type": "markdown",
   "metadata": {},
   "source": [
    "**Comparisons are also element-wise**"
   ]
  },
  {
   "cell_type": "code",
   "execution_count": 76,
   "metadata": {},
   "outputs": [
    {
     "data": {
      "text/plain": [
       "array([[False, False, False],\n",
       "       [False, False,  True]])"
      ]
     },
     "execution_count": 76,
     "metadata": {},
     "output_type": "execute_result"
    }
   ],
   "source": [
    "a == 5"
   ]
  },
  {
   "cell_type": "code",
   "execution_count": 77,
   "metadata": {},
   "outputs": [
    {
     "data": {
      "text/plain": [
       "array([[False, False, False],\n",
       "       [False,  True,  True]])"
      ]
     },
     "execution_count": 77,
     "metadata": {},
     "output_type": "execute_result"
    }
   ],
   "source": [
    "a > 3"
   ]
  },
  {
   "cell_type": "code",
   "execution_count": 78,
   "metadata": {},
   "outputs": [
    {
     "data": {
      "text/plain": [
       "array([[False, False, False],\n",
       "       [False,  True,  True]])"
      ]
     },
     "execution_count": 78,
     "metadata": {},
     "output_type": "execute_result"
    }
   ],
   "source": [
    "# element-wise comaprison\n",
    "a == b"
   ]
  },
  {
   "cell_type": "code",
   "execution_count": 79,
   "metadata": {},
   "outputs": [
    {
     "data": {
      "text/plain": [
       "array([[False, False, False],\n",
       "       [False, False, False]])"
      ]
     },
     "execution_count": 79,
     "metadata": {},
     "output_type": "execute_result"
    }
   ],
   "source": [
    "b < a"
   ]
  },
  {
   "cell_type": "code",
   "execution_count": 80,
   "metadata": {},
   "outputs": [
    {
     "data": {
      "text/plain": [
       "False"
      ]
     },
     "execution_count": 80,
     "metadata": {},
     "output_type": "execute_result"
    }
   ],
   "source": [
    "# to check if arrays are equal\n",
    "np.array_equal(a,b)"
   ]
  },
  {
   "cell_type": "markdown",
   "metadata": {},
   "source": [
    "To check if all elements of a boolean array are `True`, you can use either `numpy.all()` or the `.all()` instance method. Similar for `any`."
   ]
  },
  {
   "cell_type": "code",
   "execution_count": 81,
   "metadata": {},
   "outputs": [
    {
     "data": {
      "text/plain": [
       "True"
      ]
     },
     "execution_count": 81,
     "metadata": {},
     "output_type": "execute_result"
    }
   ],
   "source": [
    "c = (a <= a**b)\n",
    "c.all()"
   ]
  },
  {
   "cell_type": "markdown",
   "metadata": {},
   "source": [
    "### Vectorized functions and vectorization\n",
    "\n",
    "Most mathematical functions implemented in `numpy` act element-wise on arrays. Vectorization is the process of turning a function into one that works element-wise on arrays. For example,"
   ]
  },
  {
   "cell_type": "code",
   "execution_count": 90,
   "metadata": {},
   "outputs": [
    {
     "name": "stdout",
     "output_type": "stream",
     "text": [
      "array([[ 1, -1,  2],\n",
      "       [ 3,  4,  5]])\n"
     ]
    },
    {
     "name": "stderr",
     "output_type": "stream",
     "text": [
      "/Users/yarmola/.local/share/virtualenvs/data_mining-xIzjQ1YQ/lib/python3.7/site-packages/ipykernel_launcher.py:2: RuntimeWarning: invalid value encountered in log\n",
      "  \n"
     ]
    },
    {
     "data": {
      "text/plain": [
       "array([[0.        ,        nan, 0.69314718],\n",
       "       [1.09861229, 1.38629436, 1.60943791]])"
      ]
     },
     "execution_count": 90,
     "metadata": {},
     "output_type": "execute_result"
    }
   ],
   "source": [
    "print(\"a = \", repr(a))\n",
    "np.log(a)"
   ]
  },
  {
   "cell_type": "markdown",
   "metadata": {},
   "source": [
    "**Remark** You can catch such warnings if you need."
   ]
  },
  {
   "cell_type": "code",
   "execution_count": 99,
   "metadata": {},
   "outputs": [
    {
     "name": "stdout",
     "output_type": "stream",
     "text": [
      "Warning: invalid value encountered in log\n"
     ]
    }
   ],
   "source": [
    "import warnings\n",
    "with warnings.catch_warnings() :\n",
    "    warnings.filterwarnings('error')\n",
    "    try :\n",
    "        np.log(a)\n",
    "    except Warning as warn :\n",
    "        print(f\"Warning: {warn}\")"
   ]
  },
  {
   "cell_type": "markdown",
   "metadata": {},
   "source": [
    "Back to vectorization. You can create your own element-wise functions by using `numpy.vectorize`. Here are some examples"
   ]
  },
  {
   "cell_type": "code",
   "execution_count": 102,
   "metadata": {},
   "outputs": [],
   "source": [
    "# bad inv\n",
    "def bad_inv(x) :\n",
    "    if x < 1 : return x**3\n",
    "    else : return 1/x"
   ]
  },
  {
   "cell_type": "code",
   "execution_count": 103,
   "metadata": {},
   "outputs": [
    {
     "ename": "ValueError",
     "evalue": "The truth value of an array with more than one element is ambiguous. Use a.any() or a.all()",
     "output_type": "error",
     "traceback": [
      "\u001b[0;31m---------------------------------------------------------------------------\u001b[0m",
      "\u001b[0;31mValueError\u001b[0m                                Traceback (most recent call last)",
      "\u001b[0;32m<ipython-input-103-8c1d86565fcb>\u001b[0m in \u001b[0;36m<module>\u001b[0;34m\u001b[0m\n\u001b[0;32m----> 1\u001b[0;31m \u001b[0mbad_inv\u001b[0m\u001b[0;34m(\u001b[0m\u001b[0ma\u001b[0m\u001b[0;34m)\u001b[0m\u001b[0;34m\u001b[0m\u001b[0;34m\u001b[0m\u001b[0m\n\u001b[0m",
      "\u001b[0;32m<ipython-input-102-c48fd5026f1a>\u001b[0m in \u001b[0;36mbad_inv\u001b[0;34m(x)\u001b[0m\n\u001b[1;32m      1\u001b[0m \u001b[0;31m# bad inv\u001b[0m\u001b[0;34m\u001b[0m\u001b[0;34m\u001b[0m\u001b[0;34m\u001b[0m\u001b[0m\n\u001b[1;32m      2\u001b[0m \u001b[0;32mdef\u001b[0m \u001b[0mbad_inv\u001b[0m\u001b[0;34m(\u001b[0m\u001b[0mx\u001b[0m\u001b[0;34m)\u001b[0m \u001b[0;34m:\u001b[0m\u001b[0;34m\u001b[0m\u001b[0;34m\u001b[0m\u001b[0m\n\u001b[0;32m----> 3\u001b[0;31m     \u001b[0;32mif\u001b[0m \u001b[0mx\u001b[0m \u001b[0;34m<\u001b[0m \u001b[0;36m1\u001b[0m \u001b[0;34m:\u001b[0m \u001b[0;32mreturn\u001b[0m \u001b[0mx\u001b[0m\u001b[0;34m**\u001b[0m\u001b[0;36m3\u001b[0m\u001b[0;34m\u001b[0m\u001b[0;34m\u001b[0m\u001b[0m\n\u001b[0m\u001b[1;32m      4\u001b[0m     \u001b[0;32melse\u001b[0m \u001b[0;34m:\u001b[0m \u001b[0;32mreturn\u001b[0m \u001b[0;36m1\u001b[0m\u001b[0;34m/\u001b[0m\u001b[0mx\u001b[0m\u001b[0;34m\u001b[0m\u001b[0;34m\u001b[0m\u001b[0m\n",
      "\u001b[0;31mValueError\u001b[0m: The truth value of an array with more than one element is ambiguous. Use a.any() or a.all()"
     ]
    }
   ],
   "source": [
    "bad_inv(a)"
   ]
  },
  {
   "cell_type": "code",
   "execution_count": 104,
   "metadata": {},
   "outputs": [
    {
     "data": {
      "text/plain": [
       "array([[ 1.        , -1.        ,  0.5       ],\n",
       "       [ 0.33333333,  0.25      ,  0.2       ]])"
      ]
     },
     "execution_count": 104,
     "metadata": {},
     "output_type": "execute_result"
    }
   ],
   "source": [
    "# vectorize\n",
    "v_bad_inv = np.vectorize(bad_inv)\n",
    "v_bad_inv(a)"
   ]
  },
  {
   "cell_type": "code",
   "execution_count": 105,
   "metadata": {},
   "outputs": [
    {
     "data": {
      "text/plain": [
       "array([[-14,  17, -28],\n",
       "       [-45, -64, -80]])"
      ]
     },
     "execution_count": 105,
     "metadata": {},
     "output_type": "execute_result"
    }
   ],
   "source": [
    "# a two parameter example\n",
    "def silly_sum(x,y) :\n",
    "    if x < y : return x + 2*y\n",
    "    else : return x - 17*y\n",
    "        \n",
    "v_silly_sum = np.vectorize(silly_sum)\n",
    "v_silly_sum(b,a)"
   ]
  },
  {
   "cell_type": "code",
   "execution_count": 107,
   "metadata": {},
   "outputs": [
    {
     "data": {
      "text/plain": [
       "array([[False,  True, False],\n",
       "       [False, False, False]])"
      ]
     },
     "execution_count": 107,
     "metadata": {},
     "output_type": "execute_result"
    }
   ],
   "source": [
    "# vectorizing and partials\n",
    "from functools import partial\n",
    "def on_ec(a,b,x,y) :\n",
    "    return y**2 == x**3 + a*x + b\n",
    "        \n",
    "v_on_ec = np.vectorize(partial(on_ec,1,1))\n",
    "v_on_ec(b,a)"
   ]
  },
  {
   "cell_type": "markdown",
   "metadata": {},
   "source": [
    "### Broadcasting\n",
    "\n",
    "`numpy` is very clever about how it perfoms binary operations on arrays of difference shapes and dimenions. Here is an example :"
   ]
  },
  {
   "cell_type": "code",
   "execution_count": 108,
   "metadata": {},
   "outputs": [
    {
     "name": "stdout",
     "output_type": "stream",
     "text": [
      "array([[1., 1., 1.],\n",
      "       [1., 1., 1.],\n",
      "       [1., 1., 1.]])\n",
      "array([2, 3, 4])\n",
      "+++++++++++++++++++++++++\n",
      "array([[3., 4., 5.],\n",
      "       [3., 4., 5.],\n",
      "       [3., 4., 5.]])\n"
     ]
    }
   ],
   "source": [
    "a = np.ones((3,3))\n",
    "b = np.array([2,3,4])\n",
    "print(\"a = \", repr(a))\n",
    "print(\"b = \", repr(b))\n",
    "print('+'*25)\n",
    "print(repr(a+b))"
   ]
  },
  {
   "cell_type": "markdown",
   "metadata": {},
   "source": [
    "**Broadcasting** describes how `numpy` works with arrays of different shapes during arithmetic operation. Subject to certain constraints, the smaller array is “broadcast” across the larger array so that they have compatible shapes.\n",
    "\n",
    "<img src=\"numpy_broadcasting.png\" width=100%>"
   ]
  },
  {
   "cell_type": "markdown",
   "metadata": {},
   "source": [
    "### How broadcasting works\n",
    "\n",
    "When operating on two arrays `a` and `b`, `numpy` compares their shape tuples for compatibility. Let `a.shape = ` $(s_n,s_{n-1},...,s_0)$ and `b.shape =` $(t_m,t_{m-1},...,t_0)$. We set $k = max(m,n)$ and if $n < m$, set $s_{n+j} = 1$ or if $m > n$, set $t_{m+j} = 1$ for $1 \\leq j \\leq |m-n|$. We call this **padding** a shaphe on the left.\n",
    "\n",
    "The (padded) shapes are **compatible** if for all $0 \\leq i \\leq k$ one has\n",
    "   * $s_i = t_i$ **or**\n",
    "   * one of $s_i, t_i$ is equal to $1$.\n",
    "   \n",
    "**Notice that we compare from right to left.**\n",
    "\n",
    "Once the shapes are deemed compatible, `numpy` **broadcasts** each array as follows :\n",
    "* if $s_i = 1 < t_i$, then `numpy` makes $t_i$ copies of `a` and **stacks** them along the axis for $s_i$.\n",
    "* similarly for `b` wherever $b_i = 1$.\n",
    "\n",
    "Once each array has been broadcasts, they both have the shape $(\\max(s_k,t_k),..., \\max(s_0,t_0))$.\n",
    "\n",
    "For example,"
   ]
  },
  {
   "cell_type": "code",
   "execution_count": 109,
   "metadata": {},
   "outputs": [
    {
     "name": "stdout",
     "output_type": "stream",
     "text": [
      "array([0, 1, 2, 3])\n",
      "array([[4],\n",
      "       [7],\n",
      "       [9]])\n"
     ]
    }
   ],
   "source": [
    "a = np.arange(4)\n",
    "b = np.array([[4],[7],[9]])\n",
    "print(\"a = \", repr(a))\n",
    "print(\"b = \", repr(b))"
   ]
  },
  {
   "cell_type": "code",
   "execution_count": 110,
   "metadata": {},
   "outputs": [
    {
     "name": "stdout",
     "output_type": "stream",
     "text": [
      "(4,)\n",
      "(3, 1)\n"
     ]
    }
   ],
   "source": [
    "print(a.shape)\n",
    "print(b.shape)"
   ]
  },
  {
   "cell_type": "markdown",
   "metadata": {},
   "source": [
    "We now pad `a.shape` on the left to obtain \n",
    "```\n",
    "a.shape = (1,4)\n",
    "b.shape = (3,1)\n",
    "```\n",
    "We then take $3$ copies of `a` and stack them along the $0$-axis (rows) and $4$ copies of `b` and stack them along the $1$-axis (columns). See the image above."
   ]
  },
  {
   "cell_type": "code",
   "execution_count": 111,
   "metadata": {},
   "outputs": [
    {
     "name": "stdout",
     "output_type": "stream",
     "text": [
      "array([[ 0,  4,  8, 12],\n",
      "       [ 0,  7, 14, 21],\n",
      "       [ 0,  9, 18, 27]])\n",
      "(3, 4)\n"
     ]
    }
   ],
   "source": [
    "c = a*b\n",
    "print(\"c = \", repr(c))\n",
    "print(c.shape)"
   ]
  },
  {
   "cell_type": "markdown",
   "metadata": {},
   "source": [
    "**Remark :** Your vectorized functions will work with broadcasting!"
   ]
  },
  {
   "cell_type": "code",
   "execution_count": 91,
   "metadata": {},
   "outputs": [
    {
     "data": {
      "text/plain": [
       "array([[ 8,  9, 10, 11],\n",
       "       [14, 15, 16, 17],\n",
       "       [18, 19, 20, 21]])"
      ]
     },
     "execution_count": 91,
     "metadata": {},
     "output_type": "execute_result"
    }
   ],
   "source": [
    "v_silly_sum(a,b)"
   ]
  },
  {
   "cell_type": "markdown",
   "metadata": {},
   "source": [
    "### Repeat, tile, broadcast_to, and kron\n",
    "\n",
    "There are several ways of using the data from an array to create new arrays by repetition.\n",
    "   * `np.broadcast_to(A, new_shape)` for a **compatible** shape, this returns a **readonly** version of `A` broadcast to a new shape"
   ]
  },
  {
   "cell_type": "code",
   "execution_count": 112,
   "metadata": {},
   "outputs": [
    {
     "name": "stdout",
     "output_type": "stream",
     "text": [
      "array([0, 1, 2, 3])\n",
      "array([[0, 1, 2, 3],\n",
      "       [0, 1, 2, 3]])\n"
     ]
    }
   ],
   "source": [
    "print(\"a = \", repr(a))\n",
    "\n",
    "x = np.broadcast_to(a,(2,4))\n",
    "\n",
    "print(repr(x))"
   ]
  },
  {
   "cell_type": "markdown",
   "metadata": {},
   "source": [
    "   * `np.repeat(A, repeats, axis = axis_num)` returns a new array with entries of `A` repeated along the axis `axis_num` according to the contents of `repeats`\n",
    "      * `repeats` is an int or array of ints giving the number of repetitions for each element on the axis"
   ]
  },
  {
   "cell_type": "code",
   "execution_count": 113,
   "metadata": {},
   "outputs": [
    {
     "name": "stdout",
     "output_type": "stream",
     "text": [
      "array([[ 0,  4,  8, 12],\n",
      "       [ 0,  7, 14, 21],\n",
      "       [ 0,  9, 18, 27]])\n",
      "array([[ 0,  0,  4,  4,  8,  8, 12, 12],\n",
      "       [ 0,  0,  7,  7, 14, 14, 21, 21],\n",
      "       [ 0,  0,  9,  9, 18, 18, 27, 27]])\n"
     ]
    }
   ],
   "source": [
    "print(\"c = \", repr(c))\n",
    "\n",
    "y = np.repeat(c, 2, axis = 1)\n",
    "\n",
    "print(repr(y))"
   ]
  },
  {
   "cell_type": "code",
   "execution_count": 114,
   "metadata": {},
   "outputs": [
    {
     "name": "stdout",
     "output_type": "stream",
     "text": [
      "array([[ 0,  7, 14, 21],\n",
      "       [ 0,  7, 14, 21],\n",
      "       [ 0,  7, 14, 21],\n",
      "       [ 0,  9, 18, 27]])\n"
     ]
    }
   ],
   "source": [
    "# notice the 0 in [0,3,1] makes that\n",
    "# row vanish\n",
    "z = np.repeat(c, [0,3,1], axis = 0)\n",
    "print(repr(z))"
   ]
  },
  {
   "cell_type": "markdown",
   "metadata": {},
   "source": [
    " * `numpy.tile(A, reps)` construct an array by repeating `A` the number of times given by `reps` in each dimension/axis.\n",
    "      * `reps` is an **list**/array giving the number of repetitions of A along each axis.\n",
    "      * if `reps` has length `d`, the result will have dimension of `max(d, A.ndim)`.\n",
    "      * if `A.ndim < d,` A is promoted to be d-dimensional by prepending new axes. So a shape (3,) array is promoted to (1, 3) for 2-D replication, or shape (1, 1, 3) for 3-D replication.\n",
    "      * if A.ndim > d, `reps` is promoted to length `A.ndim` by prepending 1’s to it. Thus for an `A` of shape `(2, 3, 4, 5)`, a reps of `(2, 2)` is treated as `(1, 1, 2, 2)`."
   ]
  },
  {
   "cell_type": "code",
   "execution_count": 115,
   "metadata": {},
   "outputs": [
    {
     "name": "stdout",
     "output_type": "stream",
     "text": [
      "array([[4],\n",
      "       [7],\n",
      "       [9]])\n",
      "array([[4, 4, 4],\n",
      "       [7, 7, 7],\n",
      "       [9, 9, 9],\n",
      "       [4, 4, 4],\n",
      "       [7, 7, 7],\n",
      "       [9, 9, 9]])\n"
     ]
    }
   ],
   "source": [
    "print(\"b = \", repr(b))\n",
    "\n",
    "# double the rows and\n",
    "# triple the columns\n",
    "q = np.tile(b,(2,3))\n",
    "\n",
    "print(repr(q))"
   ]
  },
  {
   "cell_type": "markdown",
   "metadata": {},
   "source": [
    "   * `numpy.kron(a,b)` returns the **Kronecker product** :  a composite array made of blocks of the second array scaled by the first.\n",
    "      * for 2-dim you get something like :\n",
    "      ```\n",
    "      [[ a[0,0]*b,   a[0,1]*b,  ... , a[0,-1]*b  ],\n",
    "      [  ...                              ...   ],\n",
    "      [ a[-1,0]*b,  a[-1,1]*b, ... , a[-1,-1]*b ]]\n",
    "      ```"
   ]
  },
  {
   "cell_type": "code",
   "execution_count": 116,
   "metadata": {},
   "outputs": [
    {
     "name": "stdout",
     "output_type": "stream",
     "text": [
      "array([[ 1,  3,  0,  0,  0,  0],\n",
      "       [ 5,  4,  0,  0,  0,  0],\n",
      "       [ 0,  0,  2,  6,  0,  0],\n",
      "       [ 0,  0, 10,  8,  0,  0],\n",
      "       [ 0,  0,  0,  0,  3,  9],\n",
      "       [ 0,  0,  0,  0, 15, 12]])\n"
     ]
    }
   ],
   "source": [
    "p = np.array([[1,3],[5,4]])\n",
    "d = np.diag([1,2,3])\n",
    "\n",
    "r = np.kron(d, p)\n",
    "\n",
    "print(\"r = \", repr(r))"
   ]
  },
  {
   "cell_type": "markdown",
   "metadata": {},
   "source": [
    "### Reshaping\n",
    "\n",
    "#### `ravel`\n",
    "It is possible reshape array data to your liking. For example, you can **(un)`ravel`** (or **flatten**) a multi-dimensional array into a one dimensional array. Similar to how you would read off the entries of a matrix."
   ]
  },
  {
   "cell_type": "code",
   "execution_count": 117,
   "metadata": {},
   "outputs": [
    {
     "name": "stdout",
     "output_type": "stream",
     "text": [
      "array([[[ 1,  2,  3],\n",
      "        [ 4,  5,  6]],\n",
      "\n",
      "       [[ 7,  8,  9],\n",
      "        [10, 11, 12]]])\n",
      "array([ 1,  2,  3,  4,  5,  6,  7,  8,  9, 10, 11, 12])\n"
     ]
    }
   ],
   "source": [
    "p = np.array([[1,2,3],[4,5,6]]) + np.array([[[0]],[[6]]])\n",
    "print(repr(p))\n",
    "# read off the entries in lexographic order\n",
    "r = p.ravel()\n",
    "print(\"r = \", repr(r))"
   ]
  },
  {
   "cell_type": "markdown",
   "metadata": {},
   "source": [
    "The order here is **lexographic order** on the indices. In the above example, the order is\n",
    "```\n",
    "(0,0,0)\n",
    "(0,0,1)\n",
    "(0,0,2)\n",
    "(0,1,0)\n",
    "(0,1,1)\n",
    "...\n",
    "```"
   ]
  },
  {
   "cell_type": "markdown",
   "metadata": {},
   "source": [
    "#### `reshape`\n",
    "You can **reshape** an `array` by using\n",
    "   * `A.reshape(new_shape)`\n",
    "   * `numpy.reshape(A, new_shape)`\n",
    "\n",
    "Note that `np.prod(A.shape)` must equal to `np.prod(new_shape)`. Both of there methods **return a \"new\" array object**."
   ]
  },
  {
   "cell_type": "code",
   "execution_count": 118,
   "metadata": {},
   "outputs": [
    {
     "data": {
      "text/plain": [
       "array([[[ 1,  2,  3,  4]],\n",
       "\n",
       "       [[ 5,  6,  7,  8]],\n",
       "\n",
       "       [[ 9, 10, 11, 12]]])"
      ]
     },
     "execution_count": 118,
     "metadata": {},
     "output_type": "execute_result"
    }
   ],
   "source": [
    "p.reshape((3,1,4))"
   ]
  },
  {
   "cell_type": "markdown",
   "metadata": {},
   "source": [
    "Think of the above operation as **unraveling followed by placing the entries into the new shape in order**."
   ]
  },
  {
   "cell_type": "markdown",
   "metadata": {},
   "source": [
    "You can have `numpy` **intuit the rest of `new_shape`** by terminating the shape with `-1`"
   ]
  },
  {
   "cell_type": "code",
   "execution_count": 119,
   "metadata": {},
   "outputs": [
    {
     "data": {
      "text/plain": [
       "array([[ 1,  2,  3],\n",
       "       [ 4,  5,  6],\n",
       "       [ 7,  8,  9],\n",
       "       [10, 11, 12]])"
      ]
     },
     "execution_count": 119,
     "metadata": {},
     "output_type": "execute_result"
    }
   ],
   "source": [
    "p.reshape((4,-1))"
   ]
  },
  {
   "cell_type": "markdown",
   "metadata": {},
   "source": [
    "#### `resize`\n",
    "\n",
    "You can also `resize` arrays, which means to reshape **and** either truncate or pad the entries as necessary. There are two **slightly different** methods for doing this.\n",
    "\n",
    "* `numpy.resize(A, new_shape)` returns a **new** array made by unraveling `A` and filling `new_shape` by **repeatedly cycling through A if necessary**."
   ]
  },
  {
   "cell_type": "code",
   "execution_count": 120,
   "metadata": {},
   "outputs": [
    {
     "name": "stdout",
     "output_type": "stream",
     "text": [
      "array([[[ 1,  2,  3],\n",
      "        [ 4,  5,  6]],\n",
      "\n",
      "       [[ 7,  8,  9],\n",
      "        [10, 11, 12]]])\n"
     ]
    },
    {
     "data": {
      "text/plain": [
       "array([[1, 2, 3],\n",
       "       [4, 5, 6]])"
      ]
     },
     "execution_count": 120,
     "metadata": {},
     "output_type": "execute_result"
    }
   ],
   "source": [
    "print(repr(p))\n",
    "np.resize(p,(2,3))"
   ]
  },
  {
   "cell_type": "code",
   "execution_count": 121,
   "metadata": {},
   "outputs": [
    {
     "data": {
      "text/plain": [
       "array([[ 1,  2,  3,  4,  5,  6,  7,  8,  9, 10],\n",
       "       [11, 12,  1,  2,  3,  4,  5,  6,  7,  8],\n",
       "       [ 9, 10, 11, 12,  1,  2,  3,  4,  5,  6]])"
      ]
     },
     "execution_count": 121,
     "metadata": {},
     "output_type": "execute_result"
    }
   ],
   "source": [
    "np.resize(p,(3,10))"
   ]
  },
  {
   "cell_type": "markdown",
   "metadata": {},
   "source": [
    "* `A.resize(new_shape)` **updates** the contents of `A` to reflect the `new_shape`. If there is not enough entries in `A`, **pads all extra with zero**."
   ]
  },
  {
   "cell_type": "code",
   "execution_count": 122,
   "metadata": {},
   "outputs": [
    {
     "name": "stdout",
     "output_type": "stream",
     "text": [
      "array([[4],\n",
      "       [7],\n",
      "       [9]])\n",
      "array([[4, 7, 9, 0],\n",
      "       [0, 0, 0, 0],\n",
      "       [0, 0, 0, 0],\n",
      "       [0, 0, 0, 0]])\n"
     ]
    }
   ],
   "source": [
    "print(\"b = \", repr(b))\n",
    "b.resize(4,4)\n",
    "print(\"b = \", repr(b))"
   ]
  },
  {
   "cell_type": "markdown",
   "metadata": {},
   "source": [
    "**Warning**. As we will mention in the next section, `numpy` `arrays` don't always **own** their data. `A.resize()` only works for arrays that manage their own data and aren't **views** into other arrays."
   ]
  },
  {
   "cell_type": "markdown",
   "metadata": {},
   "source": [
    "### Dimension shuffling\n",
    "\n",
    "If you want to shuffle the dimensions of your array (i.e. change which axis is which) you can use **`A.transpose`** as follows"
   ]
  },
  {
   "cell_type": "code",
   "execution_count": 123,
   "metadata": {},
   "outputs": [
    {
     "name": "stdout",
     "output_type": "stream",
     "text": [
      "array([[[ 0,  1,  2,  3],\n",
      "        [ 4,  5,  6,  7]],\n",
      "\n",
      "       [[ 8,  9, 10, 11],\n",
      "        [12, 13, 14, 15]],\n",
      "\n",
      "       [[16, 17, 18, 19],\n",
      "        [20, 21, 22, 23]]])\n"
     ]
    }
   ],
   "source": [
    "# note, you can specify the shape\n",
    "# to reshape as a tuple, or arguments\n",
    "a = np.arange(3*2*4).reshape(3,2,4)\n",
    "print(\"a = \", repr(a))"
   ]
  },
  {
   "cell_type": "code",
   "execution_count": 124,
   "metadata": {},
   "outputs": [
    {
     "name": "stdout",
     "output_type": "stream",
     "text": [
      "array([[[ 0,  8, 16],\n",
      "        [ 1,  9, 17],\n",
      "        [ 2, 10, 18],\n",
      "        [ 3, 11, 19]],\n",
      "\n",
      "       [[ 4, 12, 20],\n",
      "        [ 5, 13, 21],\n",
      "        [ 6, 14, 22],\n",
      "        [ 7, 15, 23]]])\n"
     ]
    }
   ],
   "source": [
    "# tranpose using a permutation of\n",
    "# of the axis indexes\n",
    "b = a.transpose(1,2,0)\n",
    "print(\"b = \", repr(b))"
   ]
  },
  {
   "cell_type": "markdown",
   "metadata": {},
   "source": [
    "The short-hand for the **reversed** permutation $(0,1,2, \\ldots,n) \\mapsto (n, n-1, \\ldots, 0)$ is given by `A.T` or `A.transpose()` with no arguments."
   ]
  },
  {
   "cell_type": "code",
   "execution_count": 125,
   "metadata": {},
   "outputs": [
    {
     "name": "stdout",
     "output_type": "stream",
     "text": [
      "array([[0, 1],\n",
      "       [2, 3]])\n",
      "array([[0, 2],\n",
      "       [1, 3]])\n"
     ]
    }
   ],
   "source": [
    "a = np.arange(2*2).reshape(2,2)\n",
    "print(\"a = \", repr(a))\n",
    "print(repr(a.T))"
   ]
  },
  {
   "cell_type": "markdown",
   "metadata": {},
   "source": [
    "For matrices, this is the usual transpose from linear algebra."
   ]
  },
  {
   "cell_type": "markdown",
   "metadata": {},
   "source": [
    "### Slicing and views\n",
    "\n",
    "One can **slice** arrays in a very similar manner to python lists by using \n",
    "\n",
    "`A[start_0 : end_0 : step_0, start_1 : end_1, step_1, ... ]`.\n",
    "\n",
    "<img src=\"numpy_indexing.png\" width=100%>\n",
    "\n",
    "\n",
    "For example :"
   ]
  },
  {
   "cell_type": "code",
   "execution_count": 126,
   "metadata": {},
   "outputs": [
    {
     "name": "stdout",
     "output_type": "stream",
     "text": [
      "array([[ 0,  1,  2,  3],\n",
      "       [ 4,  5,  6,  7],\n",
      "       [ 8,  9, 10, 11],\n",
      "       [12, 13, 14, 15]])\n",
      "array([[2, 3],\n",
      "       [6, 7]])\n"
     ]
    }
   ],
   "source": [
    "a = np.arange(4*4).reshape(4,4)\n",
    "print(\"a = \", repr(a))\n",
    "# just like with lists, we don't\n",
    "# need to include start, end, or step\n",
    "b = a[0:2,2:]\n",
    "print(\"b = \", repr(b))"
   ]
  },
  {
   "cell_type": "code",
   "execution_count": 127,
   "metadata": {},
   "outputs": [
    {
     "name": "stdout",
     "output_type": "stream",
     "text": [
      "array([[ 0,  3],\n",
      "       [ 8, 11]])\n"
     ]
    }
   ],
   "source": [
    "b = a[::2,::3]\n",
    "print(\"b = \", repr(b))"
   ]
  },
  {
   "cell_type": "markdown",
   "metadata": {},
   "source": [
    "**Important** The arrays returned by a slice are **views** into the **data of the original**. Thus, if you **modify the data in a view you modify the original data!**"
   ]
  },
  {
   "cell_type": "code",
   "execution_count": 128,
   "metadata": {},
   "outputs": [
    {
     "name": "stdout",
     "output_type": "stream",
     "text": [
      "array([[17,  3],\n",
      "       [ 8, 11]])\n",
      "array([[17,  1,  2,  3],\n",
      "       [ 4,  5,  6,  7],\n",
      "       [ 8,  9, 10, 11],\n",
      "       [12, 13, 14, 15]])\n"
     ]
    }
   ],
   "source": [
    "b[0,0] = 17\n",
    "print(\"b = \", repr(b))\n",
    "print(\"a = \", repr(a))"
   ]
  },
  {
   "cell_type": "markdown",
   "metadata": {},
   "source": [
    "**Important**. **A lot of other operations (such as broadcast) also share the data with the original!** If you need to modify something, but you aren't sure if data is shared you can check with `numpy.may_share_memory(a,b)`"
   ]
  },
  {
   "cell_type": "code",
   "execution_count": 109,
   "metadata": {},
   "outputs": [
    {
     "data": {
      "text/plain": [
       "True"
      ]
     },
     "execution_count": 109,
     "metadata": {},
     "output_type": "execute_result"
    }
   ],
   "source": [
    "np.may_share_memory(a,b)"
   ]
  },
  {
   "cell_type": "markdown",
   "metadata": {},
   "source": [
    "or you can always just **make a copy** (though you may not want to for efficiency reasons.)"
   ]
  },
  {
   "cell_type": "code",
   "execution_count": 129,
   "metadata": {},
   "outputs": [
    {
     "data": {
      "text/plain": [
       "False"
      ]
     },
     "execution_count": 129,
     "metadata": {},
     "output_type": "execute_result"
    }
   ],
   "source": [
    "c = b.copy()\n",
    "np.may_share_memory(a,c)"
   ]
  },
  {
   "cell_type": "markdown",
   "metadata": {},
   "source": [
    "### Assigning several values at once\n",
    "\n",
    "You can use a view to assign a bunch of values at once :"
   ]
  },
  {
   "cell_type": "code",
   "execution_count": 130,
   "metadata": {},
   "outputs": [
    {
     "name": "stdout",
     "output_type": "stream",
     "text": [
      "array([[17,  1,  2,  3],\n",
      "       [ 4,  5,  6,  7],\n",
      "       [ 8,  9, 10, 11],\n",
      "       [12, 13, 14, 15]])\n",
      "array([[-75,   1,   2, -75],\n",
      "       [  4,   5,   6,   7],\n",
      "       [-75,   9,  10, -75],\n",
      "       [ 12,  13,  14,  15]])\n"
     ]
    }
   ],
   "source": [
    "print(\"a = \", repr(a))\n",
    "b = a[::2,::3]\n",
    "# assign all the same\n",
    "b[:] = -75\n",
    "print(\"a = \", repr(a))"
   ]
  },
  {
   "cell_type": "code",
   "execution_count": 131,
   "metadata": {},
   "outputs": [
    {
     "name": "stdout",
     "output_type": "stream",
     "text": [
      "array([[ 0,  1,  2,  0],\n",
      "       [ 4,  5,  6,  7],\n",
      "       [ 0,  9, 10,  0],\n",
      "       [12, 13, 14, 15]])\n"
     ]
    }
   ],
   "source": [
    "# assign from another array\n",
    "b[:] = np.zeros((2,2))\n",
    "print(\"a = \", repr(a))"
   ]
  },
  {
   "cell_type": "code",
   "execution_count": 132,
   "metadata": {},
   "outputs": [
    {
     "name": "stdout",
     "output_type": "stream",
     "text": [
      "array([[ 57,   1,   2, 180],\n",
      "       [  4,   5,   6,   7],\n",
      "       [ 57,   9,  10, 180],\n",
      "       [ 12,  13,  14,  15]])\n"
     ]
    }
   ],
   "source": [
    "# assign using broadcasing\n",
    "b[:] = np.array([57,180])\n",
    "print(\"a = \", repr(a))"
   ]
  },
  {
   "cell_type": "markdown",
   "metadata": {},
   "source": [
    "## Fancy indexing\n",
    "\n",
    "You can also do some fancy indexing with `numpy.array` that goes beyond slicing. However, **fancy indexing returns copies not views**.\n",
    "\n",
    "### using tuples\n",
    "\n",
    "We can give coordinates for each axis as tuples or lists.\n",
    "\n",
    "For example,"
   ]
  },
  {
   "cell_type": "code",
   "execution_count": 134,
   "metadata": {},
   "outputs": [
    {
     "name": "stdout",
     "output_type": "stream",
     "text": [
      "array([[  57,    1,    2,  180],\n",
      "       [8900,    5,    6,    7],\n",
      "       [  57,    9,   10,  180],\n",
      "       [  12,   13, 8900,   15]])\n",
      "array([8900, 8900])\n",
      "array([[  57,    1,    2,  180],\n",
      "       [8900,    5,    6,    7],\n",
      "       [  57,    9,   10,  180],\n",
      "       [  12,   13, 8900,   15]])\n"
     ]
    }
   ],
   "source": [
    "print(\"a = \", repr(a))\n",
    "\n",
    "b = a[(1,3),(0,2)]\n",
    "\n",
    "print(\"b = \", repr(b))\n",
    "\n",
    "a[(1,3),(0,2)] = 8900\n",
    "\n",
    "print(\"a = \", repr(a))"
   ]
  },
  {
   "cell_type": "markdown",
   "metadata": {},
   "source": [
    "Here is a nice image from our text\n",
    "\n",
    "<img src=\"numpy_fancy_indexing.png\" width=100%>"
   ]
  },
  {
   "cell_type": "markdown",
   "metadata": {},
   "source": [
    "### masks or boolean arrays\n",
    "\n",
    "You can also specify a **boolean array** as the indexes you want as you can see in the image above. Another good example is :"
   ]
  },
  {
   "cell_type": "code",
   "execution_count": 135,
   "metadata": {},
   "outputs": [
    {
     "name": "stdout",
     "output_type": "stream",
     "text": [
      "array([[False, False,  True, False],\n",
      "       [ True,  True, False, False],\n",
      "       [False, False, False, False],\n",
      "       [False, False,  True, False]])\n"
     ]
    }
   ],
   "source": [
    "# this is called a boolean mask\n",
    "t = (a % 3 == 2)\n",
    "print(repr(t))"
   ]
  },
  {
   "cell_type": "code",
   "execution_count": 139,
   "metadata": {},
   "outputs": [
    {
     "name": "stdout",
     "output_type": "stream",
     "text": [
      "a =  array([[  57,    1, 7700,  180],\n",
      "       [7700, 7700,    6,    7],\n",
      "       [  57,    9,   10,  180],\n",
      "       [  12,   13, 7700,   15]])\n",
      "b =  array([7700, 7700, 7700, 7700])\n",
      "a =  array([[  57,    1, 7700,  180],\n",
      "       [7700, 7700,    6,    7],\n",
      "       [  57,    9,   10,  180],\n",
      "       [  12,   13, 7700,   15]])\n"
     ]
    }
   ],
   "source": [
    "print(\"a = \", repr(a))\n",
    "\n",
    "b = a[t]\n",
    "\n",
    "print(\"b = \", repr(b))\n",
    "\n",
    "# you can also use\n",
    "# a[a % 3 == 2] = 7700\n",
    "\n",
    "a[t] = 7700\n",
    "\n",
    "print(\"a = \", repr(a))"
   ]
  },
  {
   "cell_type": "markdown",
   "metadata": {},
   "source": [
    "One can **slice** arrays in a very similar manner to python lists by using \n",
    "\n",
    "`A[start_0 : end_0 : step_0, start_1 : end_1, step_1, ... ]`.\n",
    "\n",
    "<img src=\"numpy_indexing.png\" width=100%>\n",
    "\n",
    "\n",
    "For example :"
   ]
  },
  {
   "cell_type": "code",
   "execution_count": 179,
   "metadata": {},
   "outputs": [
    {
     "name": "stdout",
     "output_type": "stream",
     "text": [
      "a =  array([[ 0,  1,  2,  3],\n",
      "       [ 4,  5,  6,  7],\n",
      "       [ 8,  9, 10, 11],\n",
      "       [12, 13, 14, 15]])\n",
      "b =  array([[2, 3],\n",
      "       [6, 7]])\n"
     ]
    }
   ],
   "source": [
    "import numpy as np\n",
    "\n",
    "a = np.arange(4*4).reshape(4,4)\n",
    "print(\"a = \", repr(a))\n",
    "# just like with lists, we don't\n",
    "# need to include start, end, or step\n",
    "b = a[0:2,2:]\n",
    "print(\"b = \", repr(b))"
   ]
  },
  {
   "cell_type": "code",
   "execution_count": 180,
   "metadata": {},
   "outputs": [
    {
     "name": "stdout",
     "output_type": "stream",
     "text": [
      "b =  array([[ 0,  3],\n",
      "       [ 8, 11]])\n"
     ]
    }
   ],
   "source": [
    "b = a[::2,::3]\n",
    "print(\"b = \", repr(b))"
   ]
  },
  {
   "cell_type": "markdown",
   "metadata": {},
   "source": [
    "**Important**. The arrays returned by a slice are **views** into the **data of the original**. Thus, if you **modify the data in a view you modify the original data!**"
   ]
  },
  {
   "cell_type": "code",
   "execution_count": 45,
   "metadata": {},
   "outputs": [
    {
     "name": "stdout",
     "output_type": "stream",
     "text": [
      "array([[17,  3],\n",
      "       [ 8, 11]])\n",
      "array([[17,  1,  2,  3],\n",
      "       [ 4,  5,  6,  7],\n",
      "       [ 8,  9, 10, 11],\n",
      "       [12, 13, 14, 15]])\n"
     ]
    }
   ],
   "source": [
    "b[0,0] = 17\n",
    "print(\"b = \", repr(b))\n",
    "print(\"a = \", repr(a))"
   ]
  },
  {
   "cell_type": "markdown",
   "metadata": {},
   "source": [
    "**Important**. **A lot of other operations (such as broadcast) also share the data with the original!** If you need to modify something, but you aren't sure if data is shared you can check with `numpy.may_share_memory(a,b)` and `numpy.shares_memory`"
   ]
  },
  {
   "cell_type": "code",
   "execution_count": 46,
   "metadata": {},
   "outputs": [
    {
     "data": {
      "text/plain": [
       "True"
      ]
     },
     "execution_count": 46,
     "metadata": {},
     "output_type": "execute_result"
    }
   ],
   "source": [
    "np.may_share_memory(a,b)"
   ]
  },
  {
   "cell_type": "code",
   "execution_count": 47,
   "metadata": {},
   "outputs": [
    {
     "data": {
      "text/plain": [
       "True"
      ]
     },
     "execution_count": 47,
     "metadata": {},
     "output_type": "execute_result"
    }
   ],
   "source": [
    "np.shares_memory(a,b)"
   ]
  },
  {
   "cell_type": "markdown",
   "metadata": {},
   "source": [
    "or you can always just **make a copy** (though you may not want to for efficiency reasons.)"
   ]
  },
  {
   "cell_type": "code",
   "execution_count": 48,
   "metadata": {},
   "outputs": [
    {
     "data": {
      "text/plain": [
       "False"
      ]
     },
     "execution_count": 48,
     "metadata": {},
     "output_type": "execute_result"
    }
   ],
   "source": [
    "c = b.copy()\n",
    "np.may_share_memory(a,c)"
   ]
  },
  {
   "cell_type": "markdown",
   "metadata": {},
   "source": [
    "### Assigning several values at once"
   ]
  },
  {
   "cell_type": "markdown",
   "metadata": {},
   "source": [
    "You can use a view to assign a bunch of values at once :"
   ]
  },
  {
   "cell_type": "code",
   "execution_count": 49,
   "metadata": {},
   "outputs": [
    {
     "name": "stdout",
     "output_type": "stream",
     "text": [
      "array([[17,  1,  2,  3],\n",
      "       [ 4,  5,  6,  7],\n",
      "       [ 8,  9, 10, 11],\n",
      "       [12, 13, 14, 15]])\n",
      "array([[-75,   1,   2, -75],\n",
      "       [  4,   5,   6,   7],\n",
      "       [-75,   9,  10, -75],\n",
      "       [ 12,  13,  14,  15]])\n"
     ]
    }
   ],
   "source": [
    "print(\"a = \", repr(a))\n",
    "b = a[::2,::3]\n",
    "# assign all the same\n",
    "b[...] = -75\n",
    "print(\"a = \", repr(a))"
   ]
  },
  {
   "cell_type": "code",
   "execution_count": 50,
   "metadata": {},
   "outputs": [
    {
     "name": "stdout",
     "output_type": "stream",
     "text": [
      "array([[ 0,  1,  2,  0],\n",
      "       [ 4,  5,  6,  7],\n",
      "       [ 0,  9, 10,  0],\n",
      "       [12, 13, 14, 15]])\n"
     ]
    }
   ],
   "source": [
    "# assign from another array\n",
    "b[...] = np.zeros((2,2))\n",
    "print(\"a = \", repr(a))"
   ]
  },
  {
   "cell_type": "code",
   "execution_count": 51,
   "metadata": {},
   "outputs": [
    {
     "name": "stdout",
     "output_type": "stream",
     "text": [
      "array([[ 57,   1,   2, 180],\n",
      "       [  4,   5,   6,   7],\n",
      "       [ 57,   9,  10, 180],\n",
      "       [ 12,  13,  14,  15]])\n"
     ]
    }
   ],
   "source": [
    "# assign using broadcasing\n",
    "b[...] = np.array([57,180])\n",
    "print(\"a = \", repr(a))"
   ]
  },
  {
   "cell_type": "markdown",
   "metadata": {},
   "source": [
    "**Remark** Three is a difference between `...`, `:`, and others"
   ]
  },
  {
   "cell_type": "markdown",
   "metadata": {},
   "source": [
    "## Fancy indexing"
   ]
  },
  {
   "cell_type": "markdown",
   "metadata": {},
   "source": [
    "You can also do some fancy indexing with `numpy` `arrays` that goes beyond slicing. However, **fancy indexing returns copies not views**"
   ]
  },
  {
   "cell_type": "markdown",
   "metadata": {},
   "source": [
    "#### masks or boolean arrays\n",
    "\n",
    "You can also specify a **boolean array** as the indexes you want as you can see in the image above. Another good example is :"
   ]
  },
  {
   "cell_type": "code",
   "execution_count": 186,
   "metadata": {},
   "outputs": [
    {
     "name": "stdout",
     "output_type": "stream",
     "text": [
      "array([[False, False,  True, False],\n",
      "       [ True,  True, False, False],\n",
      "       [ True, False, False,  True],\n",
      "       [False, False,  True, False]])\n"
     ]
    }
   ],
   "source": [
    "# this is called a boolean mask\n",
    "t = (a % 3 == 2)\n",
    "print(repr(t))"
   ]
  },
  {
   "cell_type": "code",
   "execution_count": 187,
   "metadata": {},
   "outputs": [
    {
     "name": "stdout",
     "output_type": "stream",
     "text": [
      "a =  array([[   0,    1, 7700,    3],\n",
      "       [8900, 7700,    6,    7],\n",
      "       [7700,    9,   10, 7700],\n",
      "       [  12,   13, 8900,   15]])\n",
      "b =  array([7700, 8900, 7700, 7700, 7700, 8900])\n",
      "a =  array([[   0,    1, 7700,    3],\n",
      "       [7700, 7700,    6,    7],\n",
      "       [7700,    9,   10, 7700],\n",
      "       [  12,   13, 7700,   15]])\n"
     ]
    }
   ],
   "source": [
    "print(\"a = \", repr(a))\n",
    "b = a[t]\n",
    "print(\"b = \", repr(b))\n",
    "# you can also use\n",
    "# a[a % 3 == 2] = 7700\n",
    "a[t] = 7700\n",
    "print(\"a = \", repr(a))"
   ]
  },
  {
   "cell_type": "markdown",
   "metadata": {},
   "source": [
    "### using tuples or lists"
   ]
  },
  {
   "cell_type": "markdown",
   "metadata": {},
   "source": [
    "We can give coordinates for each axis as tuples or lists.\n",
    "\n",
    "For example,"
   ]
  },
  {
   "cell_type": "code",
   "execution_count": 188,
   "metadata": {},
   "outputs": [
    {
     "name": "stdout",
     "output_type": "stream",
     "text": [
      "a =  array([[   0,    1, 7700,    3],\n",
      "       [7700, 7700,    6,    7],\n",
      "       [7700,    9,   10, 7700],\n",
      "       [  12,   13, 7700,   15]])\n",
      "b =  array([7700, 7700])\n",
      "a =  array([[   0,    1, 7700,    3],\n",
      "       [8900, 7700,    6,    7],\n",
      "       [7700,    9,   10, 7700],\n",
      "       [  12,   13, 8900,   15]])\n"
     ]
    }
   ],
   "source": [
    "print(\"a = \", repr(a))\n",
    "b = a[(1,3),[0,2]]\n",
    "print(\"b = \", repr(b))\n",
    "a[(1,3),(0,2)] = 8900\n",
    "print(\"a = \", repr(a))"
   ]
  },
  {
   "cell_type": "markdown",
   "metadata": {},
   "source": [
    "Here is a nice image from our text\n",
    "\n",
    "<img src=\"numpy_fancy_indexing.png\" width=100%>"
   ]
  },
  {
   "cell_type": "markdown",
   "metadata": {},
   "source": [
    "**Remark** Note that `a[(1,2)]` and `a[(1,2),]` are different!"
   ]
  },
  {
   "cell_type": "code",
   "execution_count": 189,
   "metadata": {},
   "outputs": [
    {
     "data": {
      "text/plain": [
       "6"
      ]
     },
     "execution_count": 189,
     "metadata": {},
     "output_type": "execute_result"
    }
   ],
   "source": [
    "# same as a[1,2]\n",
    "a[(1,2)]"
   ]
  },
  {
   "cell_type": "code",
   "execution_count": 190,
   "metadata": {},
   "outputs": [
    {
     "name": "stdout",
     "output_type": "stream",
     "text": [
      "a =  array([[   0,    1, 7700,    3],\n",
      "       [8900, 7700,    6,    7],\n",
      "       [7700,    9,   10, 7700],\n",
      "       [  12,   13, 8900,   15]])\n"
     ]
    },
    {
     "data": {
      "text/plain": [
       "array([[8900, 7700,    6,    7],\n",
       "       [  12,   13, 8900,   15]])"
      ]
     },
     "execution_count": 190,
     "metadata": {},
     "output_type": "execute_result"
    }
   ],
   "source": [
    "print(\"a = \", repr(a))\n",
    "# same as a[(1,2),...]\n",
    "a[(1,3),]"
   ]
  },
  {
   "cell_type": "markdown",
   "metadata": {},
   "source": [
    "### mixing fancy and normal sclicing\n",
    "\n",
    "Notice that we can do the following"
   ]
  },
  {
   "cell_type": "code",
   "execution_count": 191,
   "metadata": {},
   "outputs": [
    {
     "name": "stdout",
     "output_type": "stream",
     "text": [
      "a =  array([[   0,    1, 7700,    3],\n",
      "       [8900, 7700,    6,    7],\n",
      "       [7700,    9,   10, 7700],\n",
      "       [  12,   13, 8900,   15]])\n"
     ]
    },
    {
     "data": {
      "text/plain": [
       "array([[   9, 7700],\n",
       "       [  13,   15]])"
      ]
     },
     "execution_count": 191,
     "metadata": {},
     "output_type": "execute_result"
    }
   ],
   "source": [
    "print(\"a = \", repr(a))\n",
    "a[2:,(1,3)]"
   ]
  },
  {
   "cell_type": "markdown",
   "metadata": {},
   "source": [
    "### Controlling the shape of array returned by fancy indexing\n",
    "\n",
    "For fancy slicing, you can acutally give **arrays** as your indexing set :"
   ]
  },
  {
   "cell_type": "code",
   "execution_count": 58,
   "metadata": {},
   "outputs": [
    {
     "name": "stdout",
     "output_type": "stream",
     "text": [
      "array([[  57,    1, 7700,  180],\n",
      "       [8900, 7700,    6,    7],\n",
      "       [  57,    9,   10,  180],\n",
      "       [  12,   13, 8900,   15]])\n",
      "array([[7700,  180],\n",
      "       [   6,    7],\n",
      "       [8900,   15]])\n"
     ]
    }
   ],
   "source": [
    "print(\"a = \", repr(a))\n",
    "\n",
    "# a (3,1) array\n",
    "rows = np.array([[0],[1],[3]])\n",
    "# a (1,3 array)\n",
    "cols = np.array([2,3])\n",
    "\n",
    "b = a[rows, cols]\n",
    "print(\"b = \", repr(b))"
   ]
  },
  {
   "cell_type": "code",
   "execution_count": 192,
   "metadata": {},
   "outputs": [
    {
     "data": {
      "text/plain": [
       "False"
      ]
     },
     "execution_count": 192,
     "metadata": {},
     "output_type": "execute_result"
    }
   ],
   "source": [
    "np.may_share_memory(a,b)"
   ]
  },
  {
   "cell_type": "markdown",
   "metadata": {},
   "source": [
    "In essense, `numpy` will boradcast your indexing specification."
   ]
  },
  {
   "cell_type": "markdown",
   "metadata": {},
   "source": [
    "### Named slices and special symbols\n",
    "\n",
    "Since slicing can get complicated, we can separate slicing construction and actually taking a slice of an array.\n",
    "\n",
    "The syntax `start:stop:step` is equivalnet to `slice(start,stop,step)`"
   ]
  },
  {
   "cell_type": "code",
   "execution_count": 193,
   "metadata": {},
   "outputs": [
    {
     "name": "stdout",
     "output_type": "stream",
     "text": [
      "a =  array([[   0,    1, 7700,    3],\n",
      "       [8900, 7700,    6,    7],\n",
      "       [7700,    9,   10, 7700],\n",
      "       [  12,   13, 8900,   15]])\n",
      "b =  array([[   3, 7700],\n",
      "       [7700,   10]])\n"
     ]
    }
   ],
   "source": [
    "x_slice = slice(None,3,2)\n",
    "y_slice = slice(3,1,-1)\n",
    "\n",
    "print(\"a = \", repr(a))\n",
    "\n",
    "b = a[x_slice, y_slice]\n",
    "\n",
    "print(\"b = \", repr(b))"
   ]
  },
  {
   "cell_type": "markdown",
   "metadata": {},
   "source": [
    "The symbol `:` is equivalent to `slice(None, None, None)`. So, for example, to get a \"layer\" of a 3 dimensional array we can do :"
   ]
  },
  {
   "cell_type": "code",
   "execution_count": 201,
   "metadata": {},
   "outputs": [
    {
     "name": "stdout",
     "output_type": "stream",
     "text": [
      "a = array([[[ 0,  1,  2,  3],\n",
      "        [ 4,  5,  6,  7],\n",
      "        [ 8,  9, 10, 11]],\n",
      "\n",
      "       [[12, 13, 14, 15],\n",
      "        [16, 17, 18, 19],\n",
      "        [20, 21, 22, 23]]])\n",
      "b =  array([[ 4,  5,  6,  7],\n",
      "       [16, 17, 18, 19]])\n",
      "c =  array([[ 4,  5,  6,  7],\n",
      "       [16, 17, 18, 19]])\n"
     ]
    }
   ],
   "source": [
    "a = np.arange(4*3*2).reshape(2,3,4)\n",
    "all_slice = slice(None, None, None)\n",
    "\n",
    "print(\"a =\", repr(a))\n",
    "\n",
    "b = a[:,1,:]\n",
    "\n",
    "t = (all_slice, 1, all_slice)\n",
    "\n",
    "c = a[t]\n",
    "\n",
    "print(\"b = \", repr(b))\n",
    "print(\"c = \", repr(c))"
   ]
  },
  {
   "cell_type": "markdown",
   "metadata": {},
   "source": [
    "The advantage of this, is that `slice` can be used to consturct things **dynamically**. For example, if I want a layer form a specific axis :"
   ]
  },
  {
   "cell_type": "code",
   "execution_count": 202,
   "metadata": {},
   "outputs": [],
   "source": [
    "def layer(array, axis = 0, idx = 0) :\n",
    "    \"\"\" Returns array[:,:,...., idx, :, :, ....] where idx is in\n",
    "    axis position specified. \"\"\"\n",
    "    all_slice = slice(None, None, None)\n",
    "    t = (all_slice,) * axis + (idx,) + (all_slice,)*(array.ndim - axis - 1)\n",
    "    return array[t]"
   ]
  },
  {
   "cell_type": "code",
   "execution_count": 203,
   "metadata": {},
   "outputs": [
    {
     "data": {
      "text/plain": [
       "array([[ 8,  9, 10, 11],\n",
       "       [20, 21, 22, 23]])"
      ]
     },
     "execution_count": 203,
     "metadata": {},
     "output_type": "execute_result"
    }
   ],
   "source": [
    "layer(a,1,2)"
   ]
  },
  {
   "cell_type": "markdown",
   "metadata": {},
   "source": [
    "### special symbol ...\n",
    "\n",
    "The **ellipsis** (`...`) can be used **once** when slicing an array to **fill** the appropirate number of `:`. For example :"
   ]
  },
  {
   "cell_type": "code",
   "execution_count": 204,
   "metadata": {},
   "outputs": [
    {
     "name": "stdout",
     "output_type": "stream",
     "text": [
      "b =  array([[ 2,  6, 10],\n",
      "       [14, 18, 22]])\n",
      "c =  array([[ 2,  6, 10],\n",
      "       [14, 18, 22]])\n"
     ]
    }
   ],
   "source": [
    "b = a[...,2]\n",
    "\n",
    "c = a[:,:,2]\n",
    "\n",
    "print(\"b = \", repr(b))\n",
    "print(\"c = \", repr(c))"
   ]
  },
  {
   "cell_type": "markdown",
   "metadata": {},
   "source": [
    "### new axis\n",
    "\n",
    "Sometimes it is very useful to insert a new axis into your array. This can be accomplished using `numpy.newaxis`"
   ]
  },
  {
   "cell_type": "code",
   "execution_count": 205,
   "metadata": {},
   "outputs": [
    {
     "name": "stdout",
     "output_type": "stream",
     "text": [
      "a =  array([0, 1, 2, 3])\n",
      "(4,)\n"
     ]
    }
   ],
   "source": [
    "a = np.arange(4)\n",
    "print(\"a = \", repr(a))\n",
    "print(a.shape)"
   ]
  },
  {
   "cell_type": "code",
   "execution_count": 206,
   "metadata": {},
   "outputs": [
    {
     "name": "stdout",
     "output_type": "stream",
     "text": [
      "b =  array([[0],\n",
      "       [1],\n",
      "       [2],\n",
      "       [3]])\n",
      "(4, 1)\n"
     ]
    }
   ],
   "source": [
    "b = a[:, np.newaxis]\n",
    "\n",
    "print(\"b = \", repr(b))\n",
    "print(b.shape)"
   ]
  },
  {
   "cell_type": "code",
   "execution_count": 207,
   "metadata": {},
   "outputs": [
    {
     "name": "stdout",
     "output_type": "stream",
     "text": [
      "(2, 3, 4)\n",
      "(2, 1, 3, 4)\n"
     ]
    }
   ],
   "source": [
    "a = np.arange(4*3*2).reshape(2,3,4)\n",
    "print(a.shape)\n",
    "b = a[:,np.newaxis,...]\n",
    "print(b.shape)"
   ]
  },
  {
   "cell_type": "markdown",
   "metadata": {},
   "source": [
    "**Takeaway**. If you think you should be able to slice an array in a given way, you probably can."
   ]
  },
  {
   "cell_type": "markdown",
   "metadata": {},
   "source": [
    "## Plotting with `matplotlib`"
   ]
  },
  {
   "cell_type": "markdown",
   "metadata": {},
   "source": [
    "Now that we are familiar with `numpy arrays`, we can use them to plot some very basic data.\n",
    "\n",
    "We will use the `matplotlib` module for much of you plotting of data."
   ]
  },
  {
   "cell_type": "code",
   "execution_count": 5,
   "metadata": {},
   "outputs": [
    {
     "data": {
      "image/png": "[encoded data removed]",
      "text/plain": [
       "<Figure size 432x288 with 1 Axes>"
      ]
     },
     "metadata": {
      "needs_background": "light"
     },
     "output_type": "display_data"
    }
   ],
   "source": [
    "import numpy as np\n",
    "from matplotlib import pyplot as plt\n",
    "%matplotlib inline\n",
    "#matplotlib widget\n",
    "\n",
    "x = np.linspace(-np.pi, np.pi, 50, endpoint=True)\n",
    "y = x-x**2\n",
    "\n",
    "plt.plot(x, y) # line plot\n",
    "plt.plot(x, y, '.') # dot plot\n",
    "\n",
    "plt.show()"
   ]
  },
  {
   "cell_type": "code",
   "execution_count": 6,
   "metadata": {},
   "outputs": [
    {
     "data": {
      "image/png": "[encoded data removed]",
      "text/plain": [
       "<Figure size 432x288 with 1 Axes>"
      ]
     },
     "metadata": {
      "needs_background": "light"
     },
     "output_type": "display_data"
    }
   ],
   "source": [
    "f,g = np.sin, np.cos\n",
    "y = f(x)\n",
    "z = g(x)\n",
    "\n",
    "# customized!\n",
    "plt.plot(x, y, color=\"green\",\n",
    "         linewidth=2.0,\n",
    "         linestyle=\"--\",\n",
    "         label = r'$\\sin(x)^2$') # line plot\n",
    "\n",
    "plt.plot(x, z, color=\"red\",\n",
    "         linewidth=2.0,\n",
    "         linestyle=\"-\",\n",
    "         label = r'$\\cos(x)^2$') # line plot\n",
    "\n",
    "# set the x and y limits\n",
    "plt.xlim(-4.0, 4.0)\n",
    "plt.ylim(-1.1, 1.1)\n",
    "\n",
    "# change the tick marks\n",
    "plt.yticks([-1, -1/2, 0,1/2,1])\n",
    "\n",
    "# chane ticks with labels\n",
    "plt.xticks([-np.pi, -np.pi/2, 0, np.pi/2, np.pi],\n",
    "    [r'$-\\pi$',r'$-\\pi/2$',r'$0$',r'$\\pi/2$',r'$\\pi$'])\n",
    "\n",
    "# add a vertical line\n",
    "t = 2 * np.pi / 3\n",
    "plt.plot([t, t], [g(t), f(t)], \n",
    "         color='blue', linewidth=2.0,\n",
    "         linestyle=\":\")\n",
    "\n",
    "# add some points using a scatter plot\n",
    "plt.scatter([t,t],[f(t),g(t)], 30, color='red')\n",
    "\n",
    "# add annotation \n",
    "plt.annotate(r'$\\sin(\\frac{2\\pi}{3})$',\n",
    "             xy=(t, g(t)), xycoords='data',\n",
    "             xytext=(-60,-30), textcoords='offset points',\n",
    "             arrowprops = dict(arrowstyle=\"->\",\n",
    "                               connectionstyle=\"arc3,rad=.4\"))\n",
    "\n",
    "# add a legend\n",
    "plt.legend(loc='upper left')\n",
    "\n",
    "plt.show()"
   ]
  },
  {
   "cell_type": "code",
   "execution_count": 7,
   "metadata": {},
   "outputs": [
    {
     "data": {
      "image/png": "[encoded data removed]",
      "text/plain": [
       "<Figure size 432x288 with 2 Axes>"
      ]
     },
     "metadata": {
      "needs_background": "light"
     },
     "output_type": "display_data"
    }
   ],
   "source": [
    "# we can do images too!\n",
    "image = np.random.rand(50, 50)\n",
    "plt.imshow(image, interpolation='nearest')   \n",
    "plt.colorbar()\n",
    "# we can save our work!\n",
    "# format can be 'svg', 'pdf', 'png', etc\n",
    "plt.savefig('random_color.eps', format='eps')\n",
    "plt.show()"
   ]
  },
  {
   "cell_type": "markdown",
   "metadata": {},
   "source": [
    "**Remark** Note that `pyplot.show()` will clear your drawing \"canvas\", so call `save` before calling `show`. There are also many other ways to save images."
   ]
  },
  {
   "cell_type": "code",
   "execution_count": 12,
   "metadata": {},
   "outputs": [
    {
     "name": "stdout",
     "output_type": "stream",
     "text": [
      "[[0 1]\n",
      " [0 1]]\n",
      "[[2 2]\n",
      " [3 3]]\n"
     ]
    }
   ],
   "source": [
    "# return X and Y coordinates of points in a meshdrid with 0, 1 x-coords and 2,3 y-coords\n",
    "X,Y = np.meshgrid(np.array([0,1]),np.array([2,3]))\n",
    "print(X)\n",
    "print(Y)"
   ]
  },
  {
   "cell_type": "code",
   "execution_count": 13,
   "metadata": {},
   "outputs": [
    {
     "data": {
      "image/png": "[encoded data removed]",
      "text/plain": [
       "<Figure size 432x288 with 1 Axes>"
      ]
     },
     "metadata": {
      "needs_background": "light"
     },
     "output_type": "display_data"
    }
   ],
   "source": [
    "# manually clear canvas\n",
    "plt.clf()\n",
    "N = 1000\n",
    "axis_x = np.linspace(-1,1,N)\n",
    "axis_y = np.linspace(-1,1,N)\n",
    "\n",
    "X,Y = np.meshgrid(axis_x,axis_y)\n",
    "\n",
    "def f(x,y) :\n",
    "    return (np.exp(x + 1j * y)).imag\n",
    "\n",
    "image = f(X,Y)\n",
    "\n",
    "plt.imshow(image, extent=(-1,1,-1,1))    \n",
    "plt.show()"
   ]
  },
  {
   "cell_type": "markdown",
   "metadata": {},
   "source": [
    "**Remark** there are plenty of libraries for plotting complex functions, such as `mpmath`. Above, the color is just a third dimension. Other libraries use color for the imaginary part and brightness for magnitude."
   ]
  },
  {
   "cell_type": "markdown",
   "metadata": {},
   "source": [
    "### Subfigures\n",
    "\n",
    "If you need to arrange several different charts in one place, you can use subfigures. Here is an example."
   ]
  },
  {
   "cell_type": "code",
   "execution_count": 14,
   "metadata": {},
   "outputs": [
    {
     "data": {
      "image/png": "[encoded data removed]",
      "text/plain": [
       "<Figure size 432x288 with 3 Axes>"
      ]
     },
     "metadata": {
      "needs_background": "light"
     },
     "output_type": "display_data"
    }
   ],
   "source": [
    "# the 2 indicates take have the height, \n",
    "# the next 1 indicates take full width\n",
    "# the last 1 indicates piece to choose\n",
    "one = plt.subplot(2, 1, 1)\n",
    "two = plt.subplot(2, 2, 3)\n",
    "three = plt.subplot(2, 2, 4)\n",
    "one.xaxis.set_major_locator(plt.NullLocator())\n",
    "one.yaxis.set_major_locator(plt.NullLocator())\n",
    "\n",
    "x = np.linspace(0.01,1,40)\n",
    "one.plot(x,np.log(x))\n",
    "two.plot(x, x**2)\n",
    "three.plot(x,1+x)\n",
    "\n",
    "plt.show()"
   ]
  },
  {
   "cell_type": "markdown",
   "metadata": {},
   "source": [
    "## Other types of plots\n",
    "\n",
    "`matplotlib` has many other different kinds of plots. You will explore these in the homework.\n",
    "\n",
    "<img src=\"other_plots.png\" >"
   ]
  },
  {
   "cell_type": "code",
   "execution_count": 15,
   "metadata": {},
   "outputs": [
    {
     "data": {
      "image/png": "[encoded data removed]",
      "text/plain": [
       "<Figure size 432x288 with 1 Axes>"
      ]
     },
     "metadata": {
      "needs_background": "light"
     },
     "output_type": "display_data"
    }
   ],
   "source": [
    "from mpl_toolkits.mplot3d import Axes3D\n",
    "\n",
    "fig = plt.figure()\n",
    "ax = Axes3D(fig)\n",
    "x = np.arange(-4, 4, 0.25)\n",
    "y = np.arange(-4, 4, 0.25)\n",
    "X, Y = np.meshgrid(x, y)\n",
    "Z = (np.sin(X) + Y**2)\n",
    "\n",
    "ax.plot_surface(X, Y, Z, \n",
    "                rstride=1, cstride=1, \n",
    "                cmap='coolwarm', linewidth=0.1)\n",
    "plt.show()"
   ]
  },
  {
   "cell_type": "markdown",
   "metadata": {},
   "source": [
    "## Plotting (3D) with Mayavi\n",
    "\n",
    "You can use `matplotlib` for 3D plots for interactive plots, though it currently doesn't play well with `jupyter lab`, so it's not installed in the `Pipfile`. Here are some non-executable examples."
   ]
  },
  {
   "cell_type": "markdown",
   "metadata": {},
   "source": [
    "```python\n",
    "import numpy as np\n",
    "from mayavi import mlab\n",
    "\n",
    "t = np.linspace(0, 20, 200)\n",
    "mlab.plot3d(np.sin(t), np.cos(t), 0.1*t, t)\n",
    "mlab.savefig('spiral.png')\n",
    "```"
   ]
  },
  {
   "cell_type": "markdown",
   "metadata": {},
   "source": [
    "<img src=\"spiral.png\" >"
   ]
  },
  {
   "cell_type": "markdown",
   "metadata": {},
   "source": [
    "```python\n",
    "mlab.clf()\n",
    "# mgrid is like mesh grid but in one line\n",
    "# then 100j means divide in 100 steps insead\n",
    "# of taking steps of size 100\n",
    "X, Y = np.mgrid[-10:10:100j, -10:10:100j]\n",
    "R = np.sqrt(X**2 + Y**2)\n",
    "Z = np.sin(R)/R\n",
    "mlab.surf(Z, warp_scale='auto')\n",
    "mlab.savefig('surface.png')\n",
    "```"
   ]
  },
  {
   "cell_type": "markdown",
   "metadata": {},
   "source": [
    "<img src=\"surface.png\" >"
   ]
  },
  {
   "cell_type": "markdown",
   "metadata": {},
   "source": [
    "## Animations and GIFs\n",
    "\n",
    "There are several tools for making animations, but the easiest one to use might be `moviepy`."
   ]
  },
  {
   "cell_type": "markdown",
   "metadata": {},
   "source": [
    "```python\n",
    "import numpy as np\n",
    "import  moviepy.editor as mpy\n",
    "\n",
    "duration= 2 # duration of the animation in seconds (it will loop)\n",
    "\n",
    "fig_myv = mlab.figure(size=(220,220), bgcolor=(1,1,1))\n",
    "\n",
    "X, Y = np.mgrid[-2:2:200j, -2:2:200j]\n",
    "\n",
    "Z = lambda p : np.sinc(X**2 + Y**2) + np.sin(X + p)\n",
    "\n",
    "def make_frame(t):\n",
    "    mlab.clf() # clear the figure (to reset the colors)\n",
    "    mlab.mesh(Y, X, Z(2 * np.pi * t / duration), figure=fig_myv)\n",
    "    return mlab.screenshot(antialiased=True)\n",
    "\n",
    "animation = mpy.VideoClip(make_frame, duration=duration)\n",
    "animation.write_gif(\"sinc.gif\", fps=20)\n",
    "mlab.close()\n",
    "```"
   ]
  },
  {
   "cell_type": "markdown",
   "metadata": {},
   "source": [
    "<img src=\"sinc.gif\" >"
   ]
  },
  {
   "cell_type": "code",
   "execution_count": 25,
   "metadata": {},
   "outputs": [],
   "source": [
    "# import the game of life step evolution function\n",
    "# from homework code\n",
    "import numpy as np\n",
    "from gof import evolution\n",
    "import  moviepy.editor as mpy\n",
    "\n",
    "board = np.random.randint(2, size=(30,30))\n",
    "num_frames = 30\n",
    "frames = []\n",
    "\n",
    "for _ in range(num_frames) :\n",
    "    board = evolution(board)\n",
    "    frame = np.kron((1-board)*255.0, np.ones((10,10)))\n",
    "    frame = np.repeat(frame[...,np.newaxis], 3, axis = 2)\n",
    "    frames.append(frame)\n",
    "\n",
    "animation = mpy.ImageSequenceClip(frames, fps=2, with_mask = False)\n",
    "animation.write_gif('game_of_life.gif', verbose = False, logger = None)"
   ]
  },
  {
   "cell_type": "markdown",
   "metadata": {},
   "source": [
    "<img src=\"game_of_life.gif\" >"
   ]
  },
  {
   "cell_type": "code",
   "execution_count": null,
   "metadata": {},
   "outputs": [],
   "source": []
  }
 ],
 "metadata": {
  "kernelspec": {
   "display_name": "data_mining",
   "language": "python",
   "name": "data_mining"
  },
  "language_info": {
   "codemirror_mode": {
    "name": "ipython",
    "version": 3
   },
   "file_extension": ".py",
   "mimetype": "text/x-python",
   "name": "python",
   "nbconvert_exporter": "python",
   "pygments_lexer": "ipython3",
   "version": "3.7.4"
  }
 },
 "nbformat": 4,
 "nbformat_minor": 4
}
