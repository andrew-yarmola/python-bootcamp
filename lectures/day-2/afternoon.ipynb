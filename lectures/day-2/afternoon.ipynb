{
 "cells": [
  {
   "cell_type": "markdown",
   "metadata": {},
   "source": [
    "# Python Bootcamp Day 2 Afternoon\n",
    "\n",
    "* Instructor:  Andrew Yarmola [andrew.yarmola@gmail.com](mailto:andrew.yarmola@gmail.com)\n",
    "* Bootcamp files: [github.com/andrew-yarmola/python-bootcamp](https://github.com/andrew-yarmola/python-bootcamp)"
   ]
  },
  {
   "cell_type": "markdown",
   "metadata": {},
   "source": [
    "## Classes\n",
    "\n",
    "So far, we have been mostly using built-in objects available to us from within python itself. Now, we will learn how to use classes to build our own objects. Let's start with a simple example."
   ]
  },
  {
   "cell_type": "code",
   "execution_count": null,
   "metadata": {},
   "outputs": [],
   "source": [
    "class Dog :\n",
    "    # Global class values\n",
    "    breed = 'husky'\n",
    "    tricks = ['sit']\n",
    "    \n",
    "    # instance initialization method\n",
    "    def __init__(self, dog_name) :\n",
    "        self.name = dog_name # <--- just attach a new attribute\n",
    "    \n",
    "    # instance method\n",
    "    def say_name(self) :\n",
    "        print(\"My name is\", self.name)"
   ]
  },
  {
   "cell_type": "markdown",
   "metadata": {},
   "source": [
    "The code above gives a description of how to build an object of type `Dog`. An object is constructed by this class object an **instance** of type `Dog`.\n",
    "\n",
    "Let's explore what we have built. We have defined a general object called `Dog` that describes how to build an **instance** of a dog."
   ]
  },
  {
   "cell_type": "code",
   "execution_count": null,
   "metadata": {},
   "outputs": [],
   "source": [
    "# create a Dog instance\n",
    "my_dog = Dog('Sam')\n",
    "\n",
    "print(type(my_dog))\n",
    "print(my_dog.name)\n",
    "print(my_dog.breed)\n",
    "\n",
    "my_dog.say_name()"
   ]
  },
  {
   "cell_type": "markdown",
   "metadata": {},
   "source": [
    "Above, when we call `Dog('sam')`, we create a new object of type `Dog`. During this creation, python calls the `__init__()` method.\n",
    "\n",
    "Notice the presence of the `self` variable in the function declaration of `__init__`. The keyword `self` references the object **instance** we have just created and **must be included as the first argument of any instance method**."
   ]
  },
  {
   "cell_type": "markdown",
   "metadata": {},
   "source": [
    "#### Instances have local attributes\n",
    "\n",
    "The `name` attribute is an example of a local instance attribute. That is, we can create two different objects of type `Dog` with different names."
   ]
  },
  {
   "cell_type": "code",
   "execution_count": null,
   "metadata": {},
   "outputs": [],
   "source": [
    "other_dog = Dog('jack')\n",
    "print(\"Othwe dog is named\", other_dog.name)\n",
    "\n",
    "# We should probably capitalize the name\n",
    "other_dog.name = 'Jack'\n",
    "other_dog.say_name()\n",
    "\n",
    "# By the way, other_dog knows the same tricks as *all* dogs!\n",
    "print(other_dog.tricks)"
   ]
  },
  {
   "cell_type": "markdown",
   "metadata": {},
   "source": [
    "Notice that above we have **direct access** to the name attribute! Even though the `__init__` method set it to `'jack'`, I redefined it without the object `other_dog` knowing about it."
   ]
  },
  {
   "cell_type": "markdown",
   "metadata": {},
   "source": [
    "#### Class global attributes are shared by everyone\n",
    "The attributes `breed` and `tricks` are **class** variables, which means that if we change them, they changes everywhere."
   ]
  },
  {
   "cell_type": "code",
   "execution_count": null,
   "metadata": {},
   "outputs": [],
   "source": [
    "print(my_dog.breed)\n",
    "Dog.breed = 'terrier' # I change the class!\n",
    "print(my_dog.breed) # but the instance chagnes too!\n",
    "\n",
    "# Similarly, ticks can be modified\n",
    "my_dog.tricks.append('down')\n",
    "print(Dog.tricks)\n",
    "print(other_dog.tricks)"
   ]
  },
  {
   "cell_type": "markdown",
   "metadata": {},
   "source": [
    "### `dir` function\n",
    "\n",
    "The `dir()` function lists the attributes of an object. This can be helpful for inspection."
   ]
  },
  {
   "cell_type": "code",
   "execution_count": null,
   "metadata": {},
   "outputs": [],
   "source": [
    "print(dir(my_dog))"
   ]
  },
  {
   "cell_type": "code",
   "execution_count": null,
   "metadata": {},
   "outputs": [],
   "source": [
    "print(dir(object()))"
   ]
  },
  {
   "cell_type": "markdown",
   "metadata": {},
   "source": [
    "Almost all classes in python are actually derived from `object` and any classes you declare without specifying a base class, will inherit from `object`."
   ]
  },
  {
   "cell_type": "markdown",
   "metadata": {},
   "source": [
    "## Inheritance \n",
    "\n",
    "We can build a derived class very easily with the `class NewClass(Parent)` syntax"
   ]
  },
  {
   "cell_type": "code",
   "execution_count": null,
   "metadata": {},
   "outputs": [],
   "source": [
    "class Terrier(Dog) :\n",
    "    def __init__(self, dog_name) :\n",
    "        super().__init__(dog_name) # <---- This is how you call your parent methods\n",
    "        self.breed = 'terrier'\n",
    "    def is_happy(self) :\n",
    "        return True\n",
    "    \n",
    "terry = Terrier(\"Terry\")\n",
    "\n",
    "print(terry.is_happy())\n",
    "terry.say_name()"
   ]
  },
  {
   "cell_type": "markdown",
   "metadata": {},
   "source": [
    "Notice the call to `super().__init__(*args)`. Be sure to call this method as it is not automatically called for you. Similarly, if you are overloading some method and requite the base class to do something, call `super().base_class_method()`\n",
    "\n",
    "\n",
    "Another example inheriting from `Exception`, which just happens to not be derived from `object`."
   ]
  },
  {
   "cell_type": "code",
   "execution_count": null,
   "metadata": {},
   "outputs": [],
   "source": [
    "class SeriousError(Exception):\n",
    "    pass\n",
    "\n",
    "raise SeriousError"
   ]
  },
  {
   "cell_type": "markdown",
   "metadata": {},
   "source": [
    "### A comment about abstract base classes\n",
    "\n",
    "Python provides a tool for creating **abstract base classes**, which are classes that cannot be instantiated. For example, the below class cannot be instanciated and only exists to be inherited."
   ]
  },
  {
   "cell_type": "code",
   "execution_count": null,
   "metadata": {},
   "outputs": [],
   "source": [
    "from abc import ABC, abstractmethod\n",
    "\n",
    "class Employee(ABC):\n",
    "    def __init__(self, id, name):\n",
    "        self.id = id\n",
    "        self.name = name\n",
    "\n",
    "    @abstractmethod\n",
    "    def calculate_payroll(self):\n",
    "        pass"
   ]
  },
  {
   "cell_type": "code",
   "execution_count": null,
   "metadata": {},
   "outputs": [],
   "source": [
    "employee = Employee(42,'Sam')"
   ]
  },
  {
   "cell_type": "code",
   "execution_count": null,
   "metadata": {},
   "outputs": [],
   "source": [
    "class HourlyEmployee(Employee):\n",
    "    def __init__(self, id, name, hours_worked, hour_rate):\n",
    "        super().__init__(id, name)\n",
    "        self.hours_worked = hours_worked\n",
    "        self.hour_rate = hour_rate\n",
    "\n",
    "    def calculate_payroll(self):\n",
    "        return self.hours_worked * self.hour_rate\n",
    "    \n",
    "employee = HourlyEmployee(42,'Sam', 20, 50)\n",
    "print(employee.calculate_payroll())"
   ]
  },
  {
   "cell_type": "markdown",
   "metadata": {},
   "source": [
    "### Multiple inheritance and MRO\n",
    "\n",
    "Python supports inheriting from multiple object at the same time. First, let's define a few more classes"
   ]
  },
  {
   "cell_type": "code",
   "execution_count": null,
   "metadata": {},
   "outputs": [],
   "source": [
    "class SalaryEmployee(Employee):\n",
    "    def __init__(self, id, name, weekly_salary):\n",
    "        super().__init__(id, name)\n",
    "        self.weekly_salary = weekly_salary\n",
    "\n",
    "    def calculate_payroll(self):\n",
    "        return self.weekly_salary\n",
    "\n",
    "    \n",
    "class Secretary(SalaryEmployee):\n",
    "    def work(self, hours):\n",
    "        print(f'{self.name} expends {hours} hours doing office paperwork.')"
   ]
  },
  {
   "cell_type": "code",
   "execution_count": null,
   "metadata": {},
   "outputs": [],
   "source": [
    "class TemporarySecretary(Secretary, HourlyEmployee):\n",
    "    def __init__(self, id, name, hours_worked, hour_rate):\n",
    "        # what happens if we call super().__init__(*args)?\n",
    "        HourlyEmployee.__init__(self, id, name, hours_worked, hour_rate) \n",
    "\n",
    "    def calculate_payroll(self):\n",
    "        return HourlyEmployee.calculate_payroll(self)"
   ]
  },
  {
   "cell_type": "code",
   "execution_count": null,
   "metadata": {},
   "outputs": [],
   "source": [
    "employee = TemporarySecretary(42,'Sam', 20, 50)\n",
    "print(employee.calculate_payroll())"
   ]
  },
  {
   "cell_type": "markdown",
   "metadata": {},
   "source": [
    "Python allows us to inspect the **method resolution order** (MRO)."
   ]
  },
  {
   "cell_type": "code",
   "execution_count": null,
   "metadata": {},
   "outputs": [],
   "source": [
    "TemporarySecretary.mro()"
   ]
  },
  {
   "cell_type": "markdown",
   "metadata": {},
   "source": [
    " So if we call `super().__init__()` in the delcaration of `TemporarySecretary`, we will actually be calling the `SalaryEmployee.__init__()` method! In the above example, we overwrite by hand the MRO to solve the inherent **diamond problem.**"
   ]
  },
  {
   "cell_type": "markdown",
   "metadata": {},
   "source": [
    "For (much) more on inheritance and the notion of \"compositions\" between objects, see the guide [realpython.com/inheritance-composition-python/](https://realpython.com/inheritance-composition-python/)"
   ]
  },
  {
   "cell_type": "markdown",
   "metadata": {},
   "source": [
    "### Getters, setters, and @property\n",
    "\n",
    "\n",
    "\n"
   ]
  },
  {
   "cell_type": "markdown",
   "metadata": {},
   "source": [
    "If you are working on a project with other people, you may want to protect your classes from tempering by other. Python does not have an explicit notion of public and private attributes. One way to \"hide\" instance variables is to use an `_` before the variable name.\n",
    "\n",
    "Additionally, we will always use the `@property` decorator along with getter and setter methods. This also allows you to make certain checks and control what you return. Here is an example,"
   ]
  },
  {
   "cell_type": "code",
   "execution_count": null,
   "metadata": {},
   "outputs": [],
   "source": [
    "class Dog :\n",
    "    # instance initialization method\n",
    "    def __init__(self, dog_name) :\n",
    "        self.name = dog_name\n",
    "\n",
    "    # Properties\n",
    "    # will be called whenever .name is used\n",
    "    @property\n",
    "    def name(self) :\n",
    "        return self._name\n",
    "    \n",
    "    # will be called whenever .name = value is used\n",
    "    @name.setter\n",
    "    def name(self, dog_name) :\n",
    "        if type(dog_name) is not str :\n",
    "            raise ValueError(\"Dog name must be a string\")\n",
    "        self._name = dog_name.title()\n",
    "    \n",
    "    # instance method\n",
    "    def say_name(self) :\n",
    "        print(\"My name is\", self.name)"
   ]
  },
  {
   "cell_type": "markdown",
   "metadata": {},
   "source": [
    "In the new `Dog` class, whenever we call `.name` we are now using the special function right after the `@property` decorator. As you can see, when setting the name, I am checking the type and case. Let's see how this works."
   ]
  },
  {
   "cell_type": "code",
   "execution_count": null,
   "metadata": {},
   "outputs": [],
   "source": [
    "my_dog = Dog('sam')\n",
    "my_dog.say_name()"
   ]
  },
  {
   "cell_type": "code",
   "execution_count": null,
   "metadata": {},
   "outputs": [],
   "source": [
    "my_dog.name = 1234"
   ]
  },
  {
   "cell_type": "markdown",
   "metadata": {},
   "source": [
    "As you see above, when I try to set the name `my_dog.name = 1234`, my `@name.setter` method is called instead of a direct access to a data attribute!\n",
    "\n",
    "Let's look at a slightly more complicated examples. A class that stores the data of a graph."
   ]
  },
  {
   "cell_type": "code",
   "execution_count": null,
   "metadata": {},
   "outputs": [],
   "source": [
    "class Graph :\n",
    "    def __init__(self, verts, edges) :\n",
    "        self.vertices = verts\n",
    "        self.edges = edges\n",
    "    \n",
    "    @property\n",
    "    def vertices(self) :\n",
    "        # return a *copy* of your internal data\n",
    "        return set(self._vertices)\n",
    "    \n",
    "    @vertices.setter\n",
    "    def vertices(self, verts) :\n",
    "        self._vertices = set(verts)\n",
    "    \n",
    "    @property\n",
    "    def edges(self) :\n",
    "        # return a *copy* of your internal data\n",
    "        return set(self._edges)\n",
    "    \n",
    "    @edges.setter\n",
    "    def edges(self, edges) :\n",
    "        # let's check that edge endpoints are\n",
    "        # in vertices\n",
    "        endpts = set()\n",
    "        for e in edges :\n",
    "            if len(e) != 2 :\n",
    "                raise ValueError(\"Edges must be pairs\")\n",
    "            endpts.update(e)\n",
    "        if not endpts.issubset(self.vertices) :\n",
    "            raise ValueError(\"All edge edpoints must be in vertices\")\n",
    "        self._edges = set(edges)\n",
    "        \n",
    "    def num_components(self) :\n",
    "        \"\"\" Returns the number of connected components. \n",
    "        Note : not efficient \"\"\"\n",
    "        # we will start with giving each vertex it's own *cluster*\n",
    "        # as we go through the edges, we will merge clusters\n",
    "        vert_to_clust = { v : {v}   for v in self.vertices }\n",
    "        for v1,v2 in self.edges :\n",
    "            c1 = vert_to_clust[v1]\n",
    "            c2 = vert_to_clust[v2]\n",
    "            if c1 != c2 :\n",
    "                c1.update(c2)\n",
    "                for v in c2 :\n",
    "                    vert_to_clust[v] = c1\n",
    "        # we must now count the distict sets we have\n",
    "        # in vert_to_clust.values(). \n",
    "        clusters = frozenset(map(frozenset,vert_to_clust.values()))\n",
    "        return len(clusters)"
   ]
  },
  {
   "cell_type": "code",
   "execution_count": null,
   "metadata": {},
   "outputs": [],
   "source": [
    "my_graph = Graph((0,1,2,3), { (0,1), (2, 1) })\n",
    "print(my_graph.edges)\n",
    "print(my_graph.vertices)\n",
    "\n",
    "print('-'*20)\n",
    "\n",
    "print(\"\"\"We can still access the internal data, but good\n",
    "        programmers will not accidentally do that!\\n\"\"\")\n",
    "print(my_graph._vertices)\n",
    "\n",
    "print('-'*20)\n",
    "\n",
    "print(\"\"\"Notice that we are really returning a copy !\\n\"\"\")\n",
    "print(id(my_graph.vertices))\n",
    "print(id(my_graph._vertices))\n",
    "\n",
    "print('-'*20)\n",
    "\n",
    "print(\"\"\"We can see how many connected components there are.\\n\"\"\")\n",
    "print(\"My graph has\" , my_graph.num_components(), \"connected components.\")"
   ]
  },
  {
   "cell_type": "markdown",
   "metadata": {},
   "source": [
    "## Overloading operators"
   ]
  },
  {
   "cell_type": "markdown",
   "metadata": {},
   "source": [
    "You might want to write a class where you can use the operators `+`, `-`, `*`,`/`, `//`, `%`, `pow`, etc. For example, you might want to build a (multiplicative) cyclic group. "
   ]
  },
  {
   "cell_type": "code",
   "execution_count": null,
   "metadata": {},
   "outputs": [],
   "source": [
    "class CyclicGroupElement :\n",
    "    group_order = 10\n",
    "    def __init__(self, power = 1) :\n",
    "        self._power = power % CyclicGroupElement.group_order\n",
    "    def __mul__(self, other) :\n",
    "        new_power = self._power + other._power\n",
    "        return CyclicGroupElement(new_power)\n",
    "    def __repr__(self) :\n",
    "        # return a string showing a human readable description of self\n",
    "        return 'CyclicGroupElement x^{}'.format(self._power)"
   ]
  },
  {
   "cell_type": "code",
   "execution_count": null,
   "metadata": {},
   "outputs": [],
   "source": [
    "a = CyclicGroupElement()\n",
    "b = CyclicGroupElement(3)"
   ]
  },
  {
   "cell_type": "code",
   "execution_count": null,
   "metadata": {},
   "outputs": [],
   "source": [
    "a*b"
   ]
  },
  {
   "cell_type": "code",
   "execution_count": null,
   "metadata": {},
   "outputs": [],
   "source": [
    "print(a*b*b*b*b)"
   ]
  },
  {
   "cell_type": "markdown",
   "metadata": {},
   "source": [
    "Above, I defined functions `__mul__(self, other)` and `__repr__(self)`. As you may have guessed, `__mul__` is the function that is called when I use the multiply command. Notice that since the arguments of `__mul__` are ordered, we can, if we wish, define non-commutative multiplication.\n",
    "\n",
    "The `__repr__` method is used by the `print` function. The return value should always be a string that is an unambiguous representation of your object. If you want something more human readable, implement `__str__`\n",
    "\n",
    "If we try to use any other operators, we will fail :"
   ]
  },
  {
   "cell_type": "code",
   "execution_count": null,
   "metadata": {},
   "outputs": [],
   "source": [
    "a+b"
   ]
  },
  {
   "cell_type": "markdown",
   "metadata": {},
   "source": [
    "Here is a list of **some** operators you know and their corresponding function names. Below, everywhere you see objects `a,b` in the methods you have `self == a` and `other == b`\n",
    "\n",
    "   * `a + b` corresponds to `__add__(self, other)` \n",
    "   * `a - b` corresponds to `__sub__(self, other)`\n",
    "   * `a*b` corresponds to `__mul__(self, other)`\n",
    "   * `a/b` corresponds to `__truediv__(self, other)`\n",
    "   * `a//b` corresponds to `__floordiv__(self, other)`\n",
    "   * `a % b` corresponds to `__mod__(self, other)`\n",
    "   * `divmod(a,b)` corresponds to `__divmod__(self, other)`\n",
    "      * you should have that `divmod(a,b) = (a//b, a % b)` for your implementation\n",
    "   * `a ** b` or `pow(a,b,n)` corresponds to `__pow__(self, other[, modulo])` where `modulo == n`\n",
    "   * `len(a)` corresponds to `__len__(self)` (if your object has some sense of \"length\")\n",
    "   * `a < b` corresponds to `__lt__(self, other)`\n",
    "   * `a <= b` corresponds to `__le__(self, other)`\n",
    "   * `a == b` corresponds to `__eq__(self, other)`\n",
    "   * `a != b` corresponds to `__ne__(self, other)`\n",
    "   * `a > b` corresponds to `__gt__(self, other)`\n",
    "   * `a >= b` corresponds to `__ge__(self, other)`\n",
    "   * `repr(a)` corresponds to `__repr__(self)`\n",
    "      * this is the string you see in your interpreter if you just type `a` followed by ENTER\n",
    "   * `str(a)` corresponds to `__str__(self)`\n",
    "      * this is the string you see when you call `print(a)`\n",
    "\n",
    "You can find a full list at : https://docs.python.org/3/reference/datamodel.html#special-method-names\n",
    "\n",
    "Let's add some more of these to our `CyclicGroupElement` object."
   ]
  },
  {
   "cell_type": "code",
   "execution_count": null,
   "metadata": {},
   "outputs": [],
   "source": [
    "def CyclicGroup(group_order) :\n",
    "    class CyclicGroupElement :\n",
    "        def __init__(self, power = 1) :\n",
    "            assert isinstance(power, int)\n",
    "            self._power = power % self.group_order\n",
    "            \n",
    "        @property\n",
    "        def group_order(self) :\n",
    "            return CyclicGroupElement._group_order\n",
    "        \n",
    "        def __mul__(self, other) :\n",
    "            # so that we don't crash comparing group orders\n",
    "            if not isinstance(other, CyclicGroupElement) :\n",
    "                # this tells python that we can't do the operation\n",
    "                return NotImplemented\n",
    "            return CyclicGroupElement(self._power + other._power)\n",
    "        \n",
    "        def __truediv__(self, other) :\n",
    "            if not isinstance(other, CyclicGroupElement) :\n",
    "                return NotImplemented\n",
    "            return CyclicGroupElement(self._power - other._power)\n",
    "        \n",
    "        def __str__(self) :\n",
    "            return 'x^{}'.format(self._power)\n",
    "        \n",
    "        def __repr__(self) :\n",
    "            return 'CyclicGroupElement x^{}'.format(self._power)\n",
    "    \n",
    "    CyclicGroupElement._group_order = group_order\n",
    "    return CyclicGroupElement\n",
    "    "
   ]
  },
  {
   "cell_type": "code",
   "execution_count": null,
   "metadata": {},
   "outputs": [],
   "source": [
    "# the cyclic group class that lets us build elements\n",
    "C_10 = CyclicGroup(10)\n",
    "\n",
    "# some elements\n",
    "a = C_10(4)\n",
    "b = C_10(12)\n",
    "\n",
    "print(a)\n",
    "print(b)"
   ]
  },
  {
   "cell_type": "code",
   "execution_count": null,
   "metadata": {},
   "outputs": [],
   "source": [
    "a*b"
   ]
  },
  {
   "cell_type": "code",
   "execution_count": null,
   "metadata": {},
   "outputs": [],
   "source": [
    "a/b"
   ]
  },
  {
   "cell_type": "code",
   "execution_count": null,
   "metadata": {},
   "outputs": [],
   "source": [
    "a*2\n",
    "# tries to call a.__mul__(2)\n",
    "# where other == 2, since we return\n",
    "# NotImplemented, we get a TypeError"
   ]
  },
  {
   "cell_type": "markdown",
   "metadata": {},
   "source": [
    "There are several key things we are doing here at the same time. Let us first focus on the `class CyclicGroupElement`. This class tells us how to build, multiply, divide, and represent elements on a cyclic group. Notice that when I write the multiplication or division functions, I am careful to check the type of `other`. The keyword `self` is always guaranteed to be of the correct type, however, we don't know about `other`. The `NotImplemented` keyword tells python that a `TypeError` has occurred because we don't know how to perform the operation.\n",
    "\n",
    "\n",
    "The second key point is the **nesting of a class inside a function**. Let's look at what the function `CyclicGroup(group_order)` actually returns."
   ]
  },
  {
   "cell_type": "code",
   "execution_count": null,
   "metadata": {},
   "outputs": [],
   "source": [
    "repr(CyclicGroup(10))"
   ]
  },
  {
   "cell_type": "markdown",
   "metadata": {},
   "source": [
    "So `CyclicGroup` is the `class CyclicGroupElement`, however, it's a more than that. In fact, every time we call `CyclicGroup(n)` we obtain a **new class (description) object** with the specific condition that `CyclicGroup(n)._group_order == n`. "
   ]
  },
  {
   "cell_type": "code",
   "execution_count": null,
   "metadata": {},
   "outputs": [],
   "source": [
    "C_10 = CyclicGroup(10)\n",
    "C_10_again = CyclicGroup(10)"
   ]
  },
  {
   "cell_type": "code",
   "execution_count": null,
   "metadata": {},
   "outputs": [],
   "source": [
    "id(C_10)"
   ]
  },
  {
   "cell_type": "code",
   "execution_count": null,
   "metadata": {},
   "outputs": [],
   "source": [
    "id(C_10_again)"
   ]
  },
  {
   "cell_type": "markdown",
   "metadata": {},
   "source": [
    " You should literaly think of `G_10` and `G_10_again` as two **different** group of order 10."
   ]
  },
  {
   "cell_type": "code",
   "execution_count": null,
   "metadata": {},
   "outputs": [],
   "source": [
    "a = C_10(4)\n",
    "b = C_10_again(5)\n",
    "a*b"
   ]
  },
  {
   "cell_type": "markdown",
   "metadata": {},
   "source": [
    "The reason we get an error here is that `a` and `b` are in different groups. Programmatically speaking, they are of different types (i.e. instances of different classes). Thus, when in multiple I check `isinstance(other, CyclicGroupElement)` where `other == b`, I get `False`."
   ]
  },
  {
   "cell_type": "code",
   "execution_count": null,
   "metadata": {},
   "outputs": [],
   "source": [
    "type(a) == type(b)"
   ]
  },
  {
   "cell_type": "markdown",
   "metadata": {},
   "source": [
    "Thus, every time we call `CyclicGroup(n)` we get a **new recipe** on how to make `CyclicGroupElement`'s. This is why we can have different groups with different orders and nothing will collide!"
   ]
  },
  {
   "cell_type": "code",
   "execution_count": null,
   "metadata": {},
   "outputs": [],
   "source": [
    "C_127 = CyclicGroup(127)"
   ]
  },
  {
   "cell_type": "markdown",
   "metadata": {},
   "source": [
    "## Writing Packages\n",
    "\n",
    "Packages are simply a collection of modules structured in a way to allow for “dotted module names”. For example, the module `sound.formats` corresponds to a submodule `formats` of package named `sound`. This helps control namespaces, so someone working on `formats` does not need to know what the `sound` namespace looks like.\n",
    "\n",
    "Suppose you want to design a collection of modules handling of sound files and sound data. There are many different sound file formats, so you may need to create and maintain modules for the conversion between the various file formats. You will also want to add modules for different audio processing tasks.\n",
    "\n",
    "Here is a possible structure for your package :\n",
    "\n",
    "```\n",
    "sound/                          Top-level package\n",
    "      __init__.py               Initialize the sound package\n",
    "      formats/                  Subpackage for file format conversions\n",
    "              __init__.py\n",
    "              wavread.py\n",
    "              wavwrite.py\n",
    "              ...\n",
    "      effects/                  Subpackage for sound effects\n",
    "              __init__.py\n",
    "              echo.py\n",
    "              surround.py\n",
    "              ...\n",
    "      filters/                  Subpackage for filters\n",
    "              __init__.py\n",
    "              equalizer.py\n",
    "              karaoke.py\n",
    "              ...\n",
    "tests/                           Tests directory\n",
    "```\n",
    "\n",
    "When importing the package, Python searches through the directories in `sys.path` looking for the package subdirectory.\n",
    "\n",
    "The `__init__.py` files are required to make python treat directories containing the file as packages. This prevents directories with a common name unintentionally hiding valid modules that occur later on the module search path.\n",
    "\n",
    "One can import submodules via \n",
    "\n",
    "```python\n",
    "import sound.effects.echo\n",
    "```\n",
    "\n",
    "In the simplest case, `__init__.py` can just be an empty file. But you can also execute initialization code in `__init__.py` for when your package is imported. For example, the line\n",
    "\n",
    "```python\n",
    "__all__ = [\"effects\", \"filters\"]\n",
    "```\n",
    "\n",
    "will force the `from sounds import formats` to fail and only succeed with `effects` and `filters`.\n",
    "\n",
    "Other options include things like\n",
    "```python\n",
    "import sound.filters as fltrs\n",
    "from .formats import wav_read\n",
    "````\n",
    "where inside the formats module `__init__.py` we have\n",
    "```python\n",
    "import sound.filters as fltrs\n",
    "````\n",
    "\n",
    "Let's take a look at the `sound` module example included in the repository."
   ]
  },
  {
   "cell_type": "markdown",
   "metadata": {},
   "source": [
    "**Upshot**. You should use `__init__.py` to setup the namespace of your package when it is imported. If you don't need anything extra, you can leave it blank.\n",
    "\n",
    "**More about imports**. You can read more about the structure of `import` at [realpython.com/python-modules-packages/](https://realpython.com/python-modules-packages/)\n",
    "\n",
    "**Remark**. There is really not fully agreed upon format to what to put in `__init__.py`. See the following post for a discussion on the matter [pcarleton.com/2016/09/06/python-init/](https://pcarleton.com/2016/09/06/python-init/)"
   ]
  },
  {
   "cell_type": "markdown",
   "metadata": {},
   "source": [
    "### Installable packages\n",
    "\n",
    "Installable packaged that are hosted in repositories are also an option. However, the details are somewhat involved, but essentially you create . See [realpython.com/pypi-publish-python-package/](https://realpython.com/pypi-publish-python-package/) and [docs.python-guide.org/writing/structure/](https://docs.python-guide.org/writing/structure/) for guides and comments.\n"
   ]
  },
  {
   "cell_type": "markdown",
   "metadata": {},
   "source": [
    "## Managing several repositories\n",
    "\n",
    "Since you will  most likely not be creating installable and distributed packages, I would suggest you stick to simple python package and use `git submodule` to track all of your internal dependencies.\n",
    "\n",
    "To use `import`, you will need to add the root module directory to your path using `sys.path.append()` as necessary.\n",
    "\n",
    "If you really need to install a package using `pipenv` form a `git` repository, this can be done with\n",
    "\n",
    "```bash\n",
    "pipenv install -e git+https://github.com/requests/requests.git@v2.20.1#egg=requests\n",
    "```\n",
    "\n",
    "where `#egg=package_name` specifies the package name used by `pipenv`"
   ]
  },
  {
   "cell_type": "markdown",
   "metadata": {},
   "source": [
    "## Scripts\n",
    "\n",
    "Scripts are non-graphical standalone programs for doing a specific task.\n",
    "\n",
    "For example, here are the contents of `three_powers_of_two.py` : a script that prints the first 3 powers of 2.\n",
    "\n",
    "```python\n",
    "#!/usr/bin/env python3\n",
    "\n",
    "def generate_powers() :\n",
    "    return [ 2**x for x in range(3) ]\n",
    "\n",
    "print(\"Global __name__ is :\", __name__)\n",
    "\n",
    "if __name__ == '__main__' :\n",
    "    print(*generate_powers(), sep = '\\n')\n",
    "```"
   ]
  },
  {
   "cell_type": "markdown",
   "metadata": {},
   "source": [
    "Now, if I import this file, nothing will happend except for the fact that I will have `generate_powers` defined."
   ]
  },
  {
   "cell_type": "code",
   "execution_count": null,
   "metadata": {},
   "outputs": [],
   "source": [
    "import three_powers_of_two as tpt"
   ]
  },
  {
   "cell_type": "markdown",
   "metadata": {},
   "source": [
    "As you can see, when importing, the global variable `__name__` is set to the filename.\n",
    "\n",
    "However, if I now go to a console/terminal and **run** the scipt using\n",
    "```bash\n",
    "python3 three_powers_of_two.py\n",
    "```\n",
    "or, because we have `#!/usr/bin/env python3` at the top of the file, we can use\n",
    "```bash\n",
    "./three_powers_of_two.py\n",
    "```\n",
    "\n",
    "You will see the commands in the `if` statement executed.\n",
    "\n",
    "```bash\n",
    "$ ./three_powers_of_two.py \n",
    "Global __name__ is : __main__\n",
    "1\n",
    "2\n",
    "4\n",
    "```"
   ]
  },
  {
   "cell_type": "markdown",
   "metadata": {},
   "source": [
    "So a script can be used both as a module and a tool. However, a program isn't very useful is you can't give it input."
   ]
  },
  {
   "cell_type": "markdown",
   "metadata": {},
   "source": [
    "### Arguments and Options\n",
    "\n",
    "The standard way to pass arguments to a script is to give a space separated list after the command call :\n",
    "\n",
    "```bash\n",
    "python three_powers_of_two.py arg1 arg2\n",
    "```\n",
    "\n",
    "To read the aguemnts in, we will use the `sys` module's `sys.argv` attribute. We update our `three_powers_of_two_new.py` with : \n",
    "\n",
    "```python\n",
    "#!/usr/bin/env python3\n",
    "\n",
    "import sys\n",
    "\n",
    "def generate_powers() :\n",
    "    return [ 2**x for x in range(3) ]\n",
    "\n",
    "if __name__ == '__main__' :\n",
    "\n",
    "    print(sys.argv)\n",
    "    \n",
    "    print(*generate_powers(), sep = '\\n')\n",
    "```"
   ]
  },
  {
   "cell_type": "markdown",
   "metadata": {},
   "source": [
    "When we run this using the above command in a terminal, we will see :\n",
    "```bash\n",
    "$ python three_powers_of_two.py arg1 arg2\n",
    "['three_powers_of_two.py', 'arg1', 'arg2']\n",
    "1\n",
    "2\n",
    "4\n",
    "```\n",
    "In particular, `sys.argv` is a list that starts with the **name** of the program and then gives **all space separated arugments**.\n",
    "\n",
    "**Remark** if you need to have a space in an arugment, you can use (double) quatition marks :\n",
    "```bash\n",
    "$ python three_powers_of_two.py arg1 \"arg2 with a space\"\n",
    "['three_powers_of_two.py', 'arg1', 'arg2 with a space']\n",
    "1\n",
    "2\n",
    "4\n",
    "```\n",
    "\n",
    "Let us make a slightly more useful script `count_vowels.py` that counts vowels in a file"
   ]
  },
  {
   "cell_type": "markdown",
   "metadata": {},
   "source": [
    "```python\n",
    "#!/usr/bin/env python3\n",
    "\n",
    "import sys\n",
    "\n",
    "def vowels_in_string(data) :\n",
    "    return { v : data.count(v) for v in 'aeiou' }\n",
    "\n",
    "if __name__ == '__main__' :\n",
    "    if len(sys.argv) < 2 :\n",
    "        print(\"Usage: python count_vowels.py file\")\n",
    "        sys.exit(2)\n",
    "        \n",
    "    file_name = sys.argv[1]\n",
    "\n",
    "    with open(file_name, 'r') as fp :\n",
    "        data = fp.read()\n",
    "        print(vowels_in_string(data))\n",
    "```"
   ]
  },
  {
   "cell_type": "markdown",
   "metadata": {},
   "source": [
    "Notice that I am doing minimal input checking. This allows me to both inform the user how to use the program and also to check for bad input.\n",
    "\n",
    "We can run out program to get :\n",
    "```bash\n",
    "$ python count_vowels.py \"morning.ipynb\"\n",
    "{'u': 5197, 'a': 5898, 'i': 5305, 'o': 4934, 'e': 6094}\n",
    "```"
   ]
  },
  {
   "cell_type": "markdown",
   "metadata": {},
   "source": [
    "### Options and `getopt`\n",
    "\n",
    "Using `sys.argv` gives us only **positional** arguments for our program. There is a better way using the `getopt` modules. The idea is to specify a **flag** or **keyword** using a `-` or `--` prefix. We would like to do something like this : \n",
    "\n",
    "```bash\n",
    "./hanoi_gif.py -v --d 4 --fps 4 awesome_hanoi_4.gif\n",
    "```\n",
    "\n",
    "Let's see a simple example fo how `getopt` works"
   ]
  },
  {
   "cell_type": "code",
   "execution_count": null,
   "metadata": {},
   "outputs": [],
   "source": [
    "import getopt\n",
    "\n",
    "argv_list = '-v -d 4 --fps 5 -w something --write nothing arg1 arg2 arg3'.split()\n",
    "\n",
    "opts, args = getopt.getopt(argv_list, 'vd:w:',\n",
    "                           ['verbose', 'disk=', 'fps=', 'write='])\n",
    "\n",
    "print(opts)\n",
    "print(args)"
   ]
  },
  {
   "cell_type": "markdown",
   "metadata": {},
   "source": [
    "As you can see there are **three** types of options/arguments here. The key thing to understand is the line\n",
    "```python\n",
    "opts, args = getopt.getopt(argv_list, 'vd:w:',\n",
    "                           ['verbose', 'disk=', 'fps=', 'write='])\n",
    "```\n",
    "The string `'vd:w:'` indicates how to parse **single letter** options preceded by a `-` symbol. While the list `['verbose', 'disk=', 'fps=', 'write=']` indicates how to parse **keyword** options preceded by a `--` symbol\n",
    "\n",
    "The options here are :\n",
    "* **flags** : these are the `-v` or `--verbose` options\n",
    "   * they have no value, their **presence** is all you need\n",
    "   * they are declared by a letter **without** a colon or a word **without** an `=`\n",
    "\n",
    "* **keyword arguments** : these are the `-d`,`-w`, `--disks`, `--write`, and `--fps` options\n",
    "   * they require a value to follow them when calling the program\n",
    "   * their declaration is followed by a colon after a letter or an `=` after a keyword\n",
    "   \n",
    "* **positional arguments** : there are `arg1`, `arg2`, and `arg3`\n",
    "   * must **follow** all flag and keyword arguments\n",
    "   \n",
    "When `getopt.getopt` parses `argv_list`, it returns a **list of tuples** and a **list of strings**. The list of tuples is map of options to their values and the list of strings is the list of positional arguments."
   ]
  },
  {
   "cell_type": "markdown",
   "metadata": {},
   "source": [
    "To apply this to function arguments, we simply need to call `getopt` on `sys.argv[1:]` (dropping the program name).\n",
    "\n",
    "We can now implement a `hanoi_gif.py` containing the following code. Pay close attention to how I interpret the contents of `opts` and `args`."
   ]
  },
  {
   "cell_type": "code",
   "execution_count": null,
   "metadata": {},
   "outputs": [],
   "source": [
    "%cat hanoi_gif.py"
   ]
  }
 ],
 "metadata": {
  "kernelspec": {
   "display_name": "Python 3",
   "language": "python",
   "name": "python3"
  },
  "language_info": {
   "codemirror_mode": {
    "name": "ipython",
    "version": 3
   },
   "file_extension": ".py",
   "mimetype": "text/x-python",
   "name": "python",
   "nbconvert_exporter": "python",
   "pygments_lexer": "ipython3",
   "version": "3.7.4"
  }
 },
 "nbformat": 4,
 "nbformat_minor": 4
}
