{
 "cells": [
  {
   "cell_type": "markdown",
   "metadata": {},
   "source": [
    "# Python Bootcamp Day 2 Morning\n",
    "\n",
    "* Instructor:  Andrew Yarmola [andrew.yarmola@gmail.com](mailto:andrew.yarmola@gmail.com)\n",
    "* Bootcamp files: [github.com/andrew-yarmola/python-bootcamp](https://github.com/andrew-yarmola/python-bootcamp)"
   ]
  },
  {
   "cell_type": "markdown",
   "metadata": {},
   "source": [
    "## Goals for today\n",
    "\n",
    "Experience a much of the fancy function concepts as possible. Learn about classes, and a little bit about module layouts."
   ]
  },
  {
   "cell_type": "markdown",
   "metadata": {},
   "source": [
    "## Comments and Remarks\n",
    "\n",
    "### String and Bytes literals\n",
    "\n",
    "If you ever see strings declared as `r'some raw string'`, knot that the `r` prefix will force the string to be treated as a **raw string**, meaning any character escaping such as `\\n` is ignored.\n",
    "\n",
    "The string `r\"\\n\"` is just the two character, `'\\'` and `'n'`. The string `\"\\n\"` is, however, just the new line character.\n",
    "\n",
    "We already saw the `f` prefix, which stands for **formatted** strings\n",
    "\n",
    "Lastly, if you end up working with byte arrays, know that `b'Hello'` is a **byte** type. You can generate byte literals from strings with `.encode()`"
   ]
  },
  {
   "cell_type": "code",
   "execution_count": null,
   "metadata": {},
   "outputs": [],
   "source": [
    "\"Hello\".encode('utf-8')"
   ]
  },
  {
   "cell_type": "code",
   "execution_count": null,
   "metadata": {},
   "outputs": [],
   "source": [
    "a = b'\\x7fELF\\x01\\x01\\x01\\0' # with hex escaping\n",
    "b = br'\\x7fELF\\x01\\x01\\x01\\0' # raw bytes, so no hex escaping\n",
    "\n",
    "print(int.from_bytes(a, 'big'))\n",
    "print(int.from_bytes(b, 'big'))"
   ]
  },
  {
   "cell_type": "markdown",
   "metadata": {},
   "source": [
    "### Regular Expressions\n",
    "\n",
    "The regular expressions module `re` is part of the standard python library. It can be quite useful for complex parsing tasks.\n",
    "\n",
    "See https://docs.python.org/3/howto/regex.html for a rather high level guide.\n",
    "\n",
    "Some basic examples can be found below. Notice the use of raw string to help us avoid having to escape backslashes"
   ]
  },
  {
   "cell_type": "code",
   "execution_count": null,
   "metadata": {},
   "outputs": [],
   "source": [
    "import re\n",
    "\n",
    "text = \"He was carefully disguised but captured quickly by police.\"\n",
    "for m in re.finditer(r'\\w+ly', text) : # can also use .findall()\n",
    "    # m is Match object\n",
    "    print('{:2d}-{:2d}: {}'.format(m.start(), m.end(), m.group(0)))"
   ]
  },
  {
   "cell_type": "code",
   "execution_count": null,
   "metadata": {},
   "outputs": [],
   "source": [
    "match = re.match(r'.*\\((.*?),(.*?)\\)', \"The point (42,2)\")\n",
    "if match :\n",
    "    print(match.groups())"
   ]
  },
  {
   "cell_type": "markdown",
   "metadata": {},
   "source": [
    "One can also `.compile()` regular expressions into an option for re-use within your code. For example,"
   ]
  },
  {
   "cell_type": "code",
   "execution_count": null,
   "metadata": {},
   "outputs": [],
   "source": [
    "pattern = re.compile(r'[a-z]+', re.IGNORECASE)\n",
    "\n",
    "print(pattern.match(\"\"))\n",
    "print(pattern.match(\"Some word\"))"
   ]
  },
  {
   "cell_type": "markdown",
   "metadata": {},
   "source": [
    "## Another example\n",
    "\n",
    "There are `n` cells lined up in a row. Each cell can be either active (`1`) or inactive (`0`). Each day, if the two neighbors on either side are both active or both inactive, the cell becomes inactive. Otherwise, it will become active. The cells at the ends are considered to have a constant inactive cell on the unoccupied side. Note, the state of each cell only depends on the previous day, not current day updates.\n",
    "\n",
    "Write a function ``cell_compete`` that takes the current state and the number of days and computes the new state.\n"
   ]
  },
  {
   "cell_type": "code",
   "execution_count": null,
   "metadata": {},
   "outputs": [],
   "source": [
    "# Find what's wrong with this code\n",
    "def cell_compete(states, days) :\n",
    "    \"\"\" Run cell competition for several days \"\"\"\n",
    "    ext_states = [0] + states + [0] \n",
    "    new_states = [0] * len(ext_states)\n",
    "    for _ in range(days) :\n",
    "        for i in range(1,1+len(states)) :\n",
    "            if ext_states[i-1] == ext_states[i+1] :\n",
    "                new_states[i] = 0 \n",
    "            else :\n",
    "                new_states[i] = 1\n",
    "        ext_states = new_states\n",
    "    return ext_states[1:1+len(states)]"
   ]
  },
  {
   "cell_type": "code",
   "execution_count": null,
   "metadata": {},
   "outputs": [],
   "source": [
    "cell_compete([1,0,0,0],2)"
   ]
  },
  {
   "cell_type": "markdown",
   "metadata": {},
   "source": [
    "## Tuple unpacking\n",
    "\n",
    "When a function returns a `tuple`, you can actually read in the output to different variable names. Here is an example."
   ]
  },
  {
   "cell_type": "code",
   "execution_count": null,
   "metadata": {},
   "outputs": [],
   "source": [
    "import math\n",
    "\n",
    "def float_repr(x) :\n",
    "    \"\"\" Given a float x, returns a pair of ints (c,q)\n",
    "    such that x = c*2**q exactly. \"\"\" \n",
    "    # if a function returns a tuple, you can read off\n",
    "    # the multiple inputs using this syntax\n",
    "    m, n = x.as_integer_ratio()\n",
    "    q_minus =  math.log(n,2)\n",
    "    if q_minus < 0 :\n",
    "        raise RuntimeError(\"Unexpected denominator in float.as_integer_ratio().\")\n",
    "    return (m,-q_minus)"
   ]
  },
  {
   "cell_type": "code",
   "execution_count": null,
   "metadata": {},
   "outputs": [],
   "source": [
    "c, q = float_repr(1.3)\n",
    "print(c)\n",
    "print(q)"
   ]
  },
  {
   "cell_type": "markdown",
   "metadata": {},
   "source": [
    "The element order is important here. So carefully read what the function outputs before you use it. Sometimes, it also reads well to evaluate multiple things in one line."
   ]
  },
  {
   "cell_type": "code",
   "execution_count": null,
   "metadata": {},
   "outputs": [],
   "source": [
    "def int_sqrt(n) :\n",
    "    \"\"\" If n > 0, returns the largest x with x**2 <= n. \"\"\"\n",
    "    assert n > 0\n",
    "    # smallest integer less than or equal to n\n",
    "    m = int(n)\n",
    "    # We use Newton's method for the function\n",
    "    # f(x) = x^2 - n. We start with x_0 = int(n)+1, and apply\n",
    "    # x_{k+1} = x_k - f(x_k)/f'(x_k) = (x_k + n/x_k)/2\n",
    "    prev, curr = 0, m\n",
    "    while True:\n",
    "        prev, curr = curr, (curr + m // curr) // 2\n",
    "        # Notice that (curr + n//curr) // 2 is at most\n",
    "        # 1 less than (curr + n/curr)/2.\n",
    "        # Thus, by convexity, the first time we are\n",
    "        # f(curr) is negative, we have out answer\n",
    "        if curr**2 <= m :\n",
    "            return curr"
   ]
  },
  {
   "cell_type": "markdown",
   "metadata": {},
   "source": [
    "If you want to ignore all but the first few return values of a function, you can use a dummy variable name. You can chose that name to be anything you want, just keep it consistent."
   ]
  },
  {
   "cell_type": "code",
   "execution_count": null,
   "metadata": {},
   "outputs": [],
   "source": [
    "x = 6.6\n",
    "numerator, _ = x.as_integer_ratio()\n",
    "# above, the _ acts a dummy varaible name,\n",
    "# but you can use any variable name you choose\n",
    "print(numerator)"
   ]
  },
  {
   "cell_type": "markdown",
   "metadata": {},
   "source": [
    "### Unpacking data using `*` notation\n",
    "You can use the `*`-notation to **unpack** return values of function (or any tuple). For example,"
   ]
  },
  {
   "cell_type": "code",
   "execution_count": null,
   "metadata": {},
   "outputs": [],
   "source": [
    "a = [1,2,3,4,5]\n",
    "b = [4,5,6,7,8,9]\n",
    "\n",
    "def mult_2(x,y) :\n",
    "    return x*y\n",
    "\n",
    "print(tuple(map(mult_2,a,b)))\n",
    "\n",
    "first, *middle, last = tuple(map(mult_2,a,b))\n",
    "\n",
    "print(first)\n",
    "print(middle)\n",
    "print(last)"
   ]
  },
  {
   "cell_type": "markdown",
   "metadata": {},
   "source": [
    "## Function arguments \\* and \\*\\* notation\n",
    "\n",
    "In python, it is possible to have function that takes arbitrarily many arguments. For example, we can call `map` in many different ways."
   ]
  },
  {
   "cell_type": "code",
   "execution_count": null,
   "metadata": {},
   "outputs": [],
   "source": [
    "def mult_3(a,b,c) :\n",
    "    return a*b*c\n",
    "\n",
    "c = [9,8,7]\n",
    "\n",
    "map_mult_2 = map(mult_2,a,b)\n",
    "map_mult_3 = map(mult_3,a,b,c)\n",
    "\n",
    "print(tuple(map_mult_2))\n",
    "print(tuple(map_mult_3))"
   ]
  },
  {
   "cell_type": "markdown",
   "metadata": {},
   "source": [
    "#### Calling functions using `*` notation\n",
    "\n",
    "We can also pass an iterable object as arguments to a function by using the `*`-notation. For example,"
   ]
  },
  {
   "cell_type": "code",
   "execution_count": null,
   "metadata": {},
   "outputs": [],
   "source": [
    "d = [5,4]\n",
    "print(mult_2(*d))"
   ]
  },
  {
   "cell_type": "code",
   "execution_count": null,
   "metadata": {},
   "outputs": [],
   "source": [
    "map_over = (a,b,c)\n",
    "\n",
    "print(map_over)\n",
    "\n",
    "result = map(mult_3,*map_over) # same as map(mult_3,a,b,c)\n",
    "print(tuple(result))"
   ]
  },
  {
   "cell_type": "markdown",
   "metadata": {},
   "source": [
    "### Defining functions with `*`-notation\n",
    "You can define functions with this behavior yourself using the `*`-notation. Here is an example"
   ]
  },
  {
   "cell_type": "code",
   "execution_count": null,
   "metadata": {
    "scrolled": true
   },
   "outputs": [],
   "source": [
    "def print_args(*args) :\n",
    "    # Now the variable args contains a list of\n",
    "    # the input arguments!\n",
    "    print(args)\n",
    "        \n",
    "print_args(1,2)\n",
    "print('-'*10)\n",
    "print_args('x','y','z')"
   ]
  },
  {
   "cell_type": "markdown",
   "metadata": {},
   "source": [
    "You can also combine this with placement and keyword/optional arguments. For example,"
   ]
  },
  {
   "cell_type": "code",
   "execution_count": null,
   "metadata": {},
   "outputs": [],
   "source": [
    "def print_fancy_args(prefix, *data, suffix = None) :\n",
    "    for a in data :\n",
    "        print(prefix, a, suffix)\n",
    "        \n",
    "\n",
    "print_fancy_args('x',3,4,'a', 'k', suffix = 'y')\n",
    "print('-'*10)\n",
    "# Notice what happens when I don't use a keyword\n",
    "print_fancy_args('x',3,4)\n",
    "print('-'*10)\n",
    "# Notice what happens when I don't use a keyword\n",
    "print_fancy_args('x',3,4,'y')"
   ]
  },
  {
   "cell_type": "markdown",
   "metadata": {},
   "source": [
    "**Warning**. Don't forget that keyword arguments must come **after all positional arguments**. This remains true for `*`-notation."
   ]
  },
  {
   "cell_type": "markdown",
   "metadata": {},
   "source": [
    "#### Requiring keyword arguments without defaults\n",
    "\n",
    "It might happen that you want to require some keyword arguments in your code, here is the simple way to do that"
   ]
  },
  {
   "cell_type": "code",
   "execution_count": null,
   "metadata": {},
   "outputs": [],
   "source": [
    "def do_stuff(*, required_keyword) :\n",
    "    print(required_keyword)"
   ]
  },
  {
   "cell_type": "code",
   "execution_count": null,
   "metadata": {},
   "outputs": [],
   "source": [
    "do_stuff(required_keyword = \"hello\")"
   ]
  },
  {
   "cell_type": "code",
   "execution_count": null,
   "metadata": {},
   "outputs": [],
   "source": [
    "do_stuff(1,2, required_keyword = None)"
   ]
  },
  {
   "cell_type": "code",
   "execution_count": null,
   "metadata": {},
   "outputs": [],
   "source": [
    "# the * doesn't eat extra positional arguments\n",
    "do_stuff(1, 2, 4, required_keyword = None)"
   ]
  },
  {
   "cell_type": "code",
   "execution_count": null,
   "metadata": {},
   "outputs": [],
   "source": [
    "# if you need to absorb positonal args use *var_name\n",
    "def do_stuff_v2(arg1, arg2, *rest, required_keyword, another_required, not_requred = '|') :\n",
    "    print(arg1, arg2, required_keyword, rest, not_requred)"
   ]
  },
  {
   "cell_type": "code",
   "execution_count": null,
   "metadata": {},
   "outputs": [],
   "source": [
    "do_stuff_v2(1, 2, 4, 4, 5, 6)"
   ]
  },
  {
   "cell_type": "code",
   "execution_count": null,
   "metadata": {},
   "outputs": [],
   "source": [
    "do_stuff_v2(*(1, 2, 3, 4, 5, 6), required_keyword = 'hello', another_required = 'bye')"
   ]
  },
  {
   "cell_type": "markdown",
   "metadata": {},
   "source": [
    "#### Defining functions with `**`-notation\n",
    "\n",
    "It is also possible to group together keyword/optional arguments into a dictionary object. Here is an example,"
   ]
  },
  {
   "cell_type": "code",
   "execution_count": null,
   "metadata": {},
   "outputs": [],
   "source": [
    "def print_args(req1,req2,*args, requ_kw, kw1 = None, **kwargs) :\n",
    "        print(req1)\n",
    "        print(req2)\n",
    "        print(args)\n",
    "        print(kw1)\n",
    "        print(kwargs)\n",
    "\n",
    "print_args(1,2,3,4,5, requ_kw = 'something', b = 'x', a = 'y', c = 'z')"
   ]
  },
  {
   "cell_type": "markdown",
   "metadata": {},
   "source": [
    "The `**kwargs` must always come **after** `*args`, as with positional and keyword arguments in general."
   ]
  },
  {
   "cell_type": "markdown",
   "metadata": {},
   "source": [
    "#### Calling functions using `**` notation\n",
    "\n",
    "We can also pass a dictionary object with **string** keys as arguments to a function by using the `**`-notation. For example,"
   ]
  },
  {
   "cell_type": "code",
   "execution_count": null,
   "metadata": {},
   "outputs": [],
   "source": [
    "def mult_2(a = 0, b = 0) :\n",
    "    return a*b\n",
    "\n",
    "d = { 'a' : 2, 'b' :3 }\n",
    "\n",
    "print(mult_2(**d))"
   ]
  },
  {
   "cell_type": "code",
   "execution_count": null,
   "metadata": {},
   "outputs": [],
   "source": [
    "def print_stuff(x,t, s = None, c = None) :\n",
    "    print(x,t,s,c)\n",
    "\n",
    "d = { 's' : 10, 'c' : 18 }\n",
    "\n",
    "print_stuff(*('something', 'other'), **d)"
   ]
  },
  {
   "cell_type": "markdown",
   "metadata": {},
   "source": [
    "## Generators\n",
    "\n",
    "As I have mentioned before, `map` and `range` objects **generate** the next objects as required instead of computing everything first. For example, I can made huge range objects in a matter of microseconds/nanoseconds, but if I want to make them into a list, it takes much longer."
   ]
  },
  {
   "cell_type": "code",
   "execution_count": null,
   "metadata": {},
   "outputs": [],
   "source": [
    "timeit range_object = range(10000000)"
   ]
  },
  {
   "cell_type": "code",
   "execution_count": null,
   "metadata": {},
   "outputs": [],
   "source": [
    "timeit range_list = list(range(10000000))"
   ]
  },
  {
   "cell_type": "markdown",
   "metadata": {},
   "source": [
    "Generators help you delay running code and actions until you have to. You can also save memory by not pre-processing data and information. This is great for situations where you might have to deal with an unknown amount of data (e.g. web/file system scrawling).\n",
    "\n",
    "Generators are implemented using the very clever `yield` keyword. Here is an example."
   ]
  },
  {
   "cell_type": "code",
   "execution_count": null,
   "metadata": {},
   "outputs": [],
   "source": [
    "def natural_numbers() :\n",
    "    \"\"\" Generators all natural numbers starting with 1.\"\"\"\n",
    "    n = 1\n",
    "    while True :\n",
    "        yield n\n",
    "        n += 1"
   ]
  },
  {
   "cell_type": "markdown",
   "metadata": {},
   "source": [
    "The `yield` keyword is similar to `return` but with one key difference. When `return` is executed, the stack frame associated to a function is destroyed and the value returned. When `yield` is executed, the state of the function is frozen, the stack frame kept, and a value returned. When you request the `__next__` value, the execution is resumed and the function runs until the next `yield` statement, if there is one."
   ]
  },
  {
   "cell_type": "code",
   "execution_count": null,
   "metadata": {},
   "outputs": [],
   "source": [
    "nat_gen = natural_numbers()\n",
    "max_allowed = 5\n",
    "for x in nat_gen :\n",
    "    print(x)\n",
    "    if x >= max_allowed :\n",
    "        break"
   ]
  },
  {
   "cell_type": "code",
   "execution_count": null,
   "metadata": {},
   "outputs": [],
   "source": [
    "print(nat_gen.__next__())\n",
    "print(next(nat_gen))"
   ]
  },
  {
   "cell_type": "markdown",
   "metadata": {},
   "source": [
    "If a generators `yield` commands are exhausted, it naturally ends like any iterator (by raising the `StopIteration` exception)."
   ]
  },
  {
   "cell_type": "code",
   "execution_count": null,
   "metadata": {},
   "outputs": [],
   "source": [
    "def repeat_gen(val, num_times) :\n",
    "    count = 0\n",
    "    while count < num_times :\n",
    "        print(\"Step :\", count)\n",
    "        yield val\n",
    "        print(\"Post yield\")\n",
    "        count += 1"
   ]
  },
  {
   "cell_type": "code",
   "execution_count": null,
   "metadata": {},
   "outputs": [],
   "source": [
    "rp_gen = repeat_gen('a',3)\n",
    "\n",
    "print(next(rp_gen))\n",
    "print(next(rp_gen))\n",
    "print(rp_gen.__next__())"
   ]
  },
  {
   "cell_type": "code",
   "execution_count": null,
   "metadata": {},
   "outputs": [],
   "source": [
    "next(rp_gen)"
   ]
  },
  {
   "cell_type": "markdown",
   "metadata": {},
   "source": [
    "Here is a generator that generates the Fibonacci sequence"
   ]
  },
  {
   "cell_type": "code",
   "execution_count": null,
   "metadata": {},
   "outputs": [],
   "source": [
    "def fibonacci() :\n",
    "    \"\"\" A Fibonacci sequence generator. \"\"\"\n",
    "    prev, curr = 0, 1\n",
    "    while True :\n",
    "        yield prev\n",
    "        prev, curr = curr, curr + prev "
   ]
  },
  {
   "cell_type": "code",
   "execution_count": null,
   "metadata": {},
   "outputs": [],
   "source": [
    "fib = fibonacci()\n",
    "for i in range(5) :\n",
    "    print('F_{} = {}'.format(i,next(fib)))"
   ]
  },
  {
   "cell_type": "markdown",
   "metadata": {},
   "source": [
    "Using generators, I can be very useful. For example, one can write faster programs that require some randomized testing."
   ]
  },
  {
   "cell_type": "code",
   "execution_count": null,
   "metadata": {},
   "outputs": [],
   "source": [
    "import random\n",
    "from generators import shuffle_gen \n",
    "\n",
    "def satisfies_fermat_slow(n) :\n",
    "    \"\"\" Uses the random Fermat primality test.\"\"\"\n",
    "    if not isinstance(n,int) or n < 0 : \n",
    "        raise ValueError(\"Input should be a positive integer.\")\n",
    "    if n == 2 : return True\n",
    "    if n % 2 == 0 : return False\n",
    "\n",
    "    tests = list(range(2,n))\n",
    "    random.shuffle(tests)        \n",
    "    for a in tests :\n",
    "        if pow(a, n-1, n) != 1 : \n",
    "            return False\n",
    "    return True \n",
    "\n",
    "def satisfies_fermat_fast(n) :\n",
    "    \"\"\" Uses the random Fermat primality test.\"\"\"\n",
    "    if not isinstance(n,int) or n < 0 : \n",
    "        raise ValueError(\"Input should be a positive integer.\")\n",
    "    if n == 2 : return True\n",
    "    if n % 2 == 0 : return False\n",
    "    \n",
    "    tests = shuffle_gen(2,n)\n",
    "    for a in tests :\n",
    "        if pow(a, n-1, n) != 1 : \n",
    "            return False\n",
    "    return True "
   ]
  },
  {
   "cell_type": "code",
   "execution_count": null,
   "metadata": {},
   "outputs": [],
   "source": [
    "print(satisfies_fermat_fast(104727))\n",
    "%timeit satisfies_fermat_slow(104727)\n",
    "%timeit satisfies_fermat_fast(104727)"
   ]
  },
  {
   "cell_type": "code",
   "execution_count": null,
   "metadata": {},
   "outputs": [],
   "source": [
    "print(satisfies_fermat_slow(2**107+13))"
   ]
  },
  {
   "cell_type": "code",
   "execution_count": null,
   "metadata": {},
   "outputs": [],
   "source": [
    "print(satisfies_fermat_fast(2**107+13))\n",
    "%timeit satisfies_fermat_fast(2**107+13)"
   ]
  },
  {
   "cell_type": "code",
   "execution_count": null,
   "metadata": {},
   "outputs": [],
   "source": [
    "print(satisfies_fermat_fast(2**20+7))"
   ]
  },
  {
   "cell_type": "markdown",
   "metadata": {},
   "source": [
    "You can also nest generators to create a *pipeline* for executing your code"
   ]
  },
  {
   "cell_type": "code",
   "execution_count": null,
   "metadata": {},
   "outputs": [],
   "source": [
    "def odd_filter(data):\n",
    "    for x in data:\n",
    "        if x % 2 == 1:\n",
    "            yield x\n",
    "            \n",
    "def square(data):\n",
    "    for x in data:\n",
    "        yield x ** 2\n",
    "\n",
    "def convert_to_float(data):\n",
    "    for x in data:\n",
    "        yield float(x) + 0.4\n",
    "\n",
    "nums = range(10)\n",
    "pipeline = convert_to_float(square(odd_filter(nums)))\n",
    "for num in pipeline:\n",
    "    print(num)"
   ]
  },
  {
   "cell_type": "markdown",
   "metadata": {},
   "source": [
    "### Generator comprehension\n",
    "\n",
    "Just like lists, there is generator comprehension for creating simple generators on the fly."
   ]
  },
  {
   "cell_type": "code",
   "execution_count": null,
   "metadata": {},
   "outputs": [],
   "source": [
    "# generator comprehension\n",
    "g = (i ** 3 for i in range(10000) if i % 2 == 0 or i % 17 == 0)\n",
    "# list comprehension\n",
    "l = [i ** 3 for i in range(10000) if i % 2 == 0 or i % 17 == 0]"
   ]
  },
  {
   "cell_type": "code",
   "execution_count": null,
   "metadata": {},
   "outputs": [],
   "source": [
    "import sys\n",
    "\n",
    "print(sys.getsizeof(g))\n",
    "print(sys.getsizeof(l))"
   ]
  },
  {
   "cell_type": "markdown",
   "metadata": {},
   "source": [
    "## Generator Challenge\n",
    "\n",
    "See challenges folder"
   ]
  },
  {
   "cell_type": "markdown",
   "metadata": {},
   "source": [
    "## Nested Functions\n",
    "\n",
    "Python allows one to define functions inside of other functions."
   ]
  },
  {
   "cell_type": "code",
   "execution_count": null,
   "metadata": {},
   "outputs": [],
   "source": [
    "def outer() :\n",
    "    def inner() :\n",
    "        print(\"Inner function\")\n",
    "    print(\"Outer function\")\n",
    "    return inner\n",
    "\n",
    "f = outer()\n",
    "print(f)\n",
    "f()"
   ]
  },
  {
   "cell_type": "code",
   "execution_count": null,
   "metadata": {},
   "outputs": [],
   "source": [
    "inner()"
   ]
  },
  {
   "cell_type": "markdown",
   "metadata": {},
   "source": [
    "Note, every time we call `outer()`, we obtain a **new** function. Essentially, `outer()` is a **function factory**."
   ]
  },
  {
   "cell_type": "code",
   "execution_count": null,
   "metadata": {},
   "outputs": [],
   "source": [
    "f = outer()\n",
    "g = outer()\n",
    "\n",
    "f is g"
   ]
  },
  {
   "cell_type": "markdown",
   "metadata": {},
   "source": [
    "Inner functions are useful for both creating functions dynamically and for basic code organization. Notice that `inner` is not a function in the global scope. This gives for good encapsulation.\n",
    "\n",
    "Here is a real example for the `json` module. By declaring `replace` inside `encode_basestring`, we are not cluttering the global namespace and we don't need to be super explicit with our function names. Clearly, `replace` here has something to do with json string encoding and special character escaping."
   ]
  },
  {
   "cell_type": "code",
   "execution_count": null,
   "metadata": {},
   "outputs": [],
   "source": [
    "import re\n",
    "\n",
    "ESCAPE = re.compile(r'[\\x00-\\x1f\\\\\"\\b\\f\\n\\r\\t]')\n",
    "ESCAPE_DCT = {\n",
    "    '\\\\': '\\\\\\\\',\n",
    "    '\"': '\\\\\"',\n",
    "    '\\b': '\\\\b',\n",
    "    '\\f': '\\\\f',\n",
    "    '\\n': '\\\\n',\n",
    "    '\\r': '\\\\r',\n",
    "    '\\t': '\\\\t',\n",
    "}\n",
    "\n",
    "def encode_basestring(s) :\n",
    "    \"\"\"Return a JSON representation of a Python string \"\"\"\n",
    "    def replace(match):\n",
    "        return ESCAPE_DCT[match.group(0)]\n",
    "    return '\"' + ESCAPE.sub(replace, s) + '\"'"
   ]
  },
  {
   "cell_type": "code",
   "execution_count": null,
   "metadata": {},
   "outputs": [],
   "source": [
    "a = encode_basestring('{\"1\":2}')\n",
    "print(a)\n",
    "type(a)"
   ]
  },
  {
   "cell_type": "markdown",
   "metadata": {},
   "source": [
    "### Decorators\n",
    "\n",
    "By using nested functions we can **augment** or **decorate** the behavior of other functions. For example"
   ]
  },
  {
   "cell_type": "code",
   "execution_count": null,
   "metadata": {},
   "outputs": [],
   "source": [
    "def decorator(func):\n",
    "    def wrapper():\n",
    "        return \"<p>{}</p>\".format(func())\n",
    "    return wrapper"
   ]
  },
  {
   "cell_type": "code",
   "execution_count": null,
   "metadata": {},
   "outputs": [],
   "source": [
    "def get_something() :\n",
    "    return \"something\"\n",
    "\n",
    "print(get_something())\n",
    "decorated = decorator(get_something)\n",
    "print('-'*8)\n",
    "print(decorated())"
   ]
  },
  {
   "cell_type": "markdown",
   "metadata": {},
   "source": [
    "Let's look at another example"
   ]
  },
  {
   "cell_type": "code",
   "execution_count": null,
   "metadata": {},
   "outputs": [],
   "source": [
    "def time_this(func) :      \n",
    "    def timed_func(*args,**kwargs) :\n",
    "        import datetime                 \n",
    "        before = datetime.datetime.now()                     \n",
    "        x = func(*args,**kwargs)                \n",
    "        after = datetime.datetime.now()                      \n",
    "        print(\"Elapsed Time = {}\".format(after-before))     \n",
    "        return x                                             \n",
    "    return timed_func"
   ]
  },
  {
   "cell_type": "code",
   "execution_count": null,
   "metadata": {},
   "outputs": [],
   "source": [
    "new_func = time_this(sorted)\n",
    "result = new_func(sorted(range(1000)))\n",
    "len(result)"
   ]
  },
  {
   "cell_type": "markdown",
   "metadata": {},
   "source": [
    "#### Syntactic sugar\n",
    "\n",
    "We can use the `@` syntax to automatically decorate functions we define"
   ]
  },
  {
   "cell_type": "code",
   "execution_count": null,
   "metadata": {},
   "outputs": [],
   "source": [
    "@time_this\n",
    "def three_sec_sleep() :\n",
    "    \"\"\" Sleeps for three seconds \"\"\"\n",
    "    import time\n",
    "    time.sleep(3)\n",
    "\n",
    "three_sec_sleep() # notice that the decorated name is the same"
   ]
  },
  {
   "cell_type": "markdown",
   "metadata": {},
   "source": [
    "#### Decorating with arguments\n",
    "\n",
    "We can push this construction even further. What is we want to *create* decorators on the fly for certain behaviors."
   ]
  },
  {
   "cell_type": "code",
   "execution_count": null,
   "metadata": {},
   "outputs": [],
   "source": [
    "def outer_decorator(*outer_args,**outer_kwargs):                            \n",
    "    def decorator(fn) :                                            \n",
    "        def decorated(*args,**kwargs) :                            \n",
    "            print(*outer_args,**outer_kwargs)                      \n",
    "            return fn(*args,**kwargs)                         \n",
    "        return decorated                                          \n",
    "    return decorator       \n",
    "\n",
    "# What is th below code equivalent to?\n",
    "@outer_decorator(1,2,3)\n",
    "def foo(a,b,c):\n",
    "    print(a)\n",
    "    print(b)\n",
    "    print(c)\n",
    "    \n",
    "foo(4,5,6)"
   ]
  },
  {
   "cell_type": "markdown",
   "metadata": {},
   "source": [
    "### Some issues\n",
    "\n",
    "Let's look at what happens to our function when it gets decorated in more detail"
   ]
  },
  {
   "cell_type": "code",
   "execution_count": null,
   "metadata": {},
   "outputs": [],
   "source": [
    "three_sec_sleep.__name__"
   ]
  },
  {
   "cell_type": "code",
   "execution_count": null,
   "metadata": {},
   "outputs": [],
   "source": [
    "help(three_sec_sleep)"
   ]
  },
  {
   "cell_type": "markdown",
   "metadata": {},
   "source": [
    "We seem to have ruined our docstring and function name. What we can do is actually use a decorator to fix the problem we just created."
   ]
  },
  {
   "cell_type": "code",
   "execution_count": null,
   "metadata": {},
   "outputs": [],
   "source": [
    "from functools import wraps\n",
    "\n",
    "def time_this(func) :\n",
    "    @wraps(func) # <--- this and the import are the only new lines\n",
    "    def timed_func(*args,**kwargs) :\n",
    "        import datetime                 \n",
    "        before = datetime.datetime.now()                     \n",
    "        x = func(*args,**kwargs)                \n",
    "        after = datetime.datetime.now()                      \n",
    "        print(\"Elapsed Time = {}\".format(after-before))     \n",
    "        return x                                             \n",
    "    return timed_func\n",
    "\n",
    "@time_this\n",
    "def three_sec_sleep() :\n",
    "    \"\"\" Sleeps for three seconds \"\"\"\n",
    "    import time\n",
    "    time.sleep(3)\n",
    "\n",
    "help(three_sec_sleep)"
   ]
  },
  {
   "cell_type": "markdown",
   "metadata": {},
   "source": [
    "All fixed. Of course, it does exactly what you think it does, it updates the docstring and name of the wrappr function."
   ]
  },
  {
   "cell_type": "markdown",
   "metadata": {},
   "source": [
    "### Nested Decorators\n",
    "\n",
    "We can call multiply decorators no the same function with `decor_1(decor_1(func)` or just using the `@` syntax"
   ]
  },
  {
   "cell_type": "code",
   "execution_count": null,
   "metadata": {},
   "outputs": [],
   "source": [
    "@outer_decorator(1,2,3)\n",
    "@time_this\n",
    "def boring() :\n",
    "    print(\"pass\")\n",
    "    \n",
    "boring()"
   ]
  },
  {
   "cell_type": "markdown",
   "metadata": {},
   "source": [
    "See [realpython.com/primer-on-python-decorators/](https://realpython.com/primer-on-python-decorators/) for an absurdly detailed dive into decorators"
   ]
  },
  {
   "cell_type": "markdown",
   "metadata": {},
   "source": [
    "### Decorator Challenge\n",
    "\n",
    "See challenge folder"
   ]
  },
  {
   "cell_type": "markdown",
   "metadata": {},
   "source": [
    "### Closures\n",
    "\n",
    "Inner functions have one more very powerful trick. Recall that we can access variables from higher scopes in the namespace hierarchy. Consider,"
   ]
  },
  {
   "cell_type": "code",
   "execution_count": null,
   "metadata": {},
   "outputs": [],
   "source": [
    "def exp_to_n(n) :\n",
    "    def inner_exp(x) :\n",
    "        return x ** n\n",
    "    return inner_exp\n",
    "    \n",
    "square = exp_to_n(2)\n",
    "cube = exp_to_n(3)\n",
    "\n",
    "print(square(3))\n",
    "print(cube(4))"
   ]
  },
  {
   "cell_type": "markdown",
   "metadata": {},
   "source": [
    "It is very important to understand what is happening here. When we \"package\" the function `inner_exp` is borrow the `n` variable from the namespace for `exp_to_n`. When `inner_exp` is returned, it \"closes\" all variables that are not bound in it's scope. That is, it copies any values for variables outside it's namespace into an attribute."
   ]
  },
  {
   "cell_type": "code",
   "execution_count": null,
   "metadata": {},
   "outputs": [],
   "source": [
    "square.__closure__"
   ]
  },
  {
   "cell_type": "markdown",
   "metadata": {},
   "source": [
    "Note the **big difference** with"
   ]
  },
  {
   "cell_type": "code",
   "execution_count": null,
   "metadata": {},
   "outputs": [],
   "source": [
    "a  = 8\n",
    "def print_a() :\n",
    "    print(a)"
   ]
  },
  {
   "cell_type": "code",
   "execution_count": null,
   "metadata": {},
   "outputs": [],
   "source": [
    "print_a()\n",
    " \n",
    "a = 10\n",
    "\n",
    "print_a()\n",
    "\n",
    "print(print_a.__closure__)"
   ]
  },
  {
   "cell_type": "markdown",
   "metadata": {},
   "source": [
    "The function `print_a` still have access to the global namespace, so no need to close \"free variables.\""
   ]
  },
  {
   "cell_type": "markdown",
   "metadata": {},
   "source": [
    "### Escaping scope    \n",
    "\n",
    "When I said that a function cannot access the namepsace of it's caller, I lied a little. You can, in fact, escape your scope in python. But first, let's see how this is different from the standard closures above."
   ]
  },
  {
   "cell_type": "code",
   "execution_count": null,
   "metadata": {},
   "outputs": [],
   "source": [
    "count = 78\n",
    "def make_counter(count):\n",
    "    def counter():\n",
    "        count += 1\n",
    "        return count\n",
    "    return counter\n",
    "\n",
    "counter = make_counter(count)\n",
    "counter()"
   ]
  },
  {
   "cell_type": "markdown",
   "metadata": {},
   "source": [
    "Why do we see this error? Notice that `count += 1` is equivalent to `count = count + 1`, but **we don't have a local variable name `count` to which we can assign a new value**!\n",
    "\n",
    "We can cheat this by using the `nonlocal` keyword, which will let us **rebind variable names in a scope one step above ours**. This is similar to how `global` worked."
   ]
  },
  {
   "cell_type": "code",
   "execution_count": null,
   "metadata": {},
   "outputs": [],
   "source": [
    "count = 78\n",
    "def make_counter(count) :\n",
    "    def counter() :\n",
    "        nonlocal count # try global here \n",
    "        count += 1\n",
    "        return count\n",
    "    return counter # closure created with nonlocal count\n",
    "\n",
    "counter = make_counter(5)"
   ]
  },
  {
   "cell_type": "code",
   "execution_count": null,
   "metadata": {},
   "outputs": [],
   "source": [
    "counter.__closure__"
   ]
  },
  {
   "cell_type": "markdown",
   "metadata": {},
   "source": [
    "Obviously this is rather dangerous as you can now rebind variable outside your scope, so use (or don't use) with care."
   ]
  },
  {
   "cell_type": "code",
   "execution_count": null,
   "metadata": {},
   "outputs": [],
   "source": [
    "def outer() :\n",
    "    a = 7\n",
    "    print(a)\n",
    "    def chage_a_to_string() :\n",
    "        nonlocal a\n",
    "        a = 'a string'\n",
    "    chage_a_to_string()\n",
    "    print(a)"
   ]
  },
  {
   "cell_type": "code",
   "execution_count": null,
   "metadata": {},
   "outputs": [],
   "source": [
    "outer()"
   ]
  },
  {
   "cell_type": "markdown",
   "metadata": {},
   "source": [
    "But it can also be useful. Here is an example that keeps track of how many times a function has been called."
   ]
  },
  {
   "cell_type": "code",
   "execution_count": null,
   "metadata": {},
   "outputs": [],
   "source": [
    "def annouce_when_finished(calls) :\n",
    "    \n",
    "    run_register = { call : False for call in calls}\n",
    "    \n",
    "    def completion_wrapper(call) :\n",
    "        def run_and_register() :\n",
    "            nonlocal run_register\n",
    "            if call in run_register :\n",
    "                if not run_register[call] :\n",
    "                    call()\n",
    "                    run_register[call] = True\n",
    "                if all(run_register.values()) :\n",
    "                    return \"All calls have been executed\"\n",
    "        return run_and_register\n",
    "    \n",
    "    for idx, call in enumerate(calls) :\n",
    "        calls[idx] = completion_wrapper(call)\n",
    "\n",
    "    return calls\n",
    "\n",
    "\n",
    "\n",
    "calls = annouce_when_finished([outer, print_a])"
   ]
  },
  {
   "cell_type": "markdown",
   "metadata": {},
   "source": [
    "## Functional programming\n",
    "\n",
    "As we have seen, functions are objects in python. Thus, it is only natural that there would be many tools for manipulating functions and applying them in clever ways. We have already seen tools such as `map`. Here are a few more."
   ]
  },
  {
   "cell_type": "markdown",
   "metadata": {},
   "source": [
    "### `lambda` and anonymous function\n",
    "\n",
    "Python allows for the creation of (**simple**) functions using $\\lambda$-calculus notation. Let's start with an example : "
   ]
  },
  {
   "cell_type": "code",
   "execution_count": null,
   "metadata": {},
   "outputs": [],
   "source": [
    "add = lambda x,y : x + y\n",
    "# add is now a function that takes two inputs and\n",
    "# returns their sum"
   ]
  },
  {
   "cell_type": "code",
   "execution_count": null,
   "metadata": {},
   "outputs": [],
   "source": [
    "add(8,2)"
   ]
  },
  {
   "cell_type": "markdown",
   "metadata": {},
   "source": [
    "The `lambda` keyword is followed by the list of arguemnts, then a `:` separates the arguments from the result. This can be very usefull if you want to sort by tuples of numbers by their sum."
   ]
  },
  {
   "cell_type": "code",
   "execution_count": null,
   "metadata": {},
   "outputs": [],
   "source": [
    "from random import randint\n",
    "\n",
    "r = (-10,10)\n",
    "\n",
    "data = [(randint(*r), randint(*r), randint(*r))\n",
    "        for _ in range(5) ]\n",
    "\n",
    "print(data)\n",
    "\n",
    "data.sort(key = lambda x : sum(x))\n",
    "\n",
    "print(data)"
   ]
  },
  {
   "cell_type": "code",
   "execution_count": null,
   "metadata": {},
   "outputs": [],
   "source": [
    "names = ['David Zetto', 'Brian Bates',\n",
    "         'Raymond brower', 'Ned Andrews']"
   ]
  },
  {
   "cell_type": "code",
   "execution_count": null,
   "metadata": {},
   "outputs": [],
   "source": [
    "# sort by last name lowercase\n",
    "print(sorted(names, key=lambda name: name.split()[-1].lower()))"
   ]
  },
  {
   "cell_type": "markdown",
   "metadata": {},
   "source": [
    "**Remark** Sometimes `lamba` expressions get hard to read and it's just cleaner to use `def`. It is **up to you** which you prefer."
   ]
  },
  {
   "cell_type": "markdown",
   "metadata": {},
   "source": [
    "### the `operator` module\n",
    "\n",
    "For commonly used functions such as `+,-,`, .etc, getting an item by key or index, or using an attribute of an object, the `operator` module provides many of these. We have already seen `itemgetter`"
   ]
  },
  {
   "cell_type": "code",
   "execution_count": null,
   "metadata": {},
   "outputs": [],
   "source": [
    "from operator import itemgetter\n",
    "\n",
    "data.sort(key = itemgetter(-1))\n",
    "print(data)\n",
    "\n",
    "data.sort(key = lambda x : x[-1])\n",
    "print(data)"
   ]
  },
  {
   "cell_type": "code",
   "execution_count": null,
   "metadata": {},
   "outputs": [],
   "source": [
    "from operator import add\n",
    "\n",
    "a = map(add, range(1,4), range(2,5))\n",
    "print(list(a))"
   ]
  },
  {
   "cell_type": "code",
   "execution_count": null,
   "metadata": {},
   "outputs": [],
   "source": [
    "from operator import attrgetter\n",
    "\n",
    "r = (-10,10)\n",
    "c_nums = [ complex(randint(*r), randint(*r)) for _ in range(5) ]\n",
    "\n",
    "a = map(attrgetter('real'), c_nums)\n",
    "print(list(a))\n",
    "\n",
    "a = map(lambda z : z.real, c_nums)\n",
    "print(list(a))"
   ]
  },
  {
   "cell_type": "code",
   "execution_count": null,
   "metadata": {},
   "outputs": [],
   "source": [
    "from string import ascii_lowercase\n",
    "from random import sample, randint\n",
    "from operator import methodcaller\n",
    "\n",
    "random_words = [''.join(sample(ascii_lowercase, randint(5,10)))\n",
    "                for _ in range(5)]\n",
    "\n",
    "random_words.sort(key = methodcaller('__len__'))\n",
    "\n",
    "print(random_words)\n",
    "\n",
    "random_words.sort(key = lambda s : len(s))\n",
    "\n",
    "print(random_words)"
   ]
  },
  {
   "cell_type": "markdown",
   "metadata": {},
   "source": [
    "Note, if  `g = methodcaller(method_name, arga1, arg2, ...)` then `g(x) = x.method_name(arg1, arg2,...)`"
   ]
  },
  {
   "cell_type": "code",
   "execution_count": null,
   "metadata": {},
   "outputs": [],
   "source": [
    "random_words.sort(key = methodcaller('count', 'e'))\n",
    "print(random_words)"
   ]
  },
  {
   "cell_type": "markdown",
   "metadata": {},
   "source": [
    "Many functions in the `operator` module are interchangeble with good use of `lambda` notation. You can use whichever you like best."
   ]
  },
  {
   "cell_type": "markdown",
   "metadata": {},
   "source": [
    "**Warning**. In lambda functions behave like closures"
   ]
  },
  {
   "cell_type": "code",
   "execution_count": null,
   "metadata": {},
   "outputs": [],
   "source": [
    "x = 5\n",
    "\n",
    "def outer() :\n",
    "    # x = -100\n",
    "    return lambda y : x + y\n",
    "\n",
    "def execute(func) :\n",
    "    print(func(8))\n",
    "\n",
    "f = outer()\n",
    "\n",
    "print(f.__closure__)\n",
    "print(f(8))\n",
    "\n",
    "x = 80\n",
    "print(f(8))\n",
    "\n",
    "execute(f)"
   ]
  },
  {
   "cell_type": "markdown",
   "metadata": {},
   "source": [
    "Note, you can use keyword argument to copy a variable into the `lambda` function local namepspace without using a closure."
   ]
  },
  {
   "cell_type": "code",
   "execution_count": null,
   "metadata": {},
   "outputs": [],
   "source": [
    "n = 4\n",
    "# you can use keyword notation\n",
    "# to force a lambda function to\n",
    "# pull the local varaible at the time\n",
    "# of definition\n",
    "a = lambda x, y = n: x + y\n",
    "\n",
    "n = 5\n",
    "\n",
    "print(a(3))"
   ]
  },
  {
   "cell_type": "markdown",
   "metadata": {},
   "source": [
    "###  `partial` from `functools` module\n",
    "\n",
    "If you have a function that takes many arguments, but you would like to make a version of it with different default arguments, you can use the `partial` method from the `functools` module."
   ]
  },
  {
   "cell_type": "code",
   "execution_count": null,
   "metadata": {},
   "outputs": [],
   "source": [
    "def error(error_type, error_message) :\n",
    "    print(error_type.__name__, 'Message:', error_message)"
   ]
  },
  {
   "cell_type": "code",
   "execution_count": null,
   "metadata": {},
   "outputs": [],
   "source": [
    "from functools import partial\n",
    "\n",
    "type_error = partial(error, TypeError)\n",
    "all_fails = partial(error, error_message = \"Everything is broken!\")"
   ]
  },
  {
   "cell_type": "code",
   "execution_count": null,
   "metadata": {},
   "outputs": [],
   "source": [
    "type_error(\"Just a type error\")"
   ]
  },
  {
   "cell_type": "code",
   "execution_count": null,
   "metadata": {},
   "outputs": [],
   "source": [
    "all_fails(RuntimeError)\n",
    "all_fails(TypeError)"
   ]
  },
  {
   "cell_type": "markdown",
   "metadata": {},
   "source": [
    "Another usefull example is a logger (or a logger callback). You can write a generic logging function, and pass a partial to your exection as a callback"
   ]
  },
  {
   "cell_type": "code",
   "execution_count": null,
   "metadata": {},
   "outputs": [],
   "source": [
    "def log(data, log_file) :\n",
    "    with open(log_file,'a') as fp :\n",
    "        fp.write(data)"
   ]
  },
  {
   "cell_type": "code",
   "execution_count": null,
   "metadata": {},
   "outputs": [],
   "source": [
    "def set_username(person, name, *, callback) :\n",
    "    person['username'] = name\n",
    "    return callback(\"Set username to {}\\n\".format(name))\n",
    "\n",
    "person = {}\n",
    "username_log = partial(log, log_file = 'usernames.log')\n",
    "set_username(person, 'john', callback = username_log)    "
   ]
  },
  {
   "cell_type": "code",
   "execution_count": null,
   "metadata": {},
   "outputs": [],
   "source": [
    "%cat usernames.log"
   ]
  },
  {
   "cell_type": "markdown",
   "metadata": {},
   "source": [
    "###  `filter`\n",
    "\n",
    "If you ever have a sequence (or iterable) and you don't some parts of it, you can use the `filter` call."
   ]
  },
  {
   "cell_type": "code",
   "execution_count": null,
   "metadata": {},
   "outputs": [],
   "source": [
    "for x in filter(lambda x : x % 3 == 0, range(-10,10)) :\n",
    "    print(x)"
   ]
  },
  {
   "cell_type": "markdown",
   "metadata": {},
   "source": [
    "As you can see, `filter` only provided us with the sequence for which the anonymous function `lambda x : x % 3 == 0` returned True."
   ]
  },
  {
   "cell_type": "markdown",
   "metadata": {},
   "source": [
    "### fun with iterators\n",
    "\n",
    "We have seem the `map` function as a useful tool to work with iterators. Here are a few :"
   ]
  },
  {
   "cell_type": "markdown",
   "metadata": {},
   "source": [
    "* `zip(iterable1, iterable2, ...)` - returns a zip object whose `.__next__()` method returns a tuple where\n",
    "the $i^\\text{th}$ element comes from the $i^\\text{th}$ iterable argument. Continues until the shortest iterable in the argument sequence\n",
    "is exhausted."
   ]
  },
  {
   "cell_type": "code",
   "execution_count": null,
   "metadata": {},
   "outputs": [],
   "source": [
    "# zip\n",
    "iterable1 = range(5)\n",
    "iterable2 = range(3,10)\n",
    "iterable3 = range(7,100)\n",
    "\n",
    "\n",
    "\n",
    "for x in zip(iterable1, iterable2, iterable3) :\n",
    "    print(x)"
   ]
  },
  {
   "cell_type": "code",
   "execution_count": null,
   "metadata": {},
   "outputs": [],
   "source": [
    "for x in zip(range(4), range(1,5)) :\n",
    "    print(add(*x))"
   ]
  },
  {
   "cell_type": "markdown",
   "metadata": {},
   "source": [
    "You can actually use `zip` with a repeated argument, you just have to be careful. Recall the distrinction : an **iterator** is an object that responds to a `__next__` method and will be exhausted after **one** use.\n",
    "\n",
    "An **iterable** is an object that can **procude** an interator for its contents.  "
   ]
  },
  {
   "cell_type": "code",
   "execution_count": null,
   "metadata": {},
   "outputs": [],
   "source": [
    "iter1 = iter((0,1,2,3,4,5))\n",
    "print(type(iter1))\n",
    "\n",
    "for x in zip(iter1, iter1) :\n",
    "    print(x)"
   ]
  },
  {
   "cell_type": "code",
   "execution_count": null,
   "metadata": {},
   "outputs": [],
   "source": [
    "iterable1 = range(6)\n",
    "\n",
    "print(type(iterable1))\n",
    "\n",
    "for x in zip(iterable1, iterable1) :\n",
    "    print(x)"
   ]
  },
  {
   "cell_type": "markdown",
   "metadata": {},
   "source": [
    "Above, the `range` object produces a **new** iterator of its contents **twice** inside the call to `zip`. While the `tuple_iterator` is **used** in both arguments."
   ]
  },
  {
   "cell_type": "markdown",
   "metadata": {},
   "source": [
    "* any(iterable) - returns `True` if `bool(val) == True` for any `val` in `iterable`\n",
    "* all(iterable) - returns `True` if `bool(val) == True` for all `val` in `iterable`"
   ]
  },
  {
   "cell_type": "code",
   "execution_count": null,
   "metadata": {},
   "outputs": [],
   "source": [
    "def has_char(char, string) :\n",
    "    return any(map(lambda c : c == char, string))"
   ]
  },
  {
   "cell_type": "code",
   "execution_count": null,
   "metadata": {},
   "outputs": [],
   "source": [
    "print(has_char('e', 'Hello'))\n",
    "print(has_char('f', 'Hello'))"
   ]
  },
  {
   "cell_type": "markdown",
   "metadata": {},
   "source": [
    "### Iterator Challenge\n",
    "\n",
    "See challenges folder"
   ]
  }
 ],
 "metadata": {
  "anaconda-cloud": {},
  "kernelspec": {
   "display_name": "Python 3",
   "language": "python",
   "name": "python3"
  },
  "language_info": {
   "codemirror_mode": {
    "name": "ipython",
    "version": 3
   },
   "file_extension": ".py",
   "mimetype": "text/x-python",
   "name": "python",
   "nbconvert_exporter": "python",
   "pygments_lexer": "ipython3",
   "version": "3.7.4"
  }
 },
 "nbformat": 4,
 "nbformat_minor": 4
}
