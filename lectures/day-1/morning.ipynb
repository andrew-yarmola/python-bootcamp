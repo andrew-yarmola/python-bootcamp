{
 "cells": [
  {
   "cell_type": "markdown",
   "metadata": {
    "nbpresent": {
     "id": "40a7701e-a37f-426c-8fc9-f65b525a98ac"
    }
   },
   "source": [
    "# Python Bootcamp Day 1 Morning\n",
    "\n",
    "* Instructor:  Andrew Yarmola [andrew.yarmola@gmail.com](mailto:andrew.yarmola@gmail.com)\n",
    "* Bootcamp files: [github.com/andrew-yarmola/python-bootcamp](https://github.com/andrew-yarmola/python-bootcamp)"
   ]
  },
  {
   "cell_type": "markdown",
   "metadata": {},
   "source": [
    "## Overview\n",
    "\n",
    "Over the next 4 days, we will cover the basics of Python, using the language in a production environment, as well as the Flask and SciPy frameworks.\n",
    "\n",
    "We will be working entirely in Python 3. Most frameworks an libraries now support it by default."
   ]
  },
  {
   "cell_type": "markdown",
   "metadata": {},
   "source": [
    "## Day 1\n",
    "\n",
    "The goal for Day 1 is fast-paced introduction to Python as a scripting language. In the first half of the day, we will cover the basic syntax, memory model, function declarations and control flow. The second half of the day will be focused on python library/package management and virtual environments for keeping track of dependences for different applications. At the end, we will go over some examples of doing basic I/O and using your own and third-party modules."
   ]
  },
  {
   "cell_type": "markdown",
   "metadata": {},
   "source": [
    "## Software and Setup \n",
    "\n",
    "### Installing\n",
    "\n",
    "You have several options for installing Python. In my order of preference:\n",
    "1. If you are already using homebrew : \n",
    " \n",
    "    ```\n",
    "    brew install python\n",
    "    ```\n",
    "    \n",
    "Alternatively, you can\n",
    "\n",
    "2. Download from [python.org](https://www.python.org)\n",
    "3. For scientific computing, many use the Anaconda distribution from [continuum.io/downloads](https://www.continuum.io/downloads)\n",
    "\n",
    "__Remark__ If you are willing to trade some package compatibility (especially C extension reliant packages such as pandas and scikit-learn) for speed and micro threading, you can try PyPy from [pypy.org](http://pypy.org)\n",
    "\n",
    "### Managing the Installation\n",
    "\n",
    "One of the benefits of using python is the enormous library of software packages and modules ready for you to use. Because of the interdependencies between all of these packages, you will need package manager (or maybe a collection of package managers). Since you will also be working with a production environment, I strongly encourage the use of __virtual environments__. Virtual environments let you develop and test against a fixed collection dependencies, which you can share withing a repository. Further, they allow you to isolate dependencies between different projects or parts of your application.\n",
    "\n",
    "![Obligatory XKCD](https://imgs.xkcd.com/comics/python_environment.png)\n",
    "\n",
    "All distributions of python 3 come with a default package manger called `pip`. This package manager is good for setting up your own working environment but not for sharing, distributing, or collaboratively working on projects. I would recommend:\n",
    "1. A new and popular player on the block called `pipenv`\n",
    "    * markets itself as a workflow tool for development and dependency management.\n",
    "    * both a python package manager and a virtual environment manager\n",
    "    * built-in module security checks and hashing to help keep environments consistent\n",
    "    * uses `pyenv` to install versions of python as needed\n",
    "    * does __not__ package and distribute your code for you (you still have to manage your own `setup.py`)\n",
    "    * homebrew install via : `brew install pipenv`\n",
    "    \n",
    "    In addition, I encourage you run `brew install pyenv` and `export PYENV_ROOT=...` as appropriate. This utility allows you (and `pipenv`) to easily manage many different python versions on your system, which is useful for freezing a python version for development with `pipenv`.\n",
    "    \n",
    "    A good overview of how `pyenv` and `pipenv` work can be found at [gioele.io/pyenv-pipenv](https://gioele.io/pyenv-pipenv)\n",
    "   \n",
    "2. There are other new and old contenders to consider:\n",
    "    * `pip` + `venv` or `pip` + `vitualenv` + `virtualenvwrapper`\n",
    "        * lower level, but more versatile and flexible\n",
    "        * less secure and has fewer guarantees to keep production consistent\n",
    "    * `poetry` at [poetry.eustace.io](https://poetry.eustace.io)\n",
    "        * another contender for the \"standard\" secure and hashed package management tool for python\n",
    "        * somewhat faster than `pipenv`, and has **package distribution tools built-in**.\n",
    "\n",
    "\n",
    "3. If you decided to use Anaconda, it comes with it's own package manager called `conda`\n",
    "    * as with `pipenv`, this is both a package manager and a virtual environment manager\n",
    "    * it does not help you distribute/package your code\n",
    "    * can manage many non-python binaries and extensions used for scientific computing        \n",
    "        \n",
    "Some links to guides and debates on the issue:\n",
    "  * [docs.python-guide.org/dev/virtualenvs/](https://docs.python-guide.org/dev/virtualenvs/)\n",
    "  * [johnfraney.ca/posts/2019/03/06/pipenv-poetry-benchmarks-ergonomics/](https://johnfraney.ca/posts/2019/03/06/pipenv-poetry-benchmarks-ergonomics/)\n",
    "  * [frostming.com/2019/01-04/pipenv-poetry](https://frostming.com/2019/01-04/pipenv-poetry)\n",
    "  * [chriswarrick.com/blog/2018/07/17/pipenv-promises-a-lot-delivers-very-little/](https://chriswarrick.com/blog/2018/07/17/pipenv-promises-a-lot-delivers-very-little/)\n",
    "\n",
    "### Jupyter\n",
    "\n",
    "The interface I am using to present these notes is called a Jupyter Notebook. It combines Markdown and a Python interpreter all in one document. It is great for scripting and running small test applications.\n",
    "\n",
    "```\n",
    "pipenv install jupyterlab\n",
    "pipenv shell\n",
    "jupyter lab\n",
    "```"
   ]
  },
  {
   "cell_type": "markdown",
   "metadata": {},
   "source": [
    "## Python\n",
    "\n",
    "Python is a an object oriented dynamically-typed language that is executed by an interpreter. Python has a clean and elegant coding style, all the while being used for scripting, web application, data science, and graphical user interfaces.  In many ways, python is a portable language that should produce the same results on different systems (I/O and networking being minor exceptions)."
   ]
  },
  {
   "cell_type": "code",
   "execution_count": null,
   "metadata": {},
   "outputs": [],
   "source": [
    "print(\"Hello!\")"
   ]
  },
  {
   "cell_type": "markdown",
   "metadata": {},
   "source": [
    "One advantage of Python that makes it easy to learn and use is that given a good interpreter, you can ask it how certain instructions behave."
   ]
  },
  {
   "cell_type": "code",
   "execution_count": null,
   "metadata": {},
   "outputs": [],
   "source": [
    "help(print)"
   ]
  },
  {
   "cell_type": "markdown",
   "metadata": {},
   "source": [
    "You can also type in `print?` and then hit enter to get the same inforamtion. Another example of using print :\n",
    "\n",
    "A good editor/interpreter will also have __TAB completion__."
   ]
  },
  {
   "cell_type": "markdown",
   "metadata": {},
   "source": [
    "## The Basics\n",
    "\n",
    "You will find that you can quickly use python as a simple calculator with operations like : `*`, `/`, `+`, `-`, `**` (exponentiate), `%` (remainder), `//` (integer division), and you can change the order of operations by using parentheses ()."
   ]
  },
  {
   "cell_type": "code",
   "execution_count": null,
   "metadata": {},
   "outputs": [],
   "source": [
    "2**1.5 # integer or float exponentiation <--- notice that comments made with #"
   ]
  },
  {
   "cell_type": "code",
   "execution_count": null,
   "metadata": {},
   "outputs": [],
   "source": [
    "5/4 # float division"
   ]
  },
  {
   "cell_type": "code",
   "execution_count": null,
   "metadata": {},
   "outputs": [],
   "source": [
    "5//4 # integer division"
   ]
  },
  {
   "cell_type": "code",
   "execution_count": null,
   "metadata": {},
   "outputs": [],
   "source": [
    "(2017/500) % 4 # modular arithmetic"
   ]
  },
  {
   "cell_type": "markdown",
   "metadata": {},
   "source": [
    "### Variables\n",
    "\n",
    "We use symbol `=` to associate a variable name to value."
   ]
  },
  {
   "cell_type": "code",
   "execution_count": null,
   "metadata": {},
   "outputs": [],
   "source": [
    "a = 1.1"
   ]
  },
  {
   "cell_type": "code",
   "execution_count": null,
   "metadata": {},
   "outputs": [],
   "source": [
    "print(a)"
   ]
  },
  {
   "cell_type": "markdown",
   "metadata": {},
   "source": [
    "Python is  __strongly, dynamically typed__. This means that __values that are stored in memory have an assigned type to them (integer, list, floating point number, etc)__ while the __variable names themselves do not__. To check the type of a value"
   ]
  },
  {
   "cell_type": "code",
   "execution_count": null,
   "metadata": {},
   "outputs": [],
   "source": [
    "type(a)"
   ]
  },
  {
   "cell_type": "markdown",
   "metadata": {},
   "source": [
    "Once an value has been allocated, we **cannot change the type of those allocated bytes**. However, we **can point the variable name elsewhere**."
   ]
  },
  {
   "cell_type": "code",
   "execution_count": null,
   "metadata": {},
   "outputs": [],
   "source": [
    "print(a)\n",
    "a = 'something else'\n",
    "print(a)"
   ]
  },
  {
   "cell_type": "markdown",
   "metadata": {},
   "source": [
    "Variable names care **case sensitive** and must start with a letter or an underscore. The rest of the variable must consist of letters, numbers, or underscores. No other special characters are allowed."
   ]
  },
  {
   "cell_type": "markdown",
   "metadata": {},
   "source": [
    "## Numerical types\n",
    "\n",
    "Python has four built-in numerical types : integers, booleans, floating point numbers, and floating point complex numbers.\n",
    "\n",
    "As of Python 3, **integers** have no maximum or minimum values, so adding two large integers will not \"overflow\" the memory container. This is not the case in Python 2."
   ]
  },
  {
   "cell_type": "markdown",
   "metadata": {},
   "source": [
    "**Booleans** simply take the values `True` and `False`. They are usually the return values of comparison operators. You can also use the operators `and`, `or`, and `not` with booleans."
   ]
  },
  {
   "cell_type": "code",
   "execution_count": null,
   "metadata": {},
   "outputs": [],
   "source": [
    "not ((True or False) and False)"
   ]
  },
  {
   "cell_type": "code",
   "execution_count": null,
   "metadata": {},
   "outputs": [],
   "source": [
    "not 5 < 2 and not (5-1) != 4"
   ]
  },
  {
   "cell_type": "markdown",
   "metadata": {},
   "source": [
    "Operator precedence in python is fairly easy to guess, but if something looks like it can be misread, use `()` to encapsulate your evaluations. You can find the full precedence listing at [docs.python.org/3/reference/expressions.html#operator-precedence](https://docs.python.org/3/reference/expressions.html#operator-precedence)"
   ]
  },
  {
   "cell_type": "markdown",
   "metadata": {},
   "source": [
    "**Floating point complex numbers** make use of `1j` to denote $\\sqrt{-1}$."
   ]
  },
  {
   "cell_type": "code",
   "execution_count": null,
   "metadata": {},
   "outputs": [],
   "source": [
    "a = 5.0 + 7.1*1j\n",
    "b = 4.3 + 6.j\n",
    "a # short hand for print(a) when at the end in an interactive enterpreter"
   ]
  },
  {
   "cell_type": "code",
   "execution_count": null,
   "metadata": {},
   "outputs": [],
   "source": [
    "a**b # complex exponentiation"
   ]
  },
  {
   "cell_type": "code",
   "execution_count": null,
   "metadata": {},
   "outputs": [],
   "source": [
    "a.conjugate()"
   ]
  },
  {
   "cell_type": "markdown",
   "metadata": {},
   "source": [
    "## Memory Model and GIL\n",
    "\n",
    "You should think of variables as names pointing to locations in memory. The Python memory manager is responsible allocating that memory and destroying it via garbage collection. Essentially, if there are no variables in the current scope/namespace hierarchy pointing to a location, the garbage collection will deallocate it. Because this garbage collection implementation is not thread-safe in most Python implementations, a mutex called the __global interpreter lock__, or __GIL__, is used to lock memory access to one bytecode interpreter at a time. This causes some difficulty with multi-threading, but modern libraries make it relatively simple to implement multi-threaded workloads. \n",
    "\n",
    "One can use `is` operator **to check if two variable names point to the same value in memory**. Further, you can use the `id` function to get the **unique identifier** for **currently** allocated objects."
   ]
  },
  {
   "cell_type": "code",
   "execution_count": null,
   "metadata": {},
   "outputs": [],
   "source": [
    "a = 4\n",
    "b = a\n",
    "a is b"
   ]
  },
  {
   "cell_type": "code",
   "execution_count": null,
   "metadata": {},
   "outputs": [],
   "source": [
    "b = 4.0\n",
    "float(a) == b"
   ]
  },
  {
   "cell_type": "code",
   "execution_count": null,
   "metadata": {},
   "outputs": [],
   "source": [
    "a is b"
   ]
  },
  {
   "cell_type": "markdown",
   "metadata": {},
   "source": [
    "Let's try something different"
   ]
  },
  {
   "cell_type": "code",
   "execution_count": null,
   "metadata": {},
   "outputs": [],
   "source": [
    "b = a\n",
    "b = b + 1"
   ]
  },
  {
   "cell_type": "code",
   "execution_count": null,
   "metadata": {},
   "outputs": [],
   "source": [
    "print(a)\n",
    "print(b)"
   ]
  },
  {
   "cell_type": "markdown",
   "metadata": {},
   "source": [
    "Notice that when we wrote `b = b+1`, the interpreter allocated a new int object for the value of `b+1` and then makes the variable name `b` point to this new object. The location to where `a` points to is not changed.\n",
    "\n",
    "Here is one more interesting thing"
   ]
  },
  {
   "cell_type": "code",
   "execution_count": null,
   "metadata": {},
   "outputs": [],
   "source": [
    "b = 4\n",
    "a is b"
   ]
  },
  {
   "cell_type": "markdown",
   "metadata": {},
   "source": [
    "Here, we see that the python interpreter does not copy the integer `4` to a new memory location, but cleverly uses the same `4` that it created earlier. Notice that the `id()` values are the same."
   ]
  },
  {
   "cell_type": "code",
   "execution_count": null,
   "metadata": {},
   "outputs": [],
   "source": [
    "print(id(a))\n",
    "print(id(b))"
   ]
  },
  {
   "cell_type": "markdown",
   "metadata": {},
   "source": [
    "**Warning.** Python only guarantees that identifiers are unique for objects that are **still** in memory. Recall that an object is erased if no reference points to it. You should **always** use the `is` keyword over directly comparing identifiers."
   ]
  },
  {
   "cell_type": "code",
   "execution_count": null,
   "metadata": {},
   "outputs": [],
   "source": [
    "a = 'a'\n",
    "b = 'b'\n",
    "id(a+b) == id(b+a)"
   ]
  },
  {
   "cell_type": "code",
   "execution_count": null,
   "metadata": {},
   "outputs": [],
   "source": [
    "print(b+a)\n",
    "print(a+b)"
   ]
  },
  {
   "cell_type": "markdown",
   "metadata": {},
   "source": [
    "What is happening here is `a+b` is first created and its identifier is computed. Once this has happen, the memory where `a+b` was stored is cleared because nothing is referencing it. Next, `b+a` is created and it just so happens that it takes up the same slot in memory and ends up having the same identifier number as the already **destroyed** `a+b`."
   ]
  },
  {
   "cell_type": "code",
   "execution_count": null,
   "metadata": {},
   "outputs": [],
   "source": [
    "a+b is b+a"
   ]
  },
  {
   "cell_type": "markdown",
   "metadata": {},
   "source": [
    "Above, the two objects are created and kept in memory until their locations are compared."
   ]
  },
  {
   "cell_type": "markdown",
   "metadata": {},
   "source": [
    "### Everything is an object\n",
    "\n",
    "\n",
    "Python is built around objects. In fact, \"everything is an object\" is one of the key mantras of the language. We will think of an **object** in python as a structure that contains *data* (i.e. values we are interested in) and *functions* (i.e. computer code). These are called the **attributes** of an object and are accessed using the `object.attribute_name` notation. Attributes can, therefore, either be **data attributes** or **method attributes**."
   ]
  },
  {
   "cell_type": "code",
   "execution_count": null,
   "metadata": {},
   "outputs": [],
   "source": [
    "a = 2.5 + 5.6j\n",
    "a.imag # A data attribute that returns a float"
   ]
  },
  {
   "cell_type": "code",
   "execution_count": null,
   "metadata": {},
   "outputs": [],
   "source": [
    "a.conjugate # a method attribute"
   ]
  },
  {
   "cell_type": "markdown",
   "metadata": {},
   "source": [
    "Above, `a.conjugate` returns the **function** object that contains the code to run `complex.conjugate`. To run a function, we use the `a.conjugate()` syntax. This returns the conjugate of `a`.\n",
    "\n",
    "Most objects we will deal with in python are **instance objects**."
   ]
  },
  {
   "cell_type": "code",
   "execution_count": null,
   "metadata": {},
   "outputs": [],
   "source": [
    "a = float(4523562.241) # an instance object of the float class\n",
    "a.as_integer_ratio()"
   ]
  },
  {
   "cell_type": "code",
   "execution_count": null,
   "metadata": {},
   "outputs": [],
   "source": [
    "int.to_bytes(718283, 4,'big') # class method called on the instance object 718283"
   ]
  },
  {
   "cell_type": "markdown",
   "metadata": {},
   "source": [
    "Keep in mind, function and even types themselves are objects."
   ]
  },
  {
   "cell_type": "code",
   "execution_count": null,
   "metadata": {},
   "outputs": [],
   "source": [
    "print(float)\n",
    "print(type(float))"
   ]
  },
  {
   "cell_type": "code",
   "execution_count": null,
   "metadata": {},
   "outputs": [],
   "source": [
    "float.is_integer(3.00)"
   ]
  },
  {
   "cell_type": "markdown",
   "metadata": {},
   "source": [
    "One of the benefits of python's approach is that objects can always be\n",
    "* assigned a variable name (or several)\n",
    "* added to a list (and some other collection objects)\n",
    "* passed as an argument to a function"
   ]
  },
  {
   "cell_type": "markdown",
   "metadata": {},
   "source": [
    "## Containers\n",
    "\n",
    "Some of the most important objects in the Python programming language are containers such as lists, strings, tuples, dictionaries, and sets.\n",
    "\n",
    "Note that since everything is an object, it is up to the implementation of that object to allow for __mutability__. As we saw, `b = b+1`, when `b` was an integer, didn't change the memory to which `b` pointed to, but made a whole new object.\n",
    "\n",
    "We will see that a `list` instance is __mutable__, while a `string` instance is __immutable__ (and similarly for the other base types).\n",
    "\n",
    "### Lists\n",
    "\n",
    "To construct a list, we use `[]` to surround the a comma separated list of contents."
   ]
  },
  {
   "cell_type": "code",
   "execution_count": null,
   "metadata": {},
   "outputs": [],
   "source": [
    "L = ['red', 'green', 5.6, 'yellow', 5]\n",
    "print(L)"
   ]
  },
  {
   "cell_type": "markdown",
   "metadata": {},
   "source": [
    "Notice that the types of objects in a list don't need to be the same.\n",
    "\n",
    "We can access individual objects in a list also using the [ ] notation"
   ]
  },
  {
   "cell_type": "code",
   "execution_count": null,
   "metadata": {},
   "outputs": [],
   "source": [
    "L[2]"
   ]
  },
  {
   "cell_type": "code",
   "execution_count": null,
   "metadata": {},
   "outputs": [],
   "source": [
    "L[0]"
   ]
  },
  {
   "cell_type": "markdown",
   "metadata": {},
   "source": [
    "Indexing in python **starts with 0**! Even more importantly, python can accept **negative** indices!"
   ]
  },
  {
   "cell_type": "code",
   "execution_count": null,
   "metadata": {},
   "outputs": [],
   "source": [
    "L[-2]"
   ]
  },
  {
   "cell_type": "markdown",
   "metadata": {},
   "source": [
    "The range of valid indexes is `-len(L)` to `len(L)-1`"
   ]
  },
  {
   "cell_type": "code",
   "execution_count": null,
   "metadata": {},
   "outputs": [],
   "source": [
    "len(L)"
   ]
  },
  {
   "cell_type": "code",
   "execution_count": null,
   "metadata": {},
   "outputs": [],
   "source": [
    "L[len(L)]"
   ]
  },
  {
   "cell_type": "code",
   "execution_count": null,
   "metadata": {},
   "outputs": [],
   "source": [
    "L[len(L)-1] is L[-1]"
   ]
  },
  {
   "cell_type": "markdown",
   "metadata": {},
   "source": [
    "### List slicing\n",
    "\n",
    "You can slice lists using the syntax `L[start:stop:stride]`. All slicing parameters are optional. Stop is **not** included in the output."
   ]
  },
  {
   "cell_type": "code",
   "execution_count": null,
   "metadata": {},
   "outputs": [],
   "source": [
    "D = [0,1,2,3,4,5,6,7,8,9]\n",
    "D[::2]"
   ]
  },
  {
   "cell_type": "code",
   "execution_count": null,
   "metadata": {},
   "outputs": [],
   "source": [
    "L[2::-2] # Go in reverse from index 2"
   ]
  },
  {
   "cell_type": "code",
   "execution_count": null,
   "metadata": {},
   "outputs": [],
   "source": [
    "L[::-1] # Reverse the whole list!"
   ]
  },
  {
   "cell_type": "markdown",
   "metadata": {},
   "source": [
    "### Building lists and list comprehension\n",
    "\n",
    "There are many different ways to generate a lists. The simplest function is the `range` function. In Python 3, the function `range(start, stop, stride)` actually produces a special *iterable* type, or an object you can ask to produce an *iterator*. Therefore, we have to build a list from the the result."
   ]
  },
  {
   "cell_type": "code",
   "execution_count": null,
   "metadata": {},
   "outputs": [],
   "source": [
    "a = range(10)\n",
    "print(a)\n",
    "print(type(a))\n",
    "print(list(a))"
   ]
  },
  {
   "cell_type": "code",
   "execution_count": null,
   "metadata": {},
   "outputs": [],
   "source": [
    "list(range(2,10,2))"
   ]
  },
  {
   "cell_type": "code",
   "execution_count": null,
   "metadata": {},
   "outputs": [],
   "source": [
    "b = iter(a) # same as b = a.__iter__(), more on this later"
   ]
  },
  {
   "cell_type": "code",
   "execution_count": null,
   "metadata": {},
   "outputs": [],
   "source": [
    "b.__next__() # same as next(b)"
   ]
  },
  {
   "cell_type": "markdown",
   "metadata": {},
   "source": [
    "One great way to build new lists from old is to use what is called __list comprehension__. From mathematical standpoint, this is very close to how mathematicians build sets."
   ]
  },
  {
   "cell_type": "code",
   "execution_count": null,
   "metadata": {},
   "outputs": [],
   "source": [
    "cubes = [ x**3 for x in range(1,11) ]\n",
    "print(cubes)"
   ]
  },
  {
   "cell_type": "code",
   "execution_count": null,
   "metadata": {},
   "outputs": [],
   "source": [
    "sum(cubes) # we can sum lists"
   ]
  },
  {
   "cell_type": "code",
   "execution_count": null,
   "metadata": {},
   "outputs": [],
   "source": [
    "sum(L)"
   ]
  },
  {
   "cell_type": "code",
   "execution_count": null,
   "metadata": {},
   "outputs": [],
   "source": [
    "[ x for x in range(1, 100) if x > 50 and x % 3 == 1 ]"
   ]
  },
  {
   "cell_type": "markdown",
   "metadata": {},
   "source": [
    "### Mutating lists\n",
    "\n",
    "All of these methods returned **new** list objects. Recall, Python gives each object a *unique identifier* which we can see by calling the `id()` function."
   ]
  },
  {
   "cell_type": "code",
   "execution_count": null,
   "metadata": {},
   "outputs": [],
   "source": [
    "cold = ['england', 'finland']\n",
    "warm = ['spain','greece']\n",
    "\n",
    "visit = [cold, warm]\n",
    "another_visit = [['england', 'finland'],['spain','greece']]"
   ]
  },
  {
   "cell_type": "code",
   "execution_count": null,
   "metadata": {},
   "outputs": [],
   "source": [
    "visit == another_visit"
   ]
  },
  {
   "cell_type": "code",
   "execution_count": null,
   "metadata": {},
   "outputs": [],
   "source": [
    "print(id(visit))\n",
    "print(id(another_visit))\n",
    "visit is another_visit"
   ]
  },
  {
   "cell_type": "code",
   "execution_count": null,
   "metadata": {},
   "outputs": [],
   "source": [
    "print(\"Before we modify, cold contains\", cold, \"and id\", id(cold))\n",
    "\n",
    "cold[1] = 'sweden'\n",
    "\n",
    "print(\"After we modify, cold contains\", cold, \"and id\", id(cold))"
   ]
  },
  {
   "cell_type": "code",
   "execution_count": null,
   "metadata": {},
   "outputs": [],
   "source": [
    "print(\"Before we modify, cold contains\", cold, \"and id\", id(cold))\n",
    "\n",
    "cold.append('norway')\n",
    "\n",
    "print(\"After we modify, cold contains\", cold, \"and id\", id(cold))"
   ]
  },
  {
   "cell_type": "code",
   "execution_count": null,
   "metadata": {},
   "outputs": [],
   "source": [
    "visit"
   ]
  },
  {
   "cell_type": "code",
   "execution_count": null,
   "metadata": {},
   "outputs": [],
   "source": [
    "another_visit"
   ]
  },
  {
   "cell_type": "markdown",
   "metadata": {},
   "source": [
    "Here are some modifications you can do to a list `some_list`.\n",
    "\n",
    "* `some_list.append(x)` will append the object `x` to the end of `some_list`.\n",
    "* `some_list.insert(idx, x)` will insert the object `x` into `some_list` at index `idx`.\n",
    "* `some_list.extend(other_list)` adds the objects in list `other_list` to the end of `some_list`.\n",
    "* `some_list.remove(x)` deletes the **first** occurrence of an object **equivalent** to `x` from `some_list`.\n",
    "* `some_list.pop(idx)` **removes and returns** the object at index `idx` in `some_list`. If called *without* an argument, this defaults to removing and returning the *last* element of `some_list`.\n",
    "* `some_list.sort()` will sort the elements of `some_list` in ascending order."
   ]
  },
  {
   "cell_type": "code",
   "execution_count": null,
   "metadata": {},
   "outputs": [],
   "source": [
    "print(\"Warm before sorting\", warm)\n",
    "\n",
    "warm.sort()\n",
    "\n",
    "print(\"Warm after sorting\", warm)"
   ]
  },
  {
   "cell_type": "code",
   "execution_count": null,
   "metadata": {},
   "outputs": [],
   "source": [
    "['hello',7].sort() # Can't sort things that can't be compared"
   ]
  },
  {
   "cell_type": "markdown",
   "metadata": {},
   "source": [
    "#### del keyword\n",
    "If you want to delete a whole slice in a list, you can do the following."
   ]
  },
  {
   "cell_type": "code",
   "execution_count": null,
   "metadata": {},
   "outputs": [],
   "source": [
    "a = [6,4,5,3,5,2]\n",
    "print(a)\n",
    "del a[::2] # delete every second element\n",
    "print(a)\n",
    "del a[0:2] # delete the first two elements\n",
    "print(a)"
   ]
  },
  {
   "cell_type": "markdown",
   "metadata": {},
   "source": [
    "**Note:** `del` works only by index, not by value."
   ]
  },
  {
   "cell_type": "markdown",
   "metadata": {},
   "source": [
    "#### Remark 1\n",
    "There are also version of some of these commands that will return **new** lists. For example\n",
    "\n",
    "* `sorted(some_list)` will return a new sorted copy of `some_list` without touching the content of `some_list`\n",
    "* you can *add* two lists using the `+` notation to create a new list instead of using `.extend()`\n",
    "* if you need repeating list of some length, you can use the `*` notation with an `int` to create a repeating list"
   ]
  },
  {
   "cell_type": "code",
   "execution_count": null,
   "metadata": {},
   "outputs": [],
   "source": [
    "data = [67,47,57,37,10,20,311,232,23,1]\n",
    "sorted_data = sorted(data)\n",
    "# Note \\n is the new line character\n",
    "print(\"Original data is\", data,\n",
    "      \"\\n while sorted_data is\", sorted_data)"
   ]
  },
  {
   "cell_type": "code",
   "execution_count": null,
   "metadata": {},
   "outputs": [],
   "source": [
    "[1,2,3,4] + [5,6,7]"
   ]
  },
  {
   "cell_type": "code",
   "execution_count": null,
   "metadata": {},
   "outputs": [],
   "source": [
    "8*[1] # Awesome way to make a repeated list"
   ]
  },
  {
   "cell_type": "markdown",
   "metadata": {},
   "source": [
    "#### Remark 2\n",
    "There might be times when you want to make a **copy** of an object. You should usually try to do this using the `.copy()` method (if the object has one). If `.copy()` does not exists, you can try the basic constructor, such as `list()`.\n",
    "\n",
    "**Warning.** For container objects, if you want a  full copy of all contents, be sure to use `deepcopy`."
   ]
  },
  {
   "cell_type": "code",
   "execution_count": null,
   "metadata": {},
   "outputs": [],
   "source": [
    "visit_copy = visit.copy()\n",
    "\n",
    "print(\"Are visit and visit_copy the same object?\", visit is visit_copy)\n",
    "print(\"Are visit[0] and visit_copy[0] the same object?\", visit[0] is visit_copy[0])"
   ]
  },
  {
   "cell_type": "code",
   "execution_count": null,
   "metadata": {},
   "outputs": [],
   "source": [
    "print(visit_copy)\n",
    "\n",
    "del cold[0]\n",
    "\n",
    "print(visit_copy)"
   ]
  },
  {
   "cell_type": "code",
   "execution_count": null,
   "metadata": {},
   "outputs": [],
   "source": [
    "from copy import deepcopy # to be explained shortly\n",
    "deep_copy = deepcopy(visit)"
   ]
  },
  {
   "cell_type": "markdown",
   "metadata": {},
   "source": [
    "### Tuples\n",
    "\n",
    "Tuples are an **immutable** version of lists. This means that a `tuple` **cannot be modified**. To create tuples you can use the `()` notation. You can also build lists from tuples and vice-versa."
   ]
  },
  {
   "cell_type": "code",
   "execution_count": null,
   "metadata": {},
   "outputs": [],
   "source": [
    "a = (2,3,4)\n",
    "b = list(a) \n",
    "c = tuple(b)\n",
    "print(a,b,c)\n",
    "print(type(a),type(b),type(c))"
   ]
  },
  {
   "cell_type": "code",
   "execution_count": null,
   "metadata": {},
   "outputs": [],
   "source": [
    "a[2] = 5"
   ]
  },
  {
   "cell_type": "markdown",
   "metadata": {},
   "source": [
    "**Warning :** using the `+` and `*` notation on tuples works just like on lists. They are **not** vectors."
   ]
  },
  {
   "cell_type": "code",
   "execution_count": null,
   "metadata": {},
   "outputs": [],
   "source": [
    "('hello',3,4)+(5,6,7)"
   ]
  },
  {
   "cell_type": "code",
   "execution_count": null,
   "metadata": {},
   "outputs": [],
   "source": [
    "4*(1,3)"
   ]
  },
  {
   "cell_type": "markdown",
   "metadata": {},
   "source": [
    "### Strings and characters\n",
    "\n",
    "One can think of strings as **immutable** lists (i.e. tuples) of characters that have many useful methods. A string can contain most forms of characters, including spaces and new lines. Python 3 allows your strings to contain pretty much any character from any language set (by default, strings are encoded using the UTF-8 character encoding). To create basic strings we use\n",
    "\n",
    "* single quotes\n",
    "```python\n",
    "desc = 'I\\'m a string'\n",
    "```\n",
    "* double quotes\n",
    "```python\n",
    "desc = \"I'm a string\"\n",
    "```\n",
    "* triple single or double quotes\n",
    "```python\n",
    "desc = '''This string can span\n",
    "several lines at once'''\n",
    "desc = \"\"\"You may choose whichever \n",
    "style you like better\"\"\"\n",
    "```\n",
    "Some style guides suggest that programmers use double quotes for textual output and single quotes for strings they will use or manipulate in their code."
   ]
  },
  {
   "cell_type": "code",
   "execution_count": null,
   "metadata": {},
   "outputs": [],
   "source": [
    "vowels = 'aeiou'\n",
    "desc = \"These are all the vowels in the English alphabet :\"\n",
    "print(desc, vowels)"
   ]
  },
  {
   "cell_type": "markdown",
   "metadata": {},
   "source": [
    "Strings are a container objects for characters, so they can be manipulated in many of the same ways."
   ]
  },
  {
   "cell_type": "code",
   "execution_count": null,
   "metadata": {},
   "outputs": [],
   "source": [
    "vowels[::-2] # We can slice strings"
   ]
  },
  {
   "cell_type": "code",
   "execution_count": null,
   "metadata": {},
   "outputs": [],
   "source": [
    "len(vowels)"
   ]
  },
  {
   "cell_type": "code",
   "execution_count": null,
   "metadata": {},
   "outputs": [],
   "source": [
    "vowels + 'é'"
   ]
  },
  {
   "cell_type": "code",
   "execution_count": null,
   "metadata": {},
   "outputs": [],
   "source": [
    "4*'repeat '"
   ]
  },
  {
   "cell_type": "markdown",
   "metadata": {},
   "source": [
    "Strings have tons of useful methods. Here are a few. Remember that string are immutable, so all methods return new objects. Also, all search methods use `==` as the test.\n",
    "\n",
    "* `some_string.count(sub_string)` counts how many times `sub_string` occurs in `some_string`.\n",
    "* `some_string.find(sub_string)` returns the **non-negative** index of the first occurrence of `sub_string` in `some_string` and `-1` if not found.\n",
    "* `some_string.rfind(sub_string)` is reverse find, same as find but starts from the end of `some_string`.\n",
    "* `some_string.lower()` returns an all lowercase version of `some_string`. Also `some_string.upper()`\n",
    "* `some_string.replace(old, new)` returns a string with all occurrences `old` in `some_string` replaced with `new`.\n",
    "* `some_string.rstrip()` returns a string with all trailing white space removed from `some_string`.\n",
    "* `some_string.split(delim)` returns a list of strings cut along `delim`.\n",
    "* `delim.join(list_of_strings)` return a string which is the concatenation of the strings in `list_of_strings` separated by `delim`."
   ]
  },
  {
   "cell_type": "code",
   "execution_count": null,
   "metadata": {},
   "outputs": [],
   "source": [
    "word = 'esteemed'\n",
    "\n",
    "print(\"The word\", word, \"has\", word.count('e'), \"e's in it\") # Note the single quote inside the double quote"
   ]
  },
  {
   "cell_type": "code",
   "execution_count": null,
   "metadata": {},
   "outputs": [],
   "source": [
    "c = 'd'\n",
    "idx = word.find(c)\n",
    "print(\"Looking for character\", c, \"and found the character\",\n",
    "      word[idx], \"at index\", idx, \"of string\", word)"
   ]
  },
  {
   "cell_type": "code",
   "execution_count": null,
   "metadata": {},
   "outputs": [],
   "source": [
    "# Be sure to check the sign of you found index!\n",
    "c = 'j'\n",
    "idx = word.find(c)\n",
    "print(\"Looking for character\", c, \"and found the character\",\n",
    "      word[idx], \"at index\", idx, \"of string\", word)"
   ]
  },
  {
   "cell_type": "markdown",
   "metadata": {},
   "source": [
    "Clearly we did not find the right character.\n",
    "\n",
    "We can also search for substrings."
   ]
  },
  {
   "cell_type": "code",
   "execution_count": null,
   "metadata": {},
   "outputs": [],
   "source": [
    "word.find('ee')"
   ]
  },
  {
   "cell_type": "code",
   "execution_count": null,
   "metadata": {},
   "outputs": [],
   "source": [
    "# Stipping whitespace\n",
    "(4*'repeat ').rstrip()"
   ]
  },
  {
   "cell_type": "code",
   "execution_count": null,
   "metadata": {},
   "outputs": [],
   "source": [
    "# Splitting stings can be super useful\n",
    "'I hope we are not out of time yet'.split(' ')"
   ]
  },
  {
   "cell_type": "code",
   "execution_count": null,
   "metadata": {},
   "outputs": [],
   "source": [
    "# Joining is the reverse of splitting. Also extremely useful\n",
    "'|'.join(['a', 'list', 'of', 'words'])"
   ]
  },
  {
   "cell_type": "markdown",
   "metadata": {},
   "source": [
    "I recommend that you read about many of the other string manipulation methods available in python at [docs.python.org/3.7/library/stdtypes.html](https://docs.python.org/3.7/library/stdtypes.html)\n",
    "\n",
    "#### String Formatting\n",
    "\n",
    "One of the most useful methods of the `str` type is the `.format()` method. It allows you to \"print\" or display the content of variables into a string. Let's start with an example."
   ]
  },
  {
   "cell_type": "code",
   "execution_count": null,
   "metadata": {},
   "outputs": [],
   "source": [
    "desc = 'One {0} is about {1:.2%}. '.format('third', 1/3)\n",
    "print(desc)"
   ]
  },
  {
   "cell_type": "markdown",
   "metadata": {},
   "source": [
    "Above, the brackets contain `{ index_or_key : format_spec }`. The `index_or_key` variable tells the string which argument of `format()` to place there. The `format_spec` tells the string how to format the variable. For example, `.2%` means we want a percentage with 2 places after the decimal. Note, currently we are using the US notion for numbers. For international formats, you can look up how to change the `locale`.  "
   ]
  },
  {
   "cell_type": "code",
   "execution_count": null,
   "metadata": {},
   "outputs": [],
   "source": [
    "# We can reuse the same variable multple times\n",
    "# and display it in different formats\n",
    "desc = 'The integer {0} can be formatted as a float {0:,.2f}'.format(132919321)\n",
    "print(desc)"
   ]
  },
  {
   "cell_type": "code",
   "execution_count": null,
   "metadata": {},
   "outputs": [],
   "source": [
    "desc = '''We can also pad output with zeros {0:0>4}, {1:0<4}, \n",
    " spaces in front |{0:>4}| or back |{1:<4}|,\n",
    " and with other characters |{0:j>5}| and pad all around |{1:j^10}|'''.format(6,6**2)\n",
    "print(desc)"
   ]
  },
  {
   "cell_type": "markdown",
   "metadata": {},
   "source": [
    "Formatting can get very complicated very quickly. For full details, read [docs.python.org/3/library/string.html#formatspec](https://docs.python.org/3/library/string.html#formatspec). Here is a brief overview.\n",
    "\n",
    "* Format spec can look like `[[fill]align][width][,][.precision][type]` **without** the grouping brackets `[]`\n",
    "* `fill` can be any character\n",
    "* `align` usually used as `<` (pad right), `>` (pad left), or `^` (center) is the `fill` character\n",
    "* `width` is an integer specifying *minimum* field width \n",
    "* `,` works only for printing comma separated floats and integers (US-style only)\n",
    "* `precision` works differently depending on the type. For numerical types, it specifies the number of digits after the decimal point. For non-numerical types, it specifies the *maximum* field width.\n",
    "* `type` can be many different options, common ones are\n",
    "   * integers types are `d` (decimal), `b` (binary), `x` (hex), `n` (locale formatted)\n",
    "   * floating point times are `f` (fixed point), `e` (scientific), `g` (general format), `%` (percent), `n` (locale formatted)\n",
    "   * string types are `s` (string) and `c` (character)"
   ]
  },
  {
   "cell_type": "code",
   "execution_count": null,
   "metadata": {},
   "outputs": [],
   "source": [
    "'The integer {1:d} is {1:b} in binary'.format(232, 450)"
   ]
  },
  {
   "cell_type": "markdown",
   "metadata": {},
   "source": [
    "#### Literal String Interpolation\n",
    "\n",
    "Also knows as **\"f-strings,\"** this is a more concise alternative to `.format()` in some cases "
   ]
  },
  {
   "cell_type": "code",
   "execution_count": 1,
   "metadata": {},
   "outputs": [
    {
     "name": "stdout",
     "output_type": "stream",
     "text": [
      "Sam is 37 years old\n"
     ]
    }
   ],
   "source": [
    "name = 'Sam'\n",
    "age = 36.7\n",
    "desc = f\"{name} is {age:.0f} years old\"\n",
    "\n",
    "print(desc)"
   ]
  },
  {
   "cell_type": "markdown",
   "metadata": {},
   "source": [
    "These are a new shorthand for python 3.6+ but have some limitations. See [realpython.com/python-f-strings/](https://realpython.com/python-f-strings/) for a guide."
   ]
  },
  {
   "cell_type": "markdown",
   "metadata": {},
   "source": [
    "### More containers for later\n",
    "\n",
    "We will look at dictionaries and sets (and frozensets) in the afternoon session. There is also a `bytes` type that may be useful for you to look at.\n",
    "\n",
    "All built-in types can be found at [docs.python.org/3/library/stdtypes.html](https://docs.python.org/3/library/stdtypes.html)"
   ]
  },
  {
   "cell_type": "markdown",
   "metadata": {},
   "source": [
    "## Control Flow\n",
    "\n",
    "We can control the flow of a program using conditional statements and loops. Python uses **indentation** to indicate blocks of code withing a loop or any kind of statement. You will see how this works below.\n",
    "### if/elif/else"
   ]
  },
  {
   "cell_type": "code",
   "execution_count": null,
   "metadata": {},
   "outputs": [],
   "source": [
    "cold = ['sweden', 'finland']\n",
    "if 'england' in cold : # notice the in keyword\n",
    "    print(\"England is cold\")\n",
    "elif 'finland' in cold : \n",
    "    print(\"Finland is cold\")\n",
    "elif len(cold) == 2 :\n",
    "    print(\"Two cold places that aren't england or sweden\")\n",
    "else :\n",
    "    print(\"Nothing is true\")"
   ]
  },
  {
   "cell_type": "markdown",
   "metadata": {},
   "source": [
    "You don't need to inlucde `elif` or even `else` statements in your if statements."
   ]
  },
  {
   "cell_type": "markdown",
   "metadata": {},
   "source": [
    "### for/range\n",
    "\n",
    "The `for` loop is useful when you need to iterate over a list or known set of indexes. **Do not modify what you are iterating over**."
   ]
  },
  {
   "cell_type": "code",
   "execution_count": null,
   "metadata": {},
   "outputs": [],
   "source": [
    "for i in range(5) :\n",
    "    print(i)"
   ]
  },
  {
   "cell_type": "code",
   "execution_count": null,
   "metadata": {},
   "outputs": [],
   "source": [
    "for c in 'a string' :\n",
    "    print(c)"
   ]
  },
  {
   "cell_type": "code",
   "execution_count": null,
   "metadata": {},
   "outputs": [],
   "source": [
    "for p in 'comma,separated,string'.split(',') :\n",
    "    print(p)"
   ]
  },
  {
   "cell_type": "code",
   "execution_count": null,
   "metadata": {},
   "outputs": [],
   "source": [
    "data = [1,2,3,4,5]\n",
    "for x in data :\n",
    "    print(x)\n",
    "    data.remove(x) # BAD!!!"
   ]
  },
  {
   "cell_type": "markdown",
   "metadata": {},
   "source": [
    "If I used `.append(x)` above, I would be appending **forever**!"
   ]
  },
  {
   "cell_type": "markdown",
   "metadata": {},
   "source": [
    "#### Enumerate\n",
    "\n",
    "Sometimes it is useful (or efficient) to loop though a list by looking at the index and value in pairs. There is a useful function `enumerate` for this. It returns a iterable of pairs `(index,value)` in a list. For example,"
   ]
  },
  {
   "cell_type": "code",
   "execution_count": null,
   "metadata": {},
   "outputs": [],
   "source": [
    "a = ['a',7,8,'n','q',8]\n",
    "for idx, val in enumerate(a) :\n",
    "    print(\"At index {} the list has value {}\".format(idx,val))"
   ]
  },
  {
   "cell_type": "markdown",
   "metadata": {},
   "source": [
    "### while/break/continue\n",
    "\n",
    "Collatz conjecture (also known as the Syracuse problem) test using a while loop"
   ]
  },
  {
   "cell_type": "code",
   "execution_count": null,
   "metadata": {},
   "outputs": [],
   "source": [
    "u = 10\n",
    "seq = [u]\n",
    "while u != 1 :\n",
    "    # The loop block of code starts here\n",
    "    if u % 2 == 0 and u > 0:\n",
    "        u = u // 2\n",
    "    else :\n",
    "        u = 3*u + 1\n",
    "    seq.append(u)\n",
    "    print(seq)\n",
    "    # The loop block of code ends here with the last indent of this level\n",
    "# Now the while loop is completely over!    \n",
    "print('Starting with {0}, the Syracuse sequence terminates in {1} steps'.format(seq[0], len(seq)-1))\n",
    "print('The sequence is', seq)"
   ]
  },
  {
   "cell_type": "markdown",
   "metadata": {},
   "source": [
    "There are also key words\n",
    "* `break` tells the program to leave (or break from) the inner most `for` or `while` loop\n",
    "* `continue` tells the program to skip the rest of the code block and start a new loop"
   ]
  },
  {
   "cell_type": "code",
   "execution_count": null,
   "metadata": {},
   "outputs": [],
   "source": [
    "n = 6\n",
    "n_factorial = n # We will modify this variable in the loop\n",
    "while True :\n",
    "    if n != 1 :\n",
    "        n = n-1\n",
    "        n_factorial *= n # This is short hand for n_factorial = n_factorial * n \n",
    "    else :\n",
    "        break # Leave the loop entirely\n",
    "print(n_factorial)"
   ]
  },
  {
   "cell_type": "code",
   "execution_count": null,
   "metadata": {},
   "outputs": [],
   "source": [
    "for c in 'pythoneeeee' :\n",
    "    print(c) # Just to see what the loop is doing, let's see what we are interating over\n",
    "    if c not in 'aeiou' :\n",
    "        continue # Continue at the top of the loop with next value of c\n",
    "    print('The first vowel is', c) # This only gets executed when the condition in the if statement is false\n",
    "    break # We found one vowel, we are done"
   ]
  },
  {
   "cell_type": "markdown",
   "metadata": {},
   "source": [
    "## Functions (briefly)\n",
    "\n",
    "Functions are used to organize code into reusable units. For example, we can write a factorial function as"
   ]
  },
  {
   "cell_type": "code",
   "execution_count": null,
   "metadata": {},
   "outputs": [],
   "source": [
    "def factorial(n) :\n",
    "    result = 1\n",
    "    for x in range(n,1,-1) : # note that range(n,1,-1) staring with n and stepping back by 1\n",
    "        result *= x #  we use the short hand for result = result * x\n",
    "    return result"
   ]
  },
  {
   "cell_type": "code",
   "execution_count": null,
   "metadata": {},
   "outputs": [],
   "source": [
    "factorial(5)"
   ]
  },
  {
   "cell_type": "code",
   "execution_count": null,
   "metadata": {},
   "outputs": [],
   "source": [
    "print('{0}! is equal to {1}'.format(2,factorial(2)))\n",
    "print('{0}! is equal to {1}'.format(10,factorial(10)))\n",
    "print('{0}! is equal to {1}'.format(-1,factorial(-1)))"
   ]
  },
  {
   "cell_type": "markdown",
   "metadata": {},
   "source": [
    "You can give a function multiple arguments. Notice that the arguments are passed by **position**"
   ]
  },
  {
   "cell_type": "code",
   "execution_count": null,
   "metadata": {},
   "outputs": [],
   "source": [
    "def discriminant(a,b,c) :\n",
    "    return b**2 - 4*a*c\n",
    "print(discriminant(3,4,7))"
   ]
  },
  {
   "cell_type": "markdown",
   "metadata": {},
   "source": [
    "We will get more into functions and arguments in the afternoon.\n",
    "\n",
    "## Modules (briefly)\n",
    "\n",
    "\n",
    "\n"
   ]
  },
  {
   "cell_type": "markdown",
   "metadata": {},
   "source": [
    "All the code we have written so far has been the interpreter. For managing projects and more complex coding paths, we need to write the code in text files which are either *scripts* or *modules*. For example, I have written a file called `useless_module.py` with one function inside called `useless`. I put this file in the current directory."
   ]
  },
  {
   "cell_type": "code",
   "execution_count": null,
   "metadata": {},
   "outputs": [],
   "source": [
    "%ls # notebook interpreter can call some basic system commands"
   ]
  },
  {
   "cell_type": "code",
   "execution_count": null,
   "metadata": {
    "scrolled": true
   },
   "outputs": [],
   "source": [
    "%cat useless_module.py # Print the contents of the file to output"
   ]
  },
  {
   "cell_type": "markdown",
   "metadata": {},
   "source": [
    "We can **import** the code in the file `useless_module.py` into our active session. Calling `import` acutally runs the code in your file."
   ]
  },
  {
   "cell_type": "code",
   "execution_count": null,
   "metadata": {},
   "outputs": [],
   "source": [
    "import useless_module # import, that is run, the code in the file useless_module.py\n",
    "\n",
    "useless_module.useless() # we can now call the uselss function we defined in useless_module.py"
   ]
  },
  {
   "cell_type": "markdown",
   "metadata": {},
   "source": [
    "Python has a huge list of available modules and *packages* (which are collections of modules). Here are a few."
   ]
  },
  {
   "cell_type": "code",
   "execution_count": null,
   "metadata": {},
   "outputs": [],
   "source": [
    "import math\n",
    "import random"
   ]
  },
  {
   "cell_type": "code",
   "execution_count": null,
   "metadata": {},
   "outputs": [],
   "source": [
    "math.sin(30)"
   ]
  },
  {
   "cell_type": "code",
   "execution_count": null,
   "metadata": {},
   "outputs": [],
   "source": [
    "perm = [1,2,3,4]\n",
    "\n",
    "random.shuffle(perm) # Randomly shuffles the list\n",
    "\n",
    "print(perm)"
   ]
  },
  {
   "cell_type": "markdown",
   "metadata": {},
   "source": [
    "You can also import select functions or objects from a module into your **global namespace** via then `from` keyword"
   ]
  },
  {
   "cell_type": "code",
   "execution_count": null,
   "metadata": {},
   "outputs": [],
   "source": [
    "print(discriminant(3,4,7))\n",
    "\n",
    "from useless_module import discriminant, useless\n",
    "\n",
    "print(discriminant(3,4,7)) # the global discriminant function has been over written by the import"
   ]
  },
  {
   "cell_type": "markdown",
   "metadata": {},
   "source": [
    "Be careful, you can easily **overwrite** some global function you have already declared.\n",
    "\n",
    "Note, `from some_module import *` is highly discouraged."
   ]
  },
  {
   "cell_type": "markdown",
   "metadata": {},
   "source": [
    "We will discover modules along the way."
   ]
  }
 ],
 "metadata": {
  "anaconda-cloud": {},
  "kernelspec": {
   "display_name": "Python 3",
   "language": "python",
   "name": "python3"
  },
  "language_info": {
   "codemirror_mode": {
    "name": "ipython",
    "version": 3
   },
   "file_extension": ".py",
   "mimetype": "text/x-python",
   "name": "python",
   "nbconvert_exporter": "python",
   "pygments_lexer": "ipython3",
   "version": "3.7.4"
  },
  "nbpresent": {
   "slides": {
    "6fd7db55-fcb2-4f93-abe8-3b8b8774e3a1": {
     "id": "6fd7db55-fcb2-4f93-abe8-3b8b8774e3a1",
     "prev": null,
     "regions": {
      "8a501b0f-e9cf-4c6c-8c59-08ef5391405a": {
       "attrs": {
        "height": 0.8,
        "width": 0.8,
        "x": 0.1,
        "y": 0.1
       },
       "content": {
        "cell": "40a7701e-a37f-426c-8fc9-f65b525a98ac",
        "part": "whole"
       },
       "id": "8a501b0f-e9cf-4c6c-8c59-08ef5391405a"
      }
     }
    }
   },
   "themes": {}
  }
 },
 "nbformat": 4,
 "nbformat_minor": 4
}
