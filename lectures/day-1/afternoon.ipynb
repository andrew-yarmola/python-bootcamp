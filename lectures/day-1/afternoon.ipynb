{
 "cells": [
  {
   "cell_type": "markdown",
   "metadata": {},
   "source": [
    "# Python Bootcamp Day 1 Afternoon\n",
    "\n",
    "Box problem solution"
   ]
  },
  {
   "cell_type": "code",
   "execution_count": null,
   "metadata": {},
   "outputs": [],
   "source": [
    "import random\n",
    "\n",
    "def individual_strategy(boxes_list, num_tries, num_to_find) :\n",
    "    \"\"\" Implements the cycle strategy for a player to\n",
    "    look for their number (num_to_find) in a list (boxes_list) with\n",
    "    a limited number of tries (num_tries). The function\n",
    "    returns True if the number is found, False otherwise.\n",
    "    The algorithm treats boxes[i] as a permtuation and\n",
    "    looks through the cycle containing i = person. \"\"\"\n",
    "\n",
    "    count = 0\n",
    "    idx = num_to_find\n",
    "    while count < num_tries :\n",
    "        curr = boxes_list[idx]\n",
    "        if curr == num_to_find :\n",
    "            return True\n",
    "        idx = curr\n",
    "        count += 1\n",
    "    return False\n",
    "\n",
    "def play_box_game(num_ppl, num_tries, strategy, num_runs = 1) :\n",
    "    \"\"\" Given num_ppl, num_tries, a strategy, and num_runs, will\n",
    "    play the game num_runs times. For each run we randomly shuffle\n",
    "    the box list. Returns the list of game outcomes.\"\"\"\n",
    "\n",
    "    boxes = list(range(num_ppl))\n",
    "    game_results = []\n",
    "    while len(game_results) < num_runs + 1 :\n",
    "        result = True\n",
    "        # Shuffle the boxes once per game\n",
    "        random.shuffle(boxes)\n",
    "        for person in range(num_ppl) :\n",
    "            result = result and strategy(boxes,num_tries,person)\n",
    "            if result is False : # We have lost !!!\n",
    "                break \n",
    "        game_results.append(result)\n",
    "    return sum(game_results)/len(game_results)"
   ]
  },
  {
   "cell_type": "code",
   "execution_count": null,
   "metadata": {},
   "outputs": [],
   "source": [
    "play_box_game(10, 5, individual_strategy, 100000)"
   ]
  },
  {
   "cell_type": "markdown",
   "metadata": {},
   "source": [
    "## Docstrings, comments, and writing style\n",
    "\n",
    "Along with **good variable names**, docstrings and comments are a great way to keep your code readable and organized. Let's begin with comments."
   ]
  },
  {
   "cell_type": "code",
   "execution_count": null,
   "metadata": {},
   "outputs": [],
   "source": [
    "# This is a comment\n",
    "\n",
    "four = 4 # This is a comment on the same line as some code\n",
    "\n",
    "# To make multi-line commnets\n",
    "# just place a # at the beginning of every line"
   ]
  },
  {
   "cell_type": "markdown",
   "metadata": {},
   "source": [
    "You should keep your **line length** around **80** characters for readability. __In general, the end of a line in python means the end of a statement or command__. However, sometimes you have a very long expression and you want to use multiple lines to make it look clean.\n",
    "\n",
    "If your line is getting too long, you can use `\\` symbol to tell python to **explicitly** continue on the next line. Additionally, inside `[]`, `()` and similar brackets, python will **implicitly** continue reading on the next line."
   ]
  },
  {
   "cell_type": "code",
   "execution_count": null,
   "metadata": {},
   "outputs": [],
   "source": [
    "# Continuing a line explicitly using \\\n",
    "if 6 < 4 \\\n",
    "    or 2 in [0,2,3] \\\n",
    "    and 'something' != 'else' :\n",
    "        print(\"That's a lot of conditions to check.\")\n",
    "\n",
    "# You can also do this in declarations\n",
    "example = 'this ' + 'is ' + 'not ' + 'the ' + 'best ' +\\\n",
    "    'example ' + 'however ' + 'I ' + 'hope ' + 'you ' + 'get ' +\\\n",
    "    'the ' + 'point'\n",
    "    \n",
    "print(example)"
   ]
  },
  {
   "cell_type": "markdown",
   "metadata": {},
   "source": [
    "**Remark.** Notice that in the above `if` statement, the `or` operator is evaluated **before** the `and`. If you want to be explicit, use `()` around your `and`, `or` expressions. \n",
    "\n",
    "**Warning.** You cannot put *any* characters after the line continuation character `\\`. Not even a space! Not even a comment.\n",
    "\n",
    "In most cases, you should use implicit continuation. It generally reads better."
   ]
  },
  {
   "cell_type": "code",
   "execution_count": null,
   "metadata": {},
   "outputs": [],
   "source": [
    "# For continuing implicitly, we can use ()\n",
    "if (6 < 4\n",
    "    or 2 in [0,2,3]\n",
    "    and 'something' != 'else') :\n",
    "        print(\"That's a lot of conditions to check.\")\n",
    "             \n",
    "# In declaratinons we can also use implicit continuation\n",
    "long_list = ['a', 'very', 'very', 'very', 'very', 'very',\n",
    "             'very', 'very', 'long', 'list']\n",
    "\n",
    "print(long_list)"
   ]
  },
  {
   "cell_type": "markdown",
   "metadata": {},
   "source": [
    "The style guide conventions for python can be found at [www.python.org/dev/peps/pep-0008/](https://www.python.org/dev/peps/pep-0008/)"
   ]
  },
  {
   "cell_type": "markdown",
   "metadata": {},
   "source": [
    "### Docstrings\n",
    "\n",
    "It is important to document your functions so that users will know what kind of input the function expects and what kind of output it will produce. To documents a function, we use **docstrings** in python, which are just **triple-quoted** strings on the line right after the `def` statement.\n",
    "\n",
    "The docstring style guide can be found at [www.python.org/dev/peps/pep-0257/](https://www.python.org/dev/peps/pep-0257/)"
   ]
  },
  {
   "cell_type": "code",
   "execution_count": null,
   "metadata": {},
   "outputs": [],
   "source": [
    "\"\"\"\n",
    "This is amulti-line comment \n",
    "\n",
    "you can see if this is good style or not by looking style guide\n",
    "\n",
    "\"\"\"\n",
    "\n",
    "def bits_needed(n) :\n",
    "    \"\"\"\n",
    "    Computes the number of bits needed to represent\n",
    "    an integer. The count includes the sign.\n",
    "    \n",
    "    Parameters\n",
    "    ----------\n",
    "    n : int, required\n",
    "    \"\"\"\n",
    "    return len('{0:+b}'.format(n))"
   ]
  },
  {
   "cell_type": "code",
   "execution_count": null,
   "metadata": {},
   "outputs": [],
   "source": [
    "help(bits_needed)"
   ]
  },
  {
   "cell_type": "markdown",
   "metadata": {},
   "source": [
    "### Function annotation\n",
    "\n",
    "If you ever encoutner something like"
   ]
  },
  {
   "cell_type": "code",
   "execution_count": null,
   "metadata": {},
   "outputs": [],
   "source": [
    "def add(x : int, y : int) -> int:\n",
    "    return x + y\n",
    "\n",
    "help(add)"
   ]
  },
  {
   "cell_type": "markdown",
   "metadata": {},
   "source": [
    "know that this is **function annotation**. It is simply for **readabily** and **has no impact on how the code runs.** Python will **not** check the types for you if you write code this way. The above is **equivalent** to"
   ]
  },
  {
   "cell_type": "code",
   "execution_count": null,
   "metadata": {},
   "outputs": [],
   "source": [
    "def add(x,y) :\n",
    "    return x + y"
   ]
  },
  {
   "cell_type": "markdown",
   "metadata": {},
   "source": [
    "### Functions are Objects!\n",
    "\n",
    "This makes is very easy to pass functions around. In the box problem, you already saw that I can pass the `strategy` function to my `play_box_game` code.\n",
    "\n",
    "For another example, you could make a custom function to apply to every element of a list."
   ]
  },
  {
   "cell_type": "code",
   "execution_count": null,
   "metadata": {},
   "outputs": [],
   "source": [
    "def custom(data) :\n",
    "    return 3*data\n",
    "    \n",
    "a = [1,2,3,4]\n",
    "custom_a = list(map(custom, a)) # apply custom to each element in a\n",
    "print(custom_a)"
   ]
  },
  {
   "cell_type": "markdown",
   "metadata": {},
   "source": [
    "Above, you see the wonderful `map` function.\n",
    "* `map(func, list_1, list_2, ...)` applies `func` to the elements of the supplied lists. When multiple lists are supplied, map returns an **iterator** object containing `func(list_1[i], list_2[i], ...)`, until the shortest list is exhausted.\n",
    "\n",
    "Here is another example."
   ]
  },
  {
   "cell_type": "code",
   "execution_count": null,
   "metadata": {},
   "outputs": [],
   "source": [
    "def diff_sq(a,b) :\n",
    "    \"\"\" Return the difference squared \"\"\"\n",
    "    return (a - b)**2\n",
    "\n",
    "def dist(x,y) :\n",
    "    \"\"\"\n",
    "    Return the Euclidean distance between vectors x and y.\n",
    "    \n",
    "    Implementation detail\n",
    "    ---------------------\n",
    "    If x is shorter than y (or vice versa) then y is truncated\n",
    "    to the length of x \"\"\"\n",
    "    # Here, we map the diff_sq function over the two lists, sum the results,\n",
    "    # and take the square root\n",
    "    return sum(map(diff_sq, x, y))**(1/2)\n",
    "\n",
    "print(dist((1,0,2),(1,0,3)))"
   ]
  },
  {
   "cell_type": "markdown",
   "metadata": {},
   "source": [
    "I stated that `map` returns an **iterator**. An **iterator** is an object that represents a steam of data. Basically, it's an object that supports a `.__next__()` method or can be passed as an argument to the `next(some_iterator)` function. This is a convenient construct because it allows for **lazy evaluation**, i.e. the value of the next object is only computed as needed. For example, "
   ]
  },
  {
   "cell_type": "code",
   "execution_count": null,
   "metadata": {},
   "outputs": [],
   "source": [
    "import random\n",
    "\n",
    "# generate some random points in the plane with both coordinates\n",
    "# between 0 and 1\n",
    "# note : there are better ways to do this, we as will learn later\n",
    "x_points = [ (random.random(),random.random()) for i in range(10) ]\n",
    "y_points = [ (random.random(),random.random()) for i in range(10) ]\n",
    "\n",
    "# print the first distance that's closer than 1/3\n",
    "idx = 0\n",
    "map_iterator = map(dist, x_points, y_points)\n",
    "for d in map_iterator :\n",
    "    if d < 1/3 :\n",
    "        print(\"\"\"Samples {} and {} were at\n",
    "index {} and have distance {} < 1/3.\"\"\".format(x_points[idx],\n",
    "                                               y_points[idx], idx, d))\n",
    "        break\n",
    "    idx += 1"
   ]
  },
  {
   "cell_type": "markdown",
   "metadata": {},
   "source": [
    "Above, the `dist` function was never called for the points after the found index."
   ]
  },
  {
   "cell_type": "markdown",
   "metadata": {},
   "source": [
    "## Functions, passing by value, and scope\n",
    "\n",
    "In python, parameters are passed to functions as references to objects in memory. Therefore, you can modify the input value of a function only when the object is __mutable__. For example,"
   ]
  },
  {
   "cell_type": "code",
   "execution_count": null,
   "metadata": {},
   "outputs": [],
   "source": [
    "def reverse_list(L) :\n",
    "    \"\"\"Sorts the contents of L in reverse order. Returns L.\"\"\"\n",
    "    print(\"Local id of L is {}.\".format(id(L)))\n",
    "    L.sort(reverse=True)\n",
    "    return L"
   ]
  },
  {
   "cell_type": "code",
   "execution_count": null,
   "metadata": {},
   "outputs": [],
   "source": [
    "import random\n",
    "# pick 5 random numbers from 0,...,9\n",
    "rand_list = random.sample(range(10),5)\n",
    "print(rand_list)"
   ]
  },
  {
   "cell_type": "code",
   "execution_count": null,
   "metadata": {},
   "outputs": [],
   "source": [
    "print(\"Global id of rand_list is {}\".format(id(rand_list)))"
   ]
  },
  {
   "cell_type": "code",
   "execution_count": null,
   "metadata": {},
   "outputs": [],
   "source": [
    "reversed_list = reverse_list(rand_list)\n",
    "print(\"Global id of rand_list is {}\".format(id(reversed_list)))"
   ]
  },
  {
   "cell_type": "code",
   "execution_count": null,
   "metadata": {},
   "outputs": [],
   "source": [
    "rand_list is reversed_list"
   ]
  },
  {
   "cell_type": "markdown",
   "metadata": {},
   "source": [
    "As you can see, `rand_list`, `reverse_list` and even `L` (while inside the function) point to the same bit of memory.\n",
    "\n",
    "Python does does following when you call `reverse_list`\n",
    "* declare a namespace for the function call of `reverse_list` (this is called a **stack frame**)\n",
    "* copy the reference from `rand_list` to the **local** name `L`\n",
    "* run the indented code under the `def` line\n",
    "* the local namespace is cleared (i.e. the names used locally in the function are forgotten)\n",
    "\n",
    "The **scope** of a variable name is a *textual* region of a python program where that variable name is directly accessible. "
   ]
  },
  {
   "cell_type": "code",
   "execution_count": null,
   "metadata": {},
   "outputs": [],
   "source": [
    "L # Even though we ran the function above,\n",
    "# L is not a variable name outside of the function call"
   ]
  },
  {
   "cell_type": "markdown",
   "metadata": {},
   "source": [
    "Above, `L` has only **local** scope in the function `reverse_list`.\n",
    "\n",
    "Namespaces are searched as a nested set. For example,"
   ]
  },
  {
   "cell_type": "code",
   "execution_count": null,
   "metadata": {},
   "outputs": [],
   "source": [
    "x = 5\n",
    "def add_x(y) :\n",
    "    return x+y # x does not exist in the local scope,\n",
    "               # so it is pulled from the next one up"
   ]
  },
  {
   "cell_type": "code",
   "execution_count": null,
   "metadata": {},
   "outputs": [],
   "source": [
    "x = 165600\n",
    "\n",
    "add_x(8)"
   ]
  },
  {
   "cell_type": "markdown",
   "metadata": {},
   "source": [
    "Here, `x` has `global` (or `module`) level scope and can only be found is the global namespace."
   ]
  },
  {
   "cell_type": "code",
   "execution_count": null,
   "metadata": {},
   "outputs": [],
   "source": [
    "x = 5\n",
    "def add_7(y) :\n",
    "    x = 7 # x is declared in the local scope\n",
    "    return x+y # x now has local scope,\n",
    "               # it is first found in the local namespace"
   ]
  },
  {
   "cell_type": "code",
   "execution_count": null,
   "metadata": {},
   "outputs": [],
   "source": [
    "print(add_7(7)) # inside the function x = 7\n",
    "print(x) # outside the function x = 5"
   ]
  },
  {
   "cell_type": "markdown",
   "metadata": {},
   "source": [
    "### Global variables\n",
    "\n",
    "It is not recommended, but at times your code might work better (or read better) if you have a global variable that you would like to reassign or modify in the body of a function. "
   ]
  },
  {
   "cell_type": "code",
   "execution_count": null,
   "metadata": {},
   "outputs": [],
   "source": [
    "L = 'a global list'.split() # outside we have L\n",
    "print(\"Global id of L is {}\".format(id(L)))\n",
    "\n",
    "reverse_list(rand_list) # inside we also have L"
   ]
  },
  {
   "cell_type": "code",
   "execution_count": null,
   "metadata": {},
   "outputs": [],
   "source": [
    "def reverse_global() :\n",
    "    global L # we can declare that we us the global L\n",
    "    L.sort(reverse=True)\n",
    "    return L"
   ]
  },
  {
   "cell_type": "code",
   "execution_count": null,
   "metadata": {},
   "outputs": [],
   "source": [
    "print(reverse_global())\n",
    "print(L)"
   ]
  },
  {
   "cell_type": "code",
   "execution_count": null,
   "metadata": {},
   "outputs": [],
   "source": [
    "# cannot have both a local and global L\n",
    "def reverse_global_with_arg(L) :\n",
    "    global L\n",
    "    L.sort(reverse=True)\n",
    "    return L"
   ]
  },
  {
   "cell_type": "markdown",
   "metadata": {},
   "source": [
    "## Positional, named and default parameters\n",
    "\n",
    "So far, for functions with multiple arguments we have used  **position** to specify which parameter is set to which local variable. For example,\n"
   ]
  },
  {
   "cell_type": "code",
   "execution_count": null,
   "metadata": {},
   "outputs": [],
   "source": [
    "def print_args(a,b) :\n",
    "    print(8*'-')\n",
    "    print(\"a is\", a)\n",
    "    print(\"b is\", b)\n",
    "    print(8*'-')\n",
    "    \n",
    "print_args(5,'foo')\n",
    "print_args('bar',6)"
   ]
  },
  {
   "cell_type": "markdown",
   "metadata": {},
   "source": [
    "As you may have noticed earlier, I used a **named parameter** `reverse` in the method call `sort(reverse = True)`. Python allows you to specify the parameter name in the function call"
   ]
  },
  {
   "cell_type": "code",
   "execution_count": null,
   "metadata": {},
   "outputs": [],
   "source": [
    "print_args(b = 5, a = 'foo')"
   ]
  },
  {
   "cell_type": "code",
   "execution_count": null,
   "metadata": {},
   "outputs": [],
   "source": [
    "# What happens if you don't give all the parameters?\n",
    "print_args(b = 5)"
   ]
  },
  {
   "cell_type": "code",
   "execution_count": null,
   "metadata": {},
   "outputs": [],
   "source": [
    "# What happens if you make up a variable\n",
    "# name at the time of the call?\n",
    "print_args(a = 5, c = 'bar')"
   ]
  },
  {
   "cell_type": "markdown",
   "metadata": {},
   "source": [
    "In fact, the parameter `reverse` in the function call `sort(reverse = True)` also an **optional parameter**. These are also known as **keyword** parameters. Optional parameter can be specified as part of the function definition. They must come **after** positional argumetns and they need to be given a **function-global default value**."
   ]
  },
  {
   "cell_type": "code",
   "execution_count": null,
   "metadata": {},
   "outputs": [],
   "source": [
    "# we define optional parameters the_list, reverse, and print_list\n",
    "def append_and_sort(data, the_list = [],\n",
    "                    reverse = False, print_list = False) :\n",
    "    the_list.append(data)\n",
    "    # how can we use reverse = revese? Explain!\n",
    "    the_list.sort(reverse = reverse)\n",
    "    if print_list :\n",
    "        print('The list is', the_list)"
   ]
  },
  {
   "cell_type": "code",
   "execution_count": null,
   "metadata": {},
   "outputs": [],
   "source": [
    "L = [3,2]\n",
    "append_and_sort(5, the_list = L)\n",
    "print(L)"
   ]
  },
  {
   "cell_type": "markdown",
   "metadata": {},
   "source": [
    "Above, we can still use position to specify parameters. However, we did not need to specify the value of `reverse`, which defaults to `False`.\n",
    "\n",
    "We can continue to use position to specify the values of optional paramters. However, for optional parameters that have boolean values **this is not recommened.**"
   ]
  },
  {
   "cell_type": "code",
   "execution_count": null,
   "metadata": {},
   "outputs": [],
   "source": [
    "# Which arguemnt is set to True? Hard to tell.\n",
    "append_and_sort(5, L, True)\n",
    "print(L)"
   ]
  },
  {
   "cell_type": "markdown",
   "metadata": {},
   "source": [
    "It is **much better** to use the named parameter format (also called keyword format)."
   ]
  },
  {
   "cell_type": "code",
   "execution_count": null,
   "metadata": {},
   "outputs": [],
   "source": [
    "# A mix of positional and optional\n",
    "append_and_sort(5, the_list = L, print_list = True, reverse = True)"
   ]
  },
  {
   "cell_type": "markdown",
   "metadata": {},
   "source": [
    "Above, we wanted to use the default value of `reverse` but a different value for `print_list`. We **must** use named parameters if we want to **skip** an optional parameter while using some positional arguments."
   ]
  },
  {
   "cell_type": "markdown",
   "metadata": {},
   "source": [
    "### Warning about default values\n",
    "The default value of an optional parameter is a **function-global value**. This means that when the interpreter reads the definition of a function and creates the function object, it constructs the values of the default parameters **for all future function calls**."
   ]
  },
  {
   "cell_type": "code",
   "execution_count": null,
   "metadata": {},
   "outputs": [],
   "source": [
    "append_and_sort(3,print_list = True)\n",
    "append_and_sort(3,print_list = True)\n",
    "append_and_sort(3,print_list = True)"
   ]
  },
  {
   "cell_type": "markdown",
   "metadata": {},
   "source": [
    "Above, the default value of `the_list` is created **once** when the function definition is first read by the interpreter. Thus, **every time that the default value is used, it's the same piece of memory**! Keep in mind that there are two stages of memory allocation for functions.\n",
    "* Function object stage : the interpreter reads the function definition and creates a function object. The default values of the function object are set.\n",
    "* Function is called : the interpreter creates a new stack frame and copies the references to the function inputs. If default values are not reassigned by the input, those from the object creation stage are used."
   ]
  },
  {
   "cell_type": "markdown",
   "metadata": {},
   "source": [
    "## Sets\n",
    "\n",
    "As you have seen, lists and tuples can contain equivalent values multiple times inside the list (i.e. `a = [1,1,1,1]` is a totally valid list even though `1 == 1 is True`). Sets in python are designed to contain equivalent values only once.\n",
    "\n",
    "In python, sets come in two flavors, **mutable** (type `set`) and **immutable** (type `frozenset`)\n",
    "\n",
    "To create a `set` in python, we can use the `set()` or `frozenset()` constructors."
   ]
  },
  {
   "cell_type": "code",
   "execution_count": null,
   "metadata": {},
   "outputs": [],
   "source": [
    "a = set([1,1,1,'hello'])\n",
    "b = frozenset([1,1,2,3,2])\n",
    "print(a)\n",
    "print(b)"
   ]
  },
  {
   "cell_type": "markdown",
   "metadata": {},
   "source": [
    "In addition, there is the `{ }` notation, which creates **mutable** sets."
   ]
  },
  {
   "cell_type": "code",
   "execution_count": null,
   "metadata": {},
   "outputs": [],
   "source": [
    "a = {1, 'hello', 492.4, 'hello', 1}\n",
    "print(a)"
   ]
  },
  {
   "cell_type": "markdown",
   "metadata": {},
   "source": [
    "Sets also support **iteration** and **set comprehension**"
   ]
  },
  {
   "cell_type": "code",
   "execution_count": null,
   "metadata": {},
   "outputs": [],
   "source": [
    "# set comprehension\n",
    "a = { x % 10 for x in range(15) }\n",
    "print(a)\n",
    "# iteration\n",
    "v = 0\n",
    "for x in a :\n",
    "    v += x\n",
    "print(v)    "
   ]
  },
  {
   "cell_type": "markdown",
   "metadata": {},
   "source": [
    "**Warning**. Sets are **unordered**, which means that there is **no guarantee** that iteration will be in any particular order."
   ]
  },
  {
   "cell_type": "markdown",
   "metadata": {},
   "source": [
    "**Warning.** To create an **empty** set you must always use `set()`."
   ]
  },
  {
   "cell_type": "markdown",
   "metadata": {},
   "source": [
    "Sets have plenty of useful methods. Here are some methods that work for both `set` and `frozenset`.\n",
    "* `len(s)` returns the number of elements in set `s` (cardinality of `s`).\n",
    "* `x in s` tests `x` for membership in `s`. Similarly `x not in s`.\n",
    "* `s.isdisjoint(other_set)` returns `True` if the sets have empty intersection, `False` otherwise.\n",
    "* `s <= other_set` or `s.issubset(other_set)` tests whether `s` is a subset of `other_set`.\n",
    "   * `s < other_set` tests whether `s` is a **proper** subset of `other_set`.\n",
    "* `s >= other_set` or `s.issuperset(other_set)` tests whether `other_set` is a subset of `s`.\n",
    "   * `set > other_set` tests whether `other_set` is a **proper** subset of `s`.\n",
    "* `s | other_set` or `s.union(other_set)` returns a **new** set which is the union of `s` and `other_set`.\n",
    "* `s & other_set` or `s.intersection(other_set)` returns a **new** set which is the intersection of `s` and `other_set`.\n",
    "* `s - other_set` or `s.difference(other_set)` returns `s` minus `other_set` in a **new** set.\n",
    "* `s ^ other_set` or `s.symmetric_difference(other_set)` returns the symmetric difference in a **new** set.\n",
    "* `s.copy()` returns a **shallow** copy of `s`"
   ]
  },
  {
   "cell_type": "code",
   "execution_count": null,
   "metadata": {},
   "outputs": [],
   "source": [
    "a = {1,2,3}\n",
    "b = {3,4,5}\n",
    "c = {4,5}\n",
    "print(a | b)\n",
    "print(a & b & c) # can intersect multiple sets like this\n",
    "print(a - b)\n",
    "print(a ^ b)\n",
    "print(c < b)\n",
    "print(a.intersection(b,c)) # can also intersect multiple sets like this "
   ]
  },
  {
   "cell_type": "markdown",
   "metadata": {},
   "source": [
    "There are mutating variants of these operations that only work on `set`.\n",
    "* `s.add(elem)`\n",
    "* `s.remove(elem)` removes `elem` from `s` but **raises** KeyError if `elem` is not in `s`.\n",
    "* `s.discard(elem)` removes `elem` from `s` if present.\n",
    "* `s.pop()` removes and return an **arbitrary** element from the set. Raises KeyError if the set is empty.\n",
    "* `s.clear()` removes all elements from `s`.\n",
    "* `s |= other_set` or `s.update(other_set)`  adds the contents of `other_set` to `s`.\n",
    "* `s &= other_set` or`s.intersection_update(other_set)`.\n",
    "* `s -= other_set` or `s.difference_update(other_set)` .\n",
    "* `s ^= other_set` or `s.symmetric_difference_update(other_set)`."
   ]
  },
  {
   "cell_type": "markdown",
   "metadata": {},
   "source": [
    "### Not all objects can be added to a set\n",
    "\n",
    "Unlike a list, a set in python can only contain **immutable** objects. In fact, sets can only contain **hashable** objects. An object is hashable if it has a method `obj.__hash__()`, `obj.hash()`, or `hash(obj)` returns without error. A hash function should follow the rules\n",
    "* if `obj_1 ==  obj_2` then `hash(obj_1) == hash(obj_2)`\n",
    "* if `hash(obj_1) == hash(obj_2)` then `obj_1` and `obj_2` are very likely to be equivalent (==).\n",
    "\n",
    "Most immutable types in python support hashing. Sets require a hash function to quickly sort, store, and remove objects. You can read more on this at [http://www.laurentluce.com/posts/python-dictionary-implementation/](http://www.laurentluce.com/posts/python-dictionary-implementation/)"
   ]
  },
  {
   "cell_type": "code",
   "execution_count": null,
   "metadata": {},
   "outputs": [],
   "source": [
    "from isqrt import isqrt # integer sqrt\n",
    "\n",
    "def primes_less_than(n) :\n",
    "    \"\"\" Given an integer n, returns the list of primes less than n. \"\"\"\n",
    "    if not isinstance(n,int) or n < 3 : return []\n",
    "    # We start wil all odd numbers less than n\n",
    "    candidates = set(range(3,n,2))\n",
    "    # For odd number x = 3, 5, ..., isqrt(n), we will\n",
    "    # remove x^2, x(x+2), x(x+4),... < n from candidates.\n",
    "    # Notice that we are removing only the odd ones.\n",
    "    # Why this works : assume y = a*b with 1 < a <= b \n",
    "    # and y < n, then a < int_sqrt(n), so y will be eliminated.\n",
    "    for i in range(3, isqrt(n) + 1, 2) :\n",
    "        # note, difference_update can take any iterable\n",
    "        candidates.difference_update(range(i**2, n, 2*i))\n",
    "    candidates.add(2)\n",
    "    return sorted(candidates)"
   ]
  },
  {
   "cell_type": "code",
   "execution_count": null,
   "metadata": {},
   "outputs": [],
   "source": [
    "primes_less_than(30)"
   ]
  },
  {
   "cell_type": "markdown",
   "metadata": {},
   "source": [
    "## Dictionaries\n",
    "\n",
    "Dictionaries are another very useful built-in type. They map **keys** to **values**. For example,"
   ]
  },
  {
   "cell_type": "code",
   "execution_count": null,
   "metadata": {},
   "outputs": [],
   "source": [
    "month_to_days = {'April': 30,\n",
    " 'August': 31,\n",
    " 'December': 31,\n",
    " 'February': 28,\n",
    " 'January': 31,\n",
    " 'July': 31,\n",
    " 'June': 30,\n",
    " 'March': 31,\n",
    " 'May': 31,\n",
    " 'November': 30,\n",
    " 'October': 31,\n",
    " 'September': 30}\n",
    "\n",
    "print(\"August has {} days.\".format(month_to_days['August']))"
   ]
  },
  {
   "cell_type": "markdown",
   "metadata": {},
   "source": [
    "Above, the months are they **keys** of the dictionary and the days are the **values**. As you can see, we can construct dictionaries using the notation `{ key_1 : value_1, key_2 : value_2, ... }`.\n",
    "\n",
    "One can also use the `dict()` constructor that takes a list (or any iterable) of **pairs**. For example,"
   ]
  },
  {
   "cell_type": "code",
   "execution_count": null,
   "metadata": {},
   "outputs": [],
   "source": [
    "coefs = dict([('x^2',1784),('x',3244), ('1', 9)])\n",
    "print(coefs)"
   ]
  },
  {
   "cell_type": "markdown",
   "metadata": {},
   "source": [
    "You can always read values using the `[]` notation or by calling `.get(key)`. For example"
   ]
  },
  {
   "cell_type": "code",
   "execution_count": null,
   "metadata": {},
   "outputs": [],
   "source": [
    "print(coefs['1'])\n",
    "print(coefs.get('x^2'))"
   ]
  },
  {
   "cell_type": "markdown",
   "metadata": {},
   "source": [
    "Dictionaries are **mutable** objects. So you can use the assignment operator to define a new key-value pair."
   ]
  },
  {
   "cell_type": "code",
   "execution_count": null,
   "metadata": {},
   "outputs": [],
   "source": [
    "coefs['x^3'] = 209\n",
    "print(coefs)\n",
    "\n",
    "a = {} # empty dictionary, NOT a set\n",
    "a['something'] = 'else'\n",
    "a['something'] = 'overwrite'\n",
    "\n",
    "print(a)"
   ]
  },
  {
   "cell_type": "markdown",
   "metadata": {},
   "source": [
    "We can also delete key-value pairs using the `del` keyword (if the pair exists) or you can use `pop()` to return and remove."
   ]
  },
  {
   "cell_type": "code",
   "execution_count": null,
   "metadata": {},
   "outputs": [],
   "source": [
    "del coefs['1']\n",
    "print(coefs)\n",
    "\n",
    "value = coefs.pop('x^3')\n",
    "print(coefs)\n",
    "print(value)"
   ]
  },
  {
   "cell_type": "markdown",
   "metadata": {},
   "source": [
    "Here are a few other useful commands.\n",
    "* `some_dict.keys()` return the keys in `some_dict` as an iterable\n",
    "* `some_dict.values()` return the values in `some_dict` as an iterable\n",
    "* `some_dict.items()` return the (key,value) pairs in `some_dict` as an iterable\n",
    "* `some_dict.popitem()` remove and return some item from `some_dict`\n",
    "* `some_dict.update(other_dict)` **merge** the contents of `other_dict` into `some_dict`, overwriting for equivalent keys. \n",
    "* `some_dict.clear()` remove all contents from a dictionary\n",
    "* `some_dict.copy()` return a **shallow** copy of the dictionary\n",
    "\n",
    "Here is a simple function that counts letters in a sting and returns a dictionary with the count."
   ]
  },
  {
   "cell_type": "code",
   "execution_count": null,
   "metadata": {},
   "outputs": [],
   "source": [
    "def char_count(string) :\n",
    "    char_dict = {}\n",
    "    for c in string :\n",
    "        char_dict[c] = string.count(c)\n",
    "    return char_dict\n",
    "\n",
    "print(char_count(\"some random string\"))"
   ]
  },
  {
   "cell_type": "markdown",
   "metadata": {},
   "source": [
    "#### Not all objects can be keys\n",
    "Just like with sets, the keys of a dictionary have to be **immutable** (and **hashable**) types. Also, just like with sets, **keys don't all have to be the same type**."
   ]
  },
  {
   "cell_type": "code",
   "execution_count": null,
   "metadata": {},
   "outputs": [],
   "source": [
    "f = {1 : 2, '1': 2, ('a','non','mutable', 'tuple') : 2}\n",
    "print(f)"
   ]
  },
  {
   "cell_type": "code",
   "execution_count": null,
   "metadata": {},
   "outputs": [],
   "source": [
    "f = {['some', 'mutable', 'list'] : 2}"
   ]
  },
  {
   "cell_type": "markdown",
   "metadata": {},
   "source": [
    "#### Membership, iteration and dictionary comprehension\n",
    "\n",
    "Just like all other container types we have seen, we can test membership in dictionaries, iterate over dictionaries and use comprehensions to define them. Since dictionaries have both keys and values, we have to be a little careful.\n",
    "\n",
    "Dictionaries only support the `key in dict` and `key not in dict` for **keys**."
   ]
  },
  {
   "cell_type": "code",
   "execution_count": null,
   "metadata": {},
   "outputs": [],
   "source": [
    "coefs = dict([('x^2',1784),('x',3244), ('1', 9)])\n",
    "\n",
    "if '1' in coefs :\n",
    "    print(\"'1' is a key of coefs\")\n",
    "if 9 in coefs.values() :\n",
    "    print(\"9 is a value of coefs\")\n"
   ]
  },
  {
   "cell_type": "markdown",
   "metadata": {},
   "source": [
    "**Remark**. If you need to search for a value, you can always do that by looking in `some_dict.values()`"
   ]
  },
  {
   "cell_type": "markdown",
   "metadata": {},
   "source": [
    "We can also iterate over the keys, values, or key-value pairs in a dictionary"
   ]
  },
  {
   "cell_type": "code",
   "execution_count": null,
   "metadata": {},
   "outputs": [],
   "source": [
    "# iterate over keys\n",
    "for k in coefs.keys() :\n",
    "    print(\"Found key\", k)\n",
    "\n",
    "print('-'*20)\n",
    "\n",
    "# iterate over values\n",
    "for v in coefs.values() :\n",
    "    print(\"Found value\", v)\n",
    "    \n",
    "print('-'*20)\n",
    "\n",
    "# iterate over keys and values\n",
    "for k, v in coefs.items() :\n",
    "    print(\"Key {} has value {}.\".format(k, v))"
   ]
  },
  {
   "cell_type": "markdown",
   "metadata": {},
   "source": [
    "**Note:** to iterate over keys, you can also use `for k in some_dict.keys()`.\n",
    "\n",
    "Finally, dictionary comprehension is very similar to sets, however, we must use the `:` to separate keys and values."
   ]
  },
  {
   "cell_type": "code",
   "execution_count": null,
   "metadata": {},
   "outputs": [],
   "source": [
    "self_powers = { i : i**i for i in range(10) }  \n",
    "print(self_powers)"
   ]
  },
  {
   "cell_type": "code",
   "execution_count": null,
   "metadata": {},
   "outputs": [],
   "source": [
    "coefs_squared = { k : 2*v for k,v in coefs.items() }\n",
    "print(coefs_squared)"
   ]
  },
  {
   "cell_type": "markdown",
   "metadata": {},
   "source": [
    "If you want, you can also think of a dictionary as a map and easily define its inverse with list comprehension. This only works if the values are also hashable."
   ]
  },
  {
   "cell_type": "code",
   "execution_count": null,
   "metadata": {},
   "outputs": [],
   "source": [
    "self_roots = { v : k for k,v in self_powers.items() }\n",
    "print(self_roots)"
   ]
  },
  {
   "cell_type": "markdown",
   "metadata": {},
   "source": [
    "**Warning.** Dictionary views such as `.keys()`, `.values()`, and `.items()` are guaranteed to be in insertion order **only** as of python 3.7. Sets still have **no** such guarantee."
   ]
  },
  {
   "cell_type": "markdown",
   "metadata": {},
   "source": [
    "## Sorting\n",
    "\n",
    "The built-in call `sorted` can work on any iterable such as a `map` object, a tuple, list, or string (along with others)."
   ]
  },
  {
   "cell_type": "code",
   "execution_count": null,
   "metadata": {},
   "outputs": [],
   "source": [
    "sorted('a string')"
   ]
  },
  {
   "cell_type": "markdown",
   "metadata": {},
   "source": [
    "One can use a **key function** to help you sort. A `key` function takes **one argument** assigns it a **comparable type**, such as an integer. The idea is that for every element in a list, you compute a value that you then use to compare. For example, "
   ]
  },
  {
   "cell_type": "code",
   "execution_count": null,
   "metadata": {},
   "outputs": [],
   "source": [
    "def count_t(s) :\n",
    "    return s.count('t')\n",
    "\n",
    "data = \"a long string that we will split into words\".split()\n",
    "sorted_data = sorted(data, key = count_t, reverse = True)\n",
    "print(sorted_data)"
   ]
  },
  {
   "cell_type": "markdown",
   "metadata": {},
   "source": [
    "We can also use key functions when looking for minimums and maximums."
   ]
  },
  {
   "cell_type": "code",
   "execution_count": null,
   "metadata": {},
   "outputs": [],
   "source": [
    "max(data, key = count_t)"
   ]
  },
  {
   "cell_type": "markdown",
   "metadata": {},
   "source": [
    "There is a module called `operator` that includes the functions `itemgetter` and `attrgetter`. Calling `operator.itemgetter(i)` returns a function with gives the $i^\\text{th}$ element in a list. The function `operator.attrgetter('attr_name')` returns a function which gives the attribute with `attr_name` of an object. Here are two examples."
   ]
  },
  {
   "cell_type": "code",
   "execution_count": null,
   "metadata": {},
   "outputs": [],
   "source": [
    "from operator import itemgetter\n",
    "\n",
    "def get_first(x) :\n",
    "    return x[1]\n",
    "\n",
    "a = [ ('A',0, 2), ('G', -2, 4) ]\n",
    "a_sorted = sorted(a, key = itemgetter(1))\n",
    "print(a_sorted)"
   ]
  },
  {
   "cell_type": "code",
   "execution_count": null,
   "metadata": {},
   "outputs": [],
   "source": [
    "from operator import attrgetter\n",
    "\n",
    "def get_imag(x) :\n",
    "    return x.imag\n",
    "\n",
    "a = [ 1.1 + 5.2j, 3.0 + 6.7j, -2.2 - 3.1j]\n",
    "a_sorted = sorted(a, key = attrgetter('imag'))\n",
    "print(a_sorted)"
   ]
  },
  {
   "cell_type": "markdown",
   "metadata": {},
   "source": [
    "Further, if you like to write complicated comparison functions, you can use `functools.cmp_to_key`. This will generate from any comparison function an comparable object used for sorting."
   ]
  },
  {
   "cell_type": "code",
   "execution_count": null,
   "metadata": {},
   "outputs": [],
   "source": [
    "from functools import cmp_to_key\n",
    "\n",
    "def weird_cmp(x,y) :\n",
    "    \"\"\" Returns negative number is x < y, zero if x = y,\n",
    "    or a positive number if x > y\"\"\"\n",
    "    if isinstance(x,str) :\n",
    "        return -1\n",
    "    elif isinstance(y,str) :\n",
    "        return -1\n",
    "    elif x == y :\n",
    "        return 0\n",
    "    return -1 if x < y else 1\n",
    "\n",
    "sorted([3,2,1,'w'], key = cmp_to_key(weird_cmp))"
   ]
  },
  {
   "cell_type": "markdown",
   "metadata": {},
   "source": [
    "## Basic exception handling"
   ]
  },
  {
   "cell_type": "markdown",
   "metadata": {},
   "source": [
    "Exceptions in python are tools to tell the interpreter that something \"bad\" has happened and that the code **should stop** executing. This could be because someone gave bad input, there was a problem writing or reading data, or a function returned unexpected output (note: you should check the output of poorly documented functions that you don't trust). The keywords here are\n",
    "\n",
    "* `assert some_boolean_statement` will cause the code to stop and raise an AssertionError.\n",
    "* `raise exception_type(\"some user message\")` will cause the code to stop and raise an exception of type `exception_type` and a user message `\"some user message\"`. There are many many built-in exception types. \n",
    "\n",
    "Some useful exception types are\n",
    "   * `Exception()` this is the general type\n",
    "   * `RuntimeError()` something bad happened as your code was running\n",
    "   * `TypeError()` bad type given to function\n",
    "   * `ValueError()` good type, but bad value\n",
    "   * `SyntaxError()` bad syntax, couldn't parse"
   ]
  },
  {
   "cell_type": "code",
   "execution_count": null,
   "metadata": {},
   "outputs": [],
   "source": [
    "assert isinstance(3,int)\n",
    "print(\"Assertion passed!\")"
   ]
  },
  {
   "cell_type": "code",
   "execution_count": null,
   "metadata": {},
   "outputs": [],
   "source": [
    "assert type(1.) is int\n",
    "print(\"Assertion passed!\")"
   ]
  },
  {
   "cell_type": "code",
   "execution_count": null,
   "metadata": {},
   "outputs": [],
   "source": [
    "raise Exception(\"Instead of returning, \\\n",
    "I can raise an exception on bad input\")"
   ]
  },
  {
   "cell_type": "markdown",
   "metadata": {},
   "source": [
    "### Catching exceptions : try, except, finally block\n",
    "\n",
    "If we want to catch exceptions, we can do this with a `try, except, finally` block"
   ]
  },
  {
   "cell_type": "code",
   "execution_count": null,
   "metadata": {},
   "outputs": [],
   "source": [
    "[0,1,2,3].index(5)"
   ]
  },
  {
   "cell_type": "code",
   "execution_count": null,
   "metadata": {},
   "outputs": [],
   "source": [
    "try :\n",
    "    [0,1,2,3].index(5)\n",
    "    print(\"I will only run in the lines above me don't fail\")\n",
    "except ValueError : # Run if ValueError is raised\n",
    "    print(\"Got a ValueError\")\n",
    "finally : # Will always be run at the end\n",
    "    print(\"I always run at the very end\")"
   ]
  },
  {
   "cell_type": "markdown",
   "metadata": {},
   "source": [
    "You don't have to use the `finally` block at all, if you don't need it. Also, if you want to catch all exceptions, you can just use `except` without the exception type."
   ]
  },
  {
   "cell_type": "code",
   "execution_count": null,
   "metadata": {},
   "outputs": [],
   "source": [
    "def max_or_minusone(t) :\n",
    "    \"\"\" Tries to returns max(t) ,\n",
    "    or -1 if max(t) fails. \"\"\"\n",
    "    try :\n",
    "        return max(t)\n",
    "    except :\n",
    "        return -1"
   ]
  },
  {
   "cell_type": "code",
   "execution_count": null,
   "metadata": {},
   "outputs": [],
   "source": [
    "max_or_minusone([9,4,4])"
   ]
  },
  {
   "cell_type": "markdown",
   "metadata": {},
   "source": [
    "Lastly, if you want to do nothing, just use the `pass` in the exception block. The `pass` statement does nothing. It can be used when a statement is required syntactically but the program requires no action. You can also use it as a place holder while working on code."
   ]
  },
  {
   "cell_type": "code",
   "execution_count": null,
   "metadata": {},
   "outputs": [],
   "source": [
    "something = 'a string'\n",
    "try :\n",
    "    someting += 1\n",
    "except : # catch all exceptions\n",
    "    pass # TODO : figure out what I want to do\n",
    "print(something)"
   ]
  },
  {
   "cell_type": "markdown",
   "metadata": {},
   "source": [
    "## Input and Output"
   ]
  },
  {
   "cell_type": "markdown",
   "metadata": {},
   "source": [
    "### Reading files\n",
    "\n",
    "We can use the `open` command to open (text) files to read line by line. For example, say I have a file called `some_data.csv` in my current working directory, then I can read it as follows."
   ]
  },
  {
   "cell_type": "code",
   "execution_count": null,
   "metadata": {},
   "outputs": [],
   "source": [
    "try :\n",
    "    file_handle = open('some_data.csv','r')\n",
    "    for line in file_handle :\n",
    "        print(line)\n",
    "    file_handle.close()\n",
    "except :\n",
    "    print(\"Failed to open file.\")"
   ]
  },
  {
   "cell_type": "markdown",
   "metadata": {},
   "source": [
    "In `open(path_to_file, mode)`\n",
    "  * `path_to_file` can be a global path or a path **relative to your current working directory**.\n",
    "\n",
    "We can also use other methods to read the text data.\n",
    "\n",
    "* `file_handle.read()` returns the **whole** content of the file as a string\n",
    "* `file_handle.read(size)` return the at most (the first) `size` characters (or bytes) of the file\n",
    "* `file_handle.readline()` returns the whole next line, including the end of line character\n",
    "* `list(file_handle)` or `file_handle.readlines()` returns a list of all the lines in the file"
   ]
  },
  {
   "cell_type": "code",
   "execution_count": null,
   "metadata": {},
   "outputs": [],
   "source": [
    "file_handle = open('some_data.csv','r')"
   ]
  },
  {
   "cell_type": "code",
   "execution_count": null,
   "metadata": {},
   "outputs": [],
   "source": [
    "file_handle.readline()"
   ]
  },
  {
   "cell_type": "code",
   "execution_count": null,
   "metadata": {},
   "outputs": [],
   "source": [
    "# don't forget to close\n",
    "file_handle.close()"
   ]
  },
  {
   "cell_type": "markdown",
   "metadata": {},
   "source": [
    "To get rid of of the new line character in a newly read string, we can use `.rstrip()` or `.rstrip('\\n')`"
   ]
  },
  {
   "cell_type": "code",
   "execution_count": null,
   "metadata": {},
   "outputs": [],
   "source": [
    "file_handle = open('some_data.csv','r')\n",
    "data = []\n",
    "for line in file_handle :\n",
    "    clean_line = line.rstrip()\n",
    "    fields = clean_line.split(',')\n",
    "    data.append(fields)\n",
    "file_handle.close()\n",
    "\n",
    "# prints each element of data\n",
    "# separated by a new line character\n",
    "print(*data, sep = '\\n')"
   ]
  },
  {
   "cell_type": "markdown",
   "metadata": {},
   "source": [
    "When you read a file, the file object returned by `open` will keep track of its position in the file. You can view and change this position by using\n",
    "\n",
    "* `file_handle.tell()` returns an integer giving the current position in the file counted by the number of characters (or bytes) from the beginning of the file\n",
    "* `file_handle.seek(offset)` changes the current position in the file by moving `offset` number of characters from the beginning"
   ]
  },
  {
   "cell_type": "code",
   "execution_count": null,
   "metadata": {},
   "outputs": [],
   "source": [
    "file_handle = open('some_data.csv','r')\n",
    "file_handle.seek(80) # move to 80 characters from beginning\n",
    "print(file_handle.readline())\n",
    "file_handle.close()"
   ]
  },
  {
   "cell_type": "markdown",
   "metadata": {},
   "source": [
    "### Writing files\n",
    "\n",
    "We use the `open(path_to_file, mode)` command again, but here the `mode` parameter will be different.\n",
    "\n",
    "Here are all the `mode` parameter options.\n",
    "\n",
    "* `'r'` open for reading (default)\n",
    "* `'w'`\topen for writing, **erasing** the file first\n",
    "* `'x'` open for exclusive creation, failing if the file already exists\n",
    "* `'a'` open for writing, appending to the end of the file if it exists\n",
    "* `'b'` binary mode\n",
    "* `'t'`\ttext mode (default)\n",
    "* `'+'`\topen a disk file for updating (reading and writing)\n",
    "\n",
    "If you are creating a **new** file that shouldn't already exist, use the `'x'` option to write it."
   ]
  },
  {
   "cell_type": "code",
   "execution_count": null,
   "metadata": {},
   "outputs": [],
   "source": [
    "import random\n",
    "\n",
    "random_ints = random.sample(range(1000), 5)\n",
    "# chaning the 'x' to a 'w' this will overwrite the\n",
    "# file everytime I run this code\n",
    "file_handle = open('random_numbers.txt','x')\n",
    "for i in random_ints :\n",
    "    file_handle.write(str(i)+'\\n')\n",
    "file_handle.close()\n",
    "\n",
    "f = open('random_numbers.txt','r')\n",
    "print(f.read())\n",
    "f.close()"
   ]
  },
  {
   "cell_type": "code",
   "execution_count": null,
   "metadata": {},
   "outputs": [],
   "source": [
    "random_ints = random.sample(range(1000), 5)\n",
    "file_handle = open('random_numbers.txt','a')\n",
    "for i in random_ints :\n",
    "    file_handle.write(str(i)+'\\n')\n",
    "file_handle.close()\n",
    "\n",
    "f = open('random_numbers.txt','r')\n",
    "print(f.read())\n",
    "f.close()"
   ]
  },
  {
   "cell_type": "markdown",
   "metadata": {},
   "source": [
    "The final three modes `'b', 't', '+'` are modifier modes. For example, to read a binary file, you would use the mode `'rb'`, to write a `'xb'`, etc.\n",
    "\n",
    "The `'+'` mode modifier allows for simultaneous reading and writing with, for example, the `'r+'` mode. However, I do **not recommend** using this mode unless you really really have to. It can also behave differently on windows and unix systems."
   ]
  },
  {
   "cell_type": "code",
   "execution_count": null,
   "metadata": {},
   "outputs": [],
   "source": [
    "# open the file as binary\n",
    "file_handle = open('random_numbers.txt','rb')\n",
    "# read the first 20 bytes and\n",
    "# print them *interpreted as a string!*\n",
    "print(file_handle.read(20))\n",
    "file_handle.close()"
   ]
  },
  {
   "cell_type": "markdown",
   "metadata": {},
   "source": [
    "### `with` statement of opening files\n",
    "\n",
    "Python has a nice statement called the `with` statement. On some level with is equivalent to placing the file open commands in a `try` block. Under the hood, this is called a **context manager**"
   ]
  },
  {
   "cell_type": "code",
   "execution_count": null,
   "metadata": {},
   "outputs": [],
   "source": [
    "with open('random_numbers.txt', 'r') as file_handle :\n",
    "    print(file_handle.readlines())\n",
    "# the with statement will automatically close the file!"
   ]
  },
  {
   "cell_type": "markdown",
   "metadata": {},
   "source": [
    "### The `io` module\n",
    "\n",
    "If you want to work with string streams or byte streams, you should use the `io` module. In fact, the `open()` function is the same as `io.open()`, at least in python 3.7."
   ]
  },
  {
   "cell_type": "code",
   "execution_count": null,
   "metadata": {},
   "outputs": [],
   "source": [
    "import io\n",
    "\n",
    "with io.StringIO() as text_stream :\n",
    "    text_stream.write(\"First line\\n\")\n",
    "    text_stream.write(\"Second line\")\n",
    "    text_stream.write(\" with more text\\n\")\n",
    "    print(text_stream.getvalue())\n",
    "    text_stream.write(\"Another line\")\n",
    "    text_stream.seek(11)\n",
    "    print(text_stream.readlines())\n",
    "\n",
    "# if not using a with statment, be sure to call close"
   ]
  },
  {
   "cell_type": "markdown",
   "metadata": {},
   "source": [
    "Similarly, is a buffered bytes stream class `io.BytesIO` along with other base classes. "
   ]
  },
  {
   "cell_type": "markdown",
   "metadata": {},
   "source": [
    "## Some modules for working with files\n",
    "\n",
    "Just like you can work with files in the command line, you might want to list directories, copy files, and get system information from within your programs. The classic modules for this task are the `os`, `shutil`, and `glob` modules.\n",
    "\n",
    "A new object oriented module is called `pathlib`"
   ]
  },
  {
   "cell_type": "code",
   "execution_count": null,
   "metadata": {},
   "outputs": [],
   "source": [
    "import os\n",
    "import shutil\n",
    "import glob\n",
    "\n",
    "import pathlib"
   ]
  },
  {
   "cell_type": "markdown",
   "metadata": {},
   "source": [
    "### File paths\n",
    "\n",
    "For the `os.path` module, paths are strings and can be manipulated as follows."
   ]
  },
  {
   "cell_type": "code",
   "execution_count": null,
   "metadata": {},
   "outputs": [],
   "source": [
    "# get the present (or current) working directory\n",
    "cur_path = os.getcwd()\n",
    "print(cur_path)"
   ]
  },
  {
   "cell_type": "code",
   "execution_count": null,
   "metadata": {},
   "outputs": [],
   "source": [
    "# get the abosulte path of a relative path\n",
    "abs_path_up = os.path.abspath('..')\n",
    "print(abs_path_up)"
   ]
  },
  {
   "cell_type": "code",
   "execution_count": null,
   "metadata": {},
   "outputs": [],
   "source": [
    "# get the base name of a file, including the extension\n",
    "file_name = os.path.basename('../lectures/day-1/morning.ipynb')\n",
    "print(file_name)"
   ]
  },
  {
   "cell_type": "code",
   "execution_count": null,
   "metadata": {},
   "outputs": [],
   "source": [
    "# get the directory name\n",
    "dir_path = os.path.dirname('../lectures/day-1/morning.ipynb')\n",
    "# NOTE : observe that the os.path module treats paths as strings\n",
    "# so the dirname is the relative directory name\n",
    "print(dir_path)"
   ]
  },
  {
   "cell_type": "code",
   "execution_count": null,
   "metadata": {},
   "outputs": [],
   "source": [
    "# get both the dir and file\n",
    "dir_name, file_name = os.path.split('../lectures/day-1/morning.ipynb')\n",
    "print(dir_name)\n",
    "print(file_name)"
   ]
  },
  {
   "cell_type": "code",
   "execution_count": null,
   "metadata": {},
   "outputs": [],
   "source": [
    "# split off the file extension\n",
    "root,ext = os.path.splitext('../lectures/day-1/morning.ipynb')\n",
    "print(root)\n",
    "print(ext)"
   ]
  },
  {
   "cell_type": "code",
   "execution_count": null,
   "metadata": {},
   "outputs": [],
   "source": [
    "# check if a path is absolute\n",
    "print(os.path.isabs('../lectures/day-1/morning.ipynb'))\n",
    "print(os.path.isabs('/Users/'))"
   ]
  },
  {
   "cell_type": "code",
   "execution_count": null,
   "metadata": {},
   "outputs": [],
   "source": [
    "# returns a canonial path for a file\n",
    "print(os.path.realpath('../lectures/day-1/morning.ipynb'))"
   ]
  },
  {
   "cell_type": "code",
   "execution_count": null,
   "metadata": {},
   "outputs": [],
   "source": [
    "# joint one path relative to another (or several)\n",
    "old_path = \"/Users/yarmola/\"\n",
    "new_path = os.path.join(old_path, 'python-bootcamp', 'lectures/day-1/',\n",
    "                        'mornging.pdf')\n",
    "print(new_path)\n",
    "# Notice that os.path.join takes care of all the slashes for you"
   ]
  },
  {
   "cell_type": "markdown",
   "metadata": {},
   "source": [
    "The `os.path` module **does not automatically check for you if a file at a given path actually exists**. To do this, you can specifically check :"
   ]
  },
  {
   "cell_type": "code",
   "execution_count": null,
   "metadata": {},
   "outputs": [],
   "source": [
    "# check if there really is a file at a given path\n",
    "print(os.path.isfile(new_path))"
   ]
  },
  {
   "cell_type": "code",
   "execution_count": null,
   "metadata": {},
   "outputs": [],
   "source": [
    "# check if there really is a dir at a path\n",
    "print(os.path.isdir('/Users'))"
   ]
  },
  {
   "cell_type": "markdown",
   "metadata": {},
   "source": [
    "### Copy, move, delete and rename files and directories\n",
    "\n",
    "The `shutil` and `os` modules contains all the useful tools for these operations. Here are some examples"
   ]
  },
  {
   "cell_type": "code",
   "execution_count": null,
   "metadata": {},
   "outputs": [],
   "source": [
    "# copy file or directory\n",
    "path_of_copy = shutil.copy('some_data.csv', 'more_data.csv')\n",
    "print(path_of_copy)"
   ]
  },
  {
   "cell_type": "code",
   "execution_count": null,
   "metadata": {},
   "outputs": [],
   "source": [
    "# delete\n",
    "os.remove(path_of_copy)"
   ]
  },
  {
   "cell_type": "code",
   "execution_count": null,
   "metadata": {},
   "outputs": [],
   "source": [
    "# make direcory\n",
    "os.mkdir('test_dir_new')"
   ]
  },
  {
   "cell_type": "code",
   "execution_count": null,
   "metadata": {},
   "outputs": [],
   "source": [
    "# remove directory\n",
    "os.rmdir('test_dir_new')"
   ]
  },
  {
   "cell_type": "code",
   "execution_count": null,
   "metadata": {},
   "outputs": [],
   "source": [
    "# change current working directory\n",
    "# this is the same as `cd` in the terminal app\n",
    "os.chdir('..')\n",
    "print(os.getcwd())\n",
    "os.chdir('python-bootcamp/lectures')"
   ]
  },
  {
   "cell_type": "markdown",
   "metadata": {},
   "source": [
    "### Walking a directory tree\n",
    "\n",
    "There are two useful tools to walk a directory tree. First there is `os.walk`"
   ]
  },
  {
   "cell_type": "code",
   "execution_count": null,
   "metadata": {},
   "outputs": [],
   "source": [
    "for root, dirs, files in os.walk('day-1') :\n",
    "    print('='*40)\n",
    "    print(\"The root directory is :\", root)\n",
    "    print('-'*40)\n",
    "    print(\"The root directory has subdirectories:\", *dirs, sep='\\n' )\n",
    "    print('-'*40)\n",
    "    print(\"The root directory has files:\", *files, sep='\\n')\n",
    "    print('='*40)\n",
    "    print('\\n')"
   ]
  },
  {
   "cell_type": "markdown",
   "metadata": {},
   "source": [
    "Other one is `glob`. It uses the **wildcard** character `*` **in path names**. For example, `../lectures/day-1/*.ipynb`.\n",
    "\n",
    "* `glob.iglob(path, recursive=False)`\n",
    "   * return a possibly-empty list of path names that match `path`.  The argument `path` can be either absolute (like `/Users/yarmola/*`) or relative (like `../../Tools/*/*.gif`), and can contain shell-style wildcards.\n",
    "   * if you set recursive = True then `**` will match any files and zero or more directories and subdirectories.\n",
    "\n"
   ]
  },
  {
   "cell_type": "code",
   "execution_count": null,
   "metadata": {},
   "outputs": [],
   "source": [
    "# print all files and directories relative to ..\n",
    "for x in glob.iglob(\"../*\") :\n",
    "    print(x)"
   ]
  },
  {
   "cell_type": "code",
   "execution_count": null,
   "metadata": {},
   "outputs": [],
   "source": [
    "# get all pdf files two directories down\n",
    "for x in glob.iglob(\"../*/*/*.ipynb\") :\n",
    "    print(x)"
   ]
  },
  {
   "cell_type": "code",
   "execution_count": null,
   "metadata": {},
   "outputs": [],
   "source": [
    "# get all directories and files in the tree below ..\n",
    "for x in glob.iglob(\"../**\", recursive = True) :\n",
    "    print(x)"
   ]
  },
  {
   "cell_type": "markdown",
   "metadata": {},
   "source": [
    "### `pathlib` module\n",
    "\n",
    "The `pathlib` module is a new object oriented version of may of the `os.path` methods. Usually, you will only need `from pathlib import Path`. Here is a mapping of the relevant methods\n",
    "\n",
    "|||\n",
    "|--- |--- |\n",
    "|os.path.abspath()|Path.resolve()|\n",
    "|os.chmod()|Path.chmod()|\n",
    "|os.mkdir()|Path.mkdir()|\n",
    "|os.rename()|Path.rename()|\n",
    "|os.replace()|Path.replace()|\n",
    "|os.rmdir()|Path.rmdir()|\n",
    "|os.remove(), os.unlink()|Path.unlink()|\n",
    "|os.getcwd()|Path.cwd()|\n",
    "|os.path.exists()|Path.exists()|\n",
    "|os.path.expanduser()|Path.expanduser() and Path.home()|\n",
    "|os.path.isdir()|Path.is_dir()|\n",
    "|os.path.isfile()|Path.is_file()|\n",
    "|os.path.islink()|Path.is_symlink()|\n",
    "|os.stat()|Path.stat(), Path.owner(), Path.group()|\n",
    "|os.path.isabs()|PurePath.is_absolute()|\n",
    "|os.path.join()|PurePath.joinpath()|\n",
    "|os.path.basename()|PurePath.name|\n",
    "|os.path.dirname()|PurePath.parent|\n",
    "|os.path.samefile()|Path.samefile()|\n",
    "|os.path.splitext()|PurePath.suffix|\n",
    "|glob.iglob() | Path.glob()|\n"
   ]
  },
  {
   "cell_type": "markdown",
   "metadata": {},
   "source": [
    "## Module name aliases and reloading\n",
    "\n",
    "So far we have been loading modules by using `import module_name`. This process **executes all lines of the code in the file `module_name.py`**, creates an object `module_name`, and attaches to this object all the functions defined in `module_name.py` as function attributes and all (module) global variables as data attributes. For example, a file called `module_example.py` with the contents : \n",
    "```python\n",
    "a = 7\n",
    "\n",
    "print(\"Loaded with name :\",__name__)\n",
    "\n",
    "def print_a() :\n",
    "    print(a)\n",
    "    \n",
    "def print_hello() :\n",
    "    print(\"Hello!\")\n",
    "```\n",
    "can be loaded with `import` and has the data attribute `module_example.a` and function attribute `module_example.print_a`."
   ]
  },
  {
   "cell_type": "code",
   "execution_count": null,
   "metadata": {},
   "outputs": [],
   "source": [
    "%cat module_example.py"
   ]
  },
  {
   "cell_type": "code",
   "execution_count": null,
   "metadata": {},
   "outputs": [],
   "source": [
    "import module_example\n",
    "print('-'*10)\n",
    "print(module_example.a)\n",
    "print(module_example.print_a)\n",
    "module_example.print_a()"
   ]
  },
  {
   "cell_type": "markdown",
   "metadata": {},
   "source": [
    "As you can see above, the module as a global `__name__` variable. The global variable `__name__` is set to the filename when a module is imported. Later, when we learn to use out modules as **scripts**, the varaible `__name__` will become more important.\n",
    "\n",
    "One thing we can do is create an **alias** for the module object by importing as follows."
   ]
  },
  {
   "cell_type": "code",
   "execution_count": null,
   "metadata": {},
   "outputs": [],
   "source": [
    "import module_example as me\n",
    "print('-'*10)\n",
    "print(me.a)\n",
    "print(me.print_a)\n",
    "me.print_a()"
   ]
  },
  {
   "cell_type": "markdown",
   "metadata": {},
   "source": [
    "**Calling `import` twice on a module that is already loaded, does not reload it**. You may have noticed that `print(\"Loaded with name :\",__name__)` didn't run again in the above code. Therefore, if you have made changes to your file and want to update the module in your interpreter, you will need to use the `importlib` module."
   ]
  },
  {
   "cell_type": "code",
   "execution_count": null,
   "metadata": {},
   "outputs": [],
   "source": [
    "import importlib as impl\n",
    "impl.reload(me)\n",
    "me.print_a()"
   ]
  },
  {
   "cell_type": "markdown",
   "metadata": {},
   "source": [
    "## Dependency Management\n",
    "\n",
    "The last thing I wanted to start talking about today is dependency management. For this, we will use `pipenv`, though there are many guides for using other package managers.\n",
    "\n",
    "Let's say we want to start with a special version of python.\n",
    "\n",
    "```mkdir new_project\n",
    "cd new_project\n",
    "pipenv --python 3.6.7\n",
    "```\n",
    "\n",
    "Let's install some packages\n",
    "\n",
    "```\n",
    "pipenv install requests\n",
    "```\n",
    "\n",
    "We can see what we have installed with `pipenv graph`.\n",
    "\n",
    "In your project directory, there will only be two new files."
   ]
  },
  {
   "cell_type": "code",
   "execution_count": null,
   "metadata": {},
   "outputs": [],
   "source": [
    "%ls new_project"
   ]
  },
  {
   "cell_type": "markdown",
   "metadata": {},
   "source": [
    "The `Pipfile` and `Pipfile.lock` are files managed by `pipenv` to keep track of you current environment. The `Pipfile` tracks your project's top-level dependencies, while `Pipfile.lock` tracks all sub-dependencies and hashes of packages that should be on the system. Both files should be in your `git` repository.\n",
    "\n",
    "Let's say that version `2.22.0` is too new for us and we want at most `2.21.0`.We have two options :\n",
    "  * run `pipenv install \"requests<=2.21.0\"` which will overwrite the `2.22.0` install, update the lock file and install everything\n",
    "  * edit the `Pipfile` to have version \"<=2.21.0\" and run `pipenv update`"
   ]
  },
  {
   "cell_type": "markdown",
   "metadata": {},
   "source": [
    "**Remark 1**. If you have any old `pip`-style requirements files, you can load them into `pipenv` with\n",
    "\n",
    "`pipenv install -r requirements.txt`\n",
    "\n",
    "\n",
    "**Remark 2**. The virtual environment files are by default installed into `~/.local/share/virtualenvs/`. If you would like `pipenv` to install virtual environment packages in the project directory (because, for example, some production service does not have user directory access), you can `export PIPENV_VENV_IN_PROJECT=1`"
   ]
  },
  {
   "cell_type": "markdown",
   "metadata": {},
   "source": [
    "The calls ` pipenv shell` and ` pipenv run` let you execute your code in your new virtual environment. To work interactively, `pipenv shell` hands you off to a new shell inside your virtual environment (wrapping the usual `activate` and `deactivate` calls). "
   ]
  },
  {
   "cell_type": "markdown",
   "metadata": {},
   "source": [
    "To check for public security vulnerabilities listed at [pyup.io](https://pyup.io) and PEP 508 requirements, you can run `pipenv check`"
   ]
  },
  {
   "cell_type": "markdown",
   "metadata": {},
   "source": [
    "You can install development only packages with `pipenv install --dev`. This will allow you to keep development packages out of production as `pipenv` install by default only installs non-development packages."
   ]
  },
  {
   "cell_type": "markdown",
   "metadata": {},
   "source": [
    "Let's make a simple git repo and clone it to see what happens\n",
    "\n",
    "```git init\n",
    "git add Pipfile Pipfile.lock\n",
    "git commit -m \"pipenv setup\"\n",
    "mkdir ../clone\n",
    "cd ../clone\n",
    "git clone ../new_project\n",
    "cd new_project\n",
    "export PIPENV_VENV_IN_PROJECT=1\n",
    "\n",
    "pipenv sync\n",
    "```"
   ]
  },
  {
   "cell_type": "markdown",
   "metadata": {},
   "source": [
    "We can now play with the `requests` module with\n",
    "\n",
    "```\n",
    "pipenv shell\n",
    "> python\n",
    "> import requests\n",
    "> text_request = requests.get(\"http://www.randomtext.me/api/lorem/p-5/5-10/\")\n",
    "> text_request.text\n",
    "```"
   ]
  },
  {
   "cell_type": "markdown",
   "metadata": {},
   "source": [
    "**Remark**. If you ever need to generate a `requirements.txt` files (or for `install_requires` in your `setup.py`), you can run `pipenv lock -r > requirements.txt`\n",
    "\n",
    "A good guide for using `pipenv` can be found here [realpython.com/pipenv-guide/](https://realpython.com/pipenv-guide/)"
   ]
  },
  {
   "cell_type": "markdown",
   "metadata": {},
   "source": [
    "### Using your virtual environment with jupyter\n",
    "\n",
    "If you want to use jupyter lab while developing, you could install jupyter as as `pipenv install --dev jupyterlab` inside every one of your projects. A better alternative however, is to keep the jupyter installation separate and add your virtual environment notebook kernel to the jupyter interface.\n",
    "\n",
    "```\n",
    "pipenv install --dev ipykernel\n",
    "pipenv run python -m ipykernel install --user --name=new_project\n",
    "```\n"
   ]
  },
  {
   "cell_type": "code",
   "execution_count": null,
   "metadata": {},
   "outputs": [],
   "source": [
    "import requests\n",
    "\n",
    "text_request = requests.get(\"http://www.randomtext.me/api/lorem/p-5/5-10/\")\n",
    "text_request.text"
   ]
  },
  {
   "cell_type": "code",
   "execution_count": null,
   "metadata": {},
   "outputs": [],
   "source": [
    "import flask"
   ]
  }
 ],
 "metadata": {
  "anaconda-cloud": {},
  "kernelspec": {
   "display_name": "new_project",
   "language": "python",
   "name": "new_project"
  },
  "language_info": {
   "codemirror_mode": {
    "name": "ipython",
    "version": 3
   },
   "file_extension": ".py",
   "mimetype": "text/x-python",
   "name": "python",
   "nbconvert_exporter": "python",
   "pygments_lexer": "ipython3",
   "version": "3.6.7"
  }
 },
 "nbformat": 4,
 "nbformat_minor": 4
}
