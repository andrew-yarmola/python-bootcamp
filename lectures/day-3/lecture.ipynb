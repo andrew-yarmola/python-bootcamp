{
 "cells": [
  {
   "cell_type": "markdown",
   "metadata": {},
   "source": [
    "# Python Bootcamp Day 2 Morning\n",
    "\n",
    "* Instructor:  Andrew Yarmola [andrew.yarmola@gmail.com](mailto:andrew.yarmola@gmail.com)\n",
    "* Bootcamp files: [github.com/andrew-yarmola/python-bootcamp](https://github.com/andrew-yarmola/python-bootcamp)\n"
   ]
  },
  {
   "cell_type": "markdown",
   "metadata": {},
   "source": [
    "## Comments\n",
    "\n",
    "### Classes as decorators\n",
    "\n",
    "Because class objects are **callable** (usually to instantiate an object), they can also be used as decorators. Sometimes this is more natural, but you have to manage the reference to `func` and any other extra argumetns yourself without the automatic benefit (or confusion) of closures. For example"
   ]
  },
  {
   "cell_type": "code",
   "execution_count": null,
   "metadata": {},
   "outputs": [],
   "source": [
    "import functools\n",
    "\n",
    "class CountCalls:\n",
    "    def __init__(self, func):\n",
    "        # runs @wraps on the self instance\n",
    "        functools.update_wrapper(self, func)\n",
    "        self.func = func\n",
    "        self.num_calls = 0\n",
    "\n",
    "    def __call__(self, *args, **kwargs):\n",
    "        self.num_calls += 1\n",
    "        print(f\"Call {self.num_calls} of {self.func.__name__!r}\")\n",
    "        return self.func(*args, **kwargs)\n",
    "        \n",
    "@CountCalls\n",
    "def do_something() :\n",
    "    print(\"did a lot\")\n",
    "\n",
    "do_something()\n",
    "do_something()"
   ]
  },
  {
   "cell_type": "markdown",
   "metadata": {},
   "source": [
    "### Decorating a class\n",
    "\n",
    "Like function, classes constructors respond to a `.__call__()` method, so we can wrap instance construction in decorator just like functions."
   ]
  },
  {
   "cell_type": "code",
   "execution_count": null,
   "metadata": {},
   "outputs": [],
   "source": [
    "from bootcamp_decorators import time_this\n",
    "\n",
    "# decorates instantiation only\n",
    "# uses: debug or inspect class attibures\n",
    "@time_this \n",
    "class Employee:\n",
    "    def __init__(self, id, name):\n",
    "        self.id = id\n",
    "        self.name = name\n",
    "        \n",
    "    # undecorated instance method\n",
    "    def calculate_payroll(self):\n",
    "        pass"
   ]
  },
  {
   "cell_type": "markdown",
   "metadata": {},
   "source": [
    "### `functools` and `dataclass` decorators\n",
    "\n",
    "Be aware, that many modules provide decorators you might already want to use. For example,"
   ]
  },
  {
   "cell_type": "code",
   "execution_count": null,
   "metadata": {},
   "outputs": [],
   "source": [
    "import functools\n",
    "\n",
    "# this decorator caches up to 4 return values at a time\n",
    "@functools.lru_cache(maxsize=4)\n",
    "def fibonacci(num) :\n",
    "    print(f\"Calculating fibonacci({num})\")\n",
    "    if num < 2 :\n",
    "        return num\n",
    "    return fibonacci(num - 1) + fibonacci(num - 2)"
   ]
  },
  {
   "cell_type": "markdown",
   "metadata": {},
   "source": [
    "The `dataclass` decorator below allows you to save time writing methods like `__init__`, `__repr__` for classes that only store data and have a few instance methods."
   ]
  },
  {
   "cell_type": "code",
   "execution_count": null,
   "metadata": {},
   "outputs": [],
   "source": [
    "from dataclasses import dataclass\n",
    "\n",
    "@dataclass(frozen=True) # <--- make an immutable dataclass\n",
    "class NamedPoint:\n",
    "    name: str\n",
    "    x : float = 0.0 # <--- type annotation with default values\n",
    "    y : float = 0.0\n",
    "\n",
    "    def distance_to(self, other):\n",
    "        return ((self.x - other.x)**2 + (self.y - other.y)**2)**0.5"
   ]
  },
  {
   "cell_type": "code",
   "execution_count": null,
   "metadata": {},
   "outputs": [],
   "source": [
    "a = NamedPoint('a', 1., 2.)\n",
    "b = NamedPoint('b', 0., 2.)\n",
    "a.distance_to(b)"
   ]
  },
  {
   "cell_type": "code",
   "execution_count": null,
   "metadata": {},
   "outputs": [],
   "source": [
    "a.x = 7"
   ]
  },
  {
   "cell_type": "markdown",
   "metadata": {},
   "source": [
    "## Writing Packages\n",
    "\n",
    "Packages are simply a collection of modules structured in a way to allow for “dotted module names”. For example, the module `sound.formats` corresponds to a submodule `formats` of package named `sound`. This helps control namespaces, so someone working on `formats` does not need to know what the `sound` namespace looks like.\n",
    "\n",
    "Suppose you want to design a collection of modules handling of sound files and sound data. There are many different sound file formats, so you may need to create and maintain modules for the conversion between the various file formats. You will also want to add modules for different audio processing tasks.\n",
    "\n",
    "Here is a possible structure for your package :\n",
    "\n",
    "```\n",
    "/home/user/sound                Repo-level\n",
    "├── README.md\n",
    "├── Pipfile\n",
    "├── Pipfile.lock\n",
    "├── sound/                      Top-level package\n",
    "│   ├── __init__.py             Initialize the sound package\n",
    "│   ├── formats/                Subpackage for file format conversions\n",
    "│   │   ├── _init__.py\n",
    "│   │   ├── wavread.py\n",
    "│   │   ├── wavwrite.py\n",
    "│   │   └── ...\n",
    "│   ├── effects/                Subpackage for sound effects\n",
    "│   │   ├── __init__.py\n",
    "│   │   ├── echo.py\n",
    "│   │   ├── surround.py\n",
    "│   │   └── ...\n",
    "│   └── filters/                  Subpackage for filters\n",
    "│       ├── __init__.py\n",
    "│       ├── equalizer.py\n",
    "│       ├── karaoke.py\n",
    "│       └── ...\n",
    "└── tests/                      Tests directory\n",
    "    ├── test_filters.py\n",
    "    └── ...\n",
    "```\n",
    "\n",
    "When importing the package, Python searches through the directories in `sys.path` looking for the package subdirectory.\n",
    "\n",
    "The `__init__.py` files are required to make python treat directories containing the file as packages. This prevents directories with a common name unintentionally hiding valid modules that occur later on the module search path.\n",
    "\n",
    "One can import submodules via \n",
    "\n",
    "```python\n",
    "import sound.effects.echo\n",
    "```\n",
    "\n",
    "In the simplest case, `__init__.py` can just be an empty file. But you can also execute initialization code in `__init__.py` for when your package is imported. For example, the line\n",
    "\n",
    "```python\n",
    "__all__ = [\"effects\", \"filters\"]\n",
    "```\n",
    "\n",
    "will force the `from sounds import formats` to fail and only succeed with `effects` and `filters`.\n",
    "\n",
    "Other options include things like\n",
    "```python\n",
    "import sound.filters as fltrs\n",
    "from .formats import wav_read\n",
    "````\n",
    "where inside the formats module `__init__.py` we have\n",
    "```python\n",
    "import sound.filters as fltrs\n",
    "````\n",
    "\n",
    "Let's take a look at the `sound` module example included in the repository."
   ]
  },
  {
   "cell_type": "markdown",
   "metadata": {},
   "source": [
    "**Upshot**. You should use `__init__.py` to setup the namespace of your package when it is imported. If you don't need anything extra, you can leave it blank.\n",
    "\n",
    "**More about imports**. You can read more about the structure of `import` at [realpython.com/python-modules-packages/](https://realpython.com/python-modules-packages/)\n",
    "\n",
    "**Remark**. There is really not fully agreed upon format to what to put in `__init__.py`. See the following post for a discussion on the matter [pcarleton.com/2016/09/06/python-init/](https://pcarleton.com/2016/09/06/python-init/)"
   ]
  },
  {
   "cell_type": "markdown",
   "metadata": {},
   "source": [
    "### A Flask app layout\n",
    "\n",
    "A Flask app would have relatively similar layout to package. Again, tests are usually kept outside of the application package to avoid access to them during runtime.\n",
    "\n",
    "```\n",
    "/home/user/flaskr\n",
    "├── run_app.py\n",
    "├── README.md\n",
    "├── Pipfile\n",
    "├── Pipfile.lock\n",
    "├── flaskr/\n",
    "│   ├── __init__.py\n",
    "│   ├── db.py\n",
    "│   ├── schema.sql\n",
    "│   ├── auth.py\n",
    "│   ├── blog.py\n",
    "│   ├── templates/\n",
    "│   │   ├── base.html\n",
    "│   │   ├── auth/\n",
    "│   │   │   ├── login.html\n",
    "│   │   │   └── register.html\n",
    "│   │   └── blog/\n",
    "│   │       ├── create.html\n",
    "│   │       ├── index.html\n",
    "│   │       └── update.html\n",
    "│   └── static/\n",
    "│       └── style.css\n",
    "└── tests/\n",
    "    ├── conftest.py\n",
    "    ├── data.sql\n",
    "    ├── test_factory.py\n",
    "    ├── test_db.py\n",
    "    ├── test_auth.py\n",
    "    └── test_blog.py\n",
    "```"
   ]
  },
  {
   "cell_type": "markdown",
   "metadata": {},
   "source": [
    "### Installable packages\n",
    "\n",
    "Installable packaged that are hosted in repositories are also an option. This requires becoming familiar with `distutils`, `setuptools`, and `setup.py` and `MANIFEST.in` formatting. See [realpython.com/pypi-publish-python-package/](https://realpython.com/pypi-publish-python-package/) and [docs.python-guide.org/writing/structure/](https://docs.python-guide.org/writing/structure/) for guides and comments.\n"
   ]
  },
  {
   "cell_type": "markdown",
   "metadata": {},
   "source": [
    "## Managing several repositories\n",
    "\n",
    "Since you will  most likely not be creating installable and distributed packages, I would suggest you use `git submodule` to track all of your internal dependencies. For external dependencies, use `pipenv`\n",
    "\n",
    "To use `import`, you will need to add the root module directory to your path using `sys.path.append()` as necessary.\n",
    "\n",
    "If you really need to install a package using `pipenv` form a `git` repository, this can be done with\n",
    "\n",
    "```bash\n",
    "pipenv install -e git+https://github.com/requests/requests.git@v2.20.1#egg=requests\n",
    "```\n",
    "\n",
    "where `#egg=package_name` specifies the package name used by `pipenv`"
   ]
  },
  {
   "cell_type": "markdown",
   "metadata": {},
   "source": [
    "## Scripts\n",
    "\n",
    "Crating scripts in python is very easy. You simply have to check the `__name__` variable of your module.\n",
    "\n",
    "For example, here are the contents of `three_powers_of_two.py` : a script that prints the first 3 powers of 2.\n",
    "\n",
    "```python\n",
    "#!/usr/bin/env python3\n",
    "\n",
    "def generate_powers() :\n",
    "    return [ 2**x for x in range(3) ]\n",
    "\n",
    "print(\"Global __name__ is :\", __name__)\n",
    "\n",
    "if __name__ == '__main__' :\n",
    "    print(*generate_powers(), sep = '\\n')\n",
    "```"
   ]
  },
  {
   "cell_type": "markdown",
   "metadata": {},
   "source": [
    "Now, if I import this file, nothing will happend except for the fact that I will have `generate_powers` defined."
   ]
  },
  {
   "cell_type": "code",
   "execution_count": null,
   "metadata": {},
   "outputs": [],
   "source": [
    "import three_powers_of_two as tpt"
   ]
  },
  {
   "cell_type": "markdown",
   "metadata": {},
   "source": [
    "As you can see, when importing, the global variable `__name__` is set to the filename.\n",
    "\n",
    "However, if I now go to a console/terminal and **run** the scipt using\n",
    "```bash\n",
    "python3 three_powers_of_two.py\n",
    "```\n",
    "or, because we have `#!/usr/bin/env python3` at the top of the file, we can use\n",
    "```bash\n",
    "./three_powers_of_two.py\n",
    "```\n",
    "\n",
    "You will see the commands in the `if` statement executed.\n",
    "\n",
    "```bash\n",
    "$ ./three_powers_of_two.py \n",
    "Global __name__ is : __main__\n",
    "1\n",
    "2\n",
    "4\n",
    "```"
   ]
  },
  {
   "cell_type": "markdown",
   "metadata": {},
   "source": [
    "So a script can be used both as a module and a tool. However, a program isn't very useful is you can't give it input."
   ]
  },
  {
   "cell_type": "markdown",
   "metadata": {},
   "source": [
    "### Arguments and Options\n",
    "\n",
    "The standard way to pass arguments to a script is to give a space separated list after the command call :\n",
    "\n",
    "```bash\n",
    "python three_powers_of_two.py arg1 arg2\n",
    "```\n",
    "\n",
    "To read the aguemnts in, we will use the `sys` module's `sys.argv` attribute. We update our `three_powers_of_two_new.py` with : \n",
    "\n",
    "```python\n",
    "#!/usr/bin/env python3\n",
    "\n",
    "import sys\n",
    "\n",
    "def generate_powers() :\n",
    "    return [ 2**x for x in range(3) ]\n",
    "\n",
    "if __name__ == '__main__' :\n",
    "\n",
    "    print(sys.argv)\n",
    "    \n",
    "    print(*generate_powers(), sep = '\\n')\n",
    "```"
   ]
  },
  {
   "cell_type": "markdown",
   "metadata": {},
   "source": [
    "When we run this using the above command in a terminal, we will see :\n",
    "```bash\n",
    "$ python three_powers_of_two.py arg1 arg2\n",
    "['three_powers_of_two.py', 'arg1', 'arg2']\n",
    "1\n",
    "2\n",
    "4\n",
    "```\n",
    "In particular, `sys.argv` is a list that starts with the **name** of the program and then gives **all space separated arugments**.\n",
    "\n",
    "**Remark** if you need to have a space in an arugment, you can use (double) quatition marks :\n",
    "```bash\n",
    "$ python three_powers_of_two.py arg1 \"arg2 with a space\"\n",
    "['three_powers_of_two.py', 'arg1', 'arg2 with a space']\n",
    "1\n",
    "2\n",
    "4\n",
    "```\n",
    "\n",
    "Let us make a slightly more useful script `count_vowels.py` that counts vowels in a file"
   ]
  },
  {
   "cell_type": "markdown",
   "metadata": {},
   "source": [
    "```python\n",
    "#!/usr/bin/env python3\n",
    "\n",
    "import sys\n",
    "\n",
    "def vowels_in_string(data) :\n",
    "    return { v : data.count(v) for v in 'aeiou' }\n",
    "\n",
    "if __name__ == '__main__' :\n",
    "    if len(sys.argv) < 2 :\n",
    "        print(\"Usage: python count_vowels.py file\")\n",
    "        sys.exit(2)\n",
    "        \n",
    "    file_name = sys.argv[1]\n",
    "\n",
    "    with open(file_name, 'r') as fp :\n",
    "        data = fp.read()\n",
    "        print(vowels_in_string(data))\n",
    "```"
   ]
  },
  {
   "cell_type": "markdown",
   "metadata": {},
   "source": [
    "Notice that I am doing some minimal input checking. This allows me to both inform the user how to use the program and also to check for bad input.\n",
    "\n",
    "We can run out program to get :\n",
    "```bash\n",
    "$ python count_vowels.py \"morning.ipynb\"\n",
    "{'u': 5197, 'a': 5898, 'i': 5305, 'o': 4934, 'e': 6094}\n",
    "```"
   ]
  },
  {
   "cell_type": "markdown",
   "metadata": {},
   "source": [
    "### Options and `getopt`\n",
    "\n",
    "Using `sys.argv` gives us only **positional** arguments for our program. There is a better way using the `getopt` modules. The idea is to specify a **flag** or **keyword** using a `-` or `--` prefix. We would like to do something like this : \n",
    "\n",
    "```bash\n",
    "./hanoi_gif.py -v --d 4 --fps 4 awesome_hanoi_4.gif\n",
    "```\n",
    "\n",
    "Let's see a simple example fo how `getopt` works"
   ]
  },
  {
   "cell_type": "code",
   "execution_count": null,
   "metadata": {},
   "outputs": [],
   "source": [
    "import getopt\n",
    "\n",
    "argv_list = '-v -d 4 --fps 5 -w something --write nothing arg1 arg2 arg3'.split()\n",
    "\n",
    "opts, args = getopt.getopt(argv_list, 'vd:w:',\n",
    "                           ['verbose', 'disk=', 'fps=', 'write='])\n",
    "\n",
    "print(opts)\n",
    "print(args)"
   ]
  },
  {
   "cell_type": "markdown",
   "metadata": {},
   "source": [
    "As you can see there are **three** types of options/arguments here. The key thing to understand is the line\n",
    "```python\n",
    "opts, args = getopt.getopt(argv_list, 'vd:w:',\n",
    "                           ['verbose', 'disk=', 'fps=', 'write='])\n",
    "```\n",
    "The string `'vd:w:'` indicates how to parse **single letter** options preceded by a `-` symbol. While the list `['verbose', 'disk=', 'fps=', 'write=']` indicates how to parse **keyword** options preceded by a `--` symbol\n",
    "\n",
    "The options here are :\n",
    "* **flags** : these are the `-v` or `--verbose` options\n",
    "   * they have no value, their **presence** is all you need\n",
    "   * they are declared by a letter **without** a colon or a word **without** an `=`\n",
    "\n",
    "* **keyword arguments** : these are the `-d`,`-w`, `--disks`, `--write`, and `--fps` options\n",
    "   * they require a value to follow them when calling the program\n",
    "   * their declaration is followed by a colon after a letter or an `=` after a keyword\n",
    "   \n",
    "* **positional arguments** : there are `arg1`, `arg2`, and `arg3`\n",
    "   * must **follow** all flag and keyword arguments\n",
    "   \n",
    "When `getopt.getopt` parses `argv_list`, it returns a **list of tuples** and a **list of strings**. The list of tuples is map of options to their values and the list of strings is the list of positional arguments."
   ]
  },
  {
   "cell_type": "markdown",
   "metadata": {},
   "source": [
    "To apply this to function arguments, we simply need to call `getopt` on `sys.argv[1:]` (dropping the program name).\n",
    "\n",
    "We can now implement a `hanoi_gif.py` containing the following code. Pay close attention to how I interpret the contents of `opts` and `args`."
   ]
  },
  {
   "cell_type": "code",
   "execution_count": null,
   "metadata": {},
   "outputs": [],
   "source": [
    "%cat hanoi_gif.py"
   ]
  },
  {
   "cell_type": "markdown",
   "metadata": {},
   "source": [
    "## Flask\n",
    "\n",
    "Flask is a lightweight web application framework that wraps the Werkzeug web application library and uses Jinja for it's template engine.\n",
    "\n",
    "The Flask documentation is rather extensive and we will essentially go through the tutorial at [flask.palletsprojects.com](https://flask.palletsprojects.com) and some others.\n",
    "\n",
    "### Werkzeug\n",
    "\n",
    "\n",
    "Werkzeug is a comprehensive WSGI web application library. WSGI stands for Web Server Gateway Interface. It implements a specification that describes how a web server communicates with web applications, such as Flask app written in python. \n",
    "\n",
    "Flask wraps Werkzeug, using it to handle the details of WSGI while providing more structure and patterns for defining powerful applications.\n",
    "\n",
    "Werkzeug includes:\n",
    "\n",
    "* An interactive debugger that allows inspecting stack traces and source code in the browser with an interactive interpreter for any frame in the stack.\n",
    "* A full-featured request object with objects to interact with headers, query args, form data, files, and cookies.\n",
    "* A response object that can wrap other WSGI applications and handle streaming data.\n",
    "* A routing system for matching URLs to endpoints and generating URLs for endpoints, with an extensible system for capturing variables from URLs.\n",
    "* HTTP utilities to handle entity tags, cache control, dates, user agents, cookies, files, and more.\n",
    "* A threaded WSGI server for use while developing applications locally.\n",
    "* A test client for simulating HTTP requests during testing without requiring running a server.\n",
    "Werkzeug is Unicode aware and doesn't enforce any dependencies. It is up to the developer to choose a template engine, database adapter, and even how to handle requests.\n",
    "\n",
    "### Jinja\n",
    "\n",
    "Jinja2 is a full-featured template engine for Python with full unicode support. A template engine is a system for dynamically generating HTML and other web formats.\n",
    "\n",
    "Here is what templates look like.\n",
    "\n",
    "```\n",
    "{% extends \"layout.html\" %}\n",
    "{% block body %}\n",
    "  <ul>\n",
    "  {% for user in users %}\n",
    "    <li><a href=\"{{ user.url }}\">{{ user.username }}</a></li>\n",
    "  {% endfor %}\n",
    "  </ul>\n",
    "{% endblock %}\n",
    "```\n",
    "\n",
    "* Sandboxed execution mode. Every aspect of the template execution is monitored and explicitly whitelisted or blacklisted, whatever is preferred. This makes it possible to execute untrusted templates.\n",
    "* powerful automatic HTML escaping system for cross site scripting prevention.\n",
    "* Template inheritance makes it possible to use the same or a similar layout for all templates.\n",
    "* High performance with just in time compilation to Python bytecode. Jinja2 will translate your template sources on first load into Python bytecode for best runtime performance.\n",
    "* Optional ahead-of-time compilation\n",
    "* Easy to debug with a debug system that integrates template compile and runtime errors into the standard Python traceback system.\n",
    "* Configurable syntax. For instance you can reconfigure Jinja2 to better fit output formats such as LaTeX or JavaScript.\n",
    "* Template designer helpers. Jinja2 ships with a wide range of useful little helpers that help solving common tasks in templates such as breaking up sequences of items into multiple columns and more."
   ]
  },
  {
   "cell_type": "markdown",
   "metadata": {},
   "source": [
    "```python\n",
    "from flask import Flask, escape, request\n",
    "\n",
    "app = Flask(__name__)\n",
    "\n",
    "@app.route('/')\n",
    "def index() :\n",
    "    # the request object is a global variable name that has all the info\n",
    "    # about the made request\n",
    "    name = request.args.get(\"name\", \"World\")\n",
    "    return f'Hello, {escape(name)}!'\n",
    "```\n",
    "\n",
    "We can run this code from a shell using the `flask` shell command\n",
    "\n",
    "```bash\n",
    "export FLASK_APP=app.py\n",
    "export export FLASK_ENV=development\n",
    "flask run\n",
    "```"
   ]
  },
  {
   "cell_type": "markdown",
   "metadata": {},
   "source": [
    "Let's tale a look at [flask.palletsprojects.com/en/1.1.x/api/#flask.Request](https://flask.palletsprojects.com/en/1.1.x/api/#flask.Request)"
   ]
  },
  {
   "cell_type": "markdown",
   "metadata": {},
   "source": [
    "The decorator wrapped function are called **view functions**. The return value from a view function is automatically converted into a response object for you. If the return value is a string it’s converted into a response object with the string as response body, a 200 OK status code and a text/html mimetype. If the return value is a `dict`, `jsonify()` is called to produce a response. The logic that Flask applies to converting return values into response objects is as follows:\n",
    "\n",
    "* If a response object of the correct type is returned it’s directly returned from the view.\n",
    "* If it’s a string, a response object is created with that data and the default parameters.\n",
    "* If it’s a dict, a response object is created using jsonify.\n",
    "* If a tuple is returned the items in the tuple can provide extra information. Such tuples have to be in the form (response, status), (response, headers), or (response, status, headers). The status value will override the status code and headers can be a list or dictionary of additional header values.\n",
    "* If none of that works, Flask will assume the return value is a valid WSGI application and convert that into a response object.\n",
    "* If you want to get hold of the resulting response object inside the view you can use the `make_response()` function."
   ]
  },
  {
   "cell_type": "markdown",
   "metadata": {},
   "source": [
    "### Variable Rules\n",
    "You can add variable sections to a URL by marking sections with `<variable_name>`. Your function then receives the `<variable_name>` as a keyword argument. Optionally, you can use a converter to specify the type of the argument like `<converter:variable_name>`.\n",
    "\n",
    "```python\n",
    "@app.route('/user/<username>')\n",
    "def user_profile(username):\n",
    "    # show the user profile for that user\n",
    "    return escape(f'User {username}')\n",
    "\n",
    "@app.route('/post/<int:post_id>')\n",
    "def post(post_id):\n",
    "    # show the post with the given id, the id is an integer\n",
    "    return escape(f'Post {post_id}')\n",
    "\n",
    "@app.route('/path/<path:subpath>')\n",
    "def path(subpath):\n",
    "    # show the subpath after /path/\n",
    "    return escape(f'Subpath {subpath}')\n",
    "\n",
    "@app.route('/projects/')\n",
    "def projects():\n",
    "    return 'The project page'\n",
    "\n",
    "@app.route('/about') # <---- different from /about/\n",
    "def about():\n",
    "    return 'The about page'\n",
    "```\n",
    "Converter types:\n",
    "\n",
    "|||\n",
    "|--- |--- |\n",
    "|string|(default) accepts any text without a slash|\n",
    "|int|accepts positive integers|\n",
    "|float|accepts positive floating point values|\n",
    "|path|like string but also accepts slashes|\n",
    "|uuid|accepts UUID strings|\n"
   ]
  },
  {
   "cell_type": "code",
   "execution_count": null,
   "metadata": {},
   "outputs": [],
   "source": [
    "from flask import Flask, escape, request"
   ]
  },
  {
   "cell_type": "code",
   "execution_count": null,
   "metadata": {},
   "outputs": [],
   "source": [
    "help(escape)"
   ]
  },
  {
   "cell_type": "markdown",
   "metadata": {},
   "source": [
    "If we want to look up the url for a given function call, there is the `url_for` function.\n",
    "\n",
    "```python\n",
    "from flask import url_for\n",
    "\n",
    "with app.test_request_context():\n",
    "    print(\"Got url for index :\", url_for('index'))\n",
    "    print(\"Got url for projects :\", url_for('projects'))\n",
    "    print(\"Got url for John : \", url_for('user_profile', username='John Doe'))\n",
    "```\n",
    "\n",
    "One can also use `url_for` to get the urls of static files\n",
    "\n",
    "```python\n",
    "url_for('static', filename='style.css')\n",
    "```"
   ]
  },
  {
   "cell_type": "markdown",
   "metadata": {},
   "source": [
    "#### GET and POST\n",
    "\n",
    "The global `request` object can also track the method used to load the URL. Based on that, our code can perform different tasks.\n",
    "\n",
    "```python\n",
    "@app.route('/login', methods=['GET', 'POST'])\n",
    "def login():\n",
    "    if request.method == 'POST':\n",
    "        return \"Logging you in\"\n",
    "    else:\n",
    "        return \"Here is your profile\"\n",
    "```"
   ]
  },
  {
   "cell_type": "markdown",
   "metadata": {},
   "source": [
    "#### Basic Template Rendering\n",
    "\n",
    "Let's add a file `welcome.html` into `templates/` with the content\n",
    "\n",
    "```\n",
    "<!doctype html>\n",
    "<title>Welcome to Flask</title>\n",
    "{% if name %}\n",
    "  <h1>You say your name is {{ name }}!</h1>\n",
    "{% else %}\n",
    "  <h1>Hello, stranger!</h1>\n",
    "{% endif %}\n",
    "```\n",
    "\n",
    "and add the following code to our app\n",
    "\n",
    "```python\n",
    "from flask import render_template, make_response\n",
    "\n",
    "@app.route('/welcome/')\n",
    "@app.route('/welcome/<name>')\n",
    "def welcome(name = None):\n",
    "    # can also just return render_template('welcome.html', name = name)\n",
    "    resp = make_response(render_template('welcome.html', name = name))\n",
    "    resp.set_cookie('name', name) # <-- you can access cookies from request.cookies\n",
    "    return resp\n",
    "```\n",
    "\n",
    "Inside templates you also have access to the global `request`, `session` and `g` objects (the latter is the global namespace).\n",
    "\n",
    "Automatic escaping is enabled, so if name contains HTML it will be escaped automatically. If you can trust a variable and you know that it will be safe HTML"
   ]
  },
  {
   "cell_type": "markdown",
   "metadata": {},
   "source": [
    "#### Uploading\n",
    "\n",
    "The `request` object takes care of file uploading for you.\n",
    "\n",
    "```python\n",
    "from werkzeug.utils import secure_filename\n",
    "\n",
    "@app.route('/upload', methods=['GET', 'POST'])\n",
    "def upload_file():\n",
    "    if request.method == 'POST':\n",
    "        for fs in request.files.values() : # <-- .files is a Werkzeug MultiDict with FileStorage as values\n",
    "            fs.save('/var/tmp/' + secure_filename(fs.filename))\n",
    "```"
   ]
  },
  {
   "cell_type": "markdown",
   "metadata": {},
   "source": [
    "#### Redirect and Errors\n",
    "\n",
    "```python\n",
    "from flask import abort, redirect, url_for\n",
    "\n",
    "@app.route('/nope')\n",
    "def index():\n",
    "    return redirect(url_for('welcome'))\n",
    "\n",
    "@app.route('/err')\n",
    "def login():\n",
    "    abort(401)\n",
    "    print(\"I won't get to print\")\n",
    "```"
   ]
  },
  {
   "cell_type": "markdown",
   "metadata": {},
   "source": [
    "#### Session\n",
    "\n",
    "In addition to the `request` object there is also the `session` object which allows you to store information specific to a user from one request to the next. This is implemented on top of cookies and signs the cookies cryptographically. What this means is that the user could look at the contents of your cookie but not modify it, unless they know the secret key used for signing.\n",
    "\n",
    "In order to use sessions you have to set a secret key. Here is how sessions work:\n",
    "\n",
    "```python\n",
    "from flask import Flask, session, redirect, url_for, escape, request\n",
    "\n",
    "app = Flask(__name__)\n",
    "\n",
    "# Set the secret key to some random bytes.\n",
    "# Should be random and very secret\n",
    "app.secret_key = b'_5#y2L\"F4Q8z\\n\\xec]/'\n",
    "\n",
    "@app.route('/')\n",
    "def index():\n",
    "    if 'username' in session:\n",
    "        return 'Logged in as %s'.format(escape(session['username']))\n",
    "    return 'You are not logged in'\n",
    "\n",
    "@app.route('/login', methods=['GET', 'POST'])\n",
    "def login():\n",
    "    if request.method == 'POST':\n",
    "        session['username'] = request.form['username']\n",
    "        return redirect(url_for('index'))\n",
    "    return '''\n",
    "        <form method=\"post\">\n",
    "            <p><input type=text name=username>\n",
    "            <p><input type=submit value=Login>\n",
    "        </form>\n",
    "    '''\n",
    "\n",
    "@app.route('/logout')\n",
    "def logout():\n",
    "    # remove the username from the session if it's there\n",
    "    session.pop('username', None)\n",
    "    return redirect(url_for('index'))\n",
    "```"
   ]
  },
  {
   "cell_type": "markdown",
   "metadata": {},
   "source": [
    "#### Launching without `flask run`\n",
    "\n",
    "You can always run you app with `pipenv run flask run` if you prefer not working in `pipenv shell`.\n",
    "\n",
    "However, if you would like to avoid using `flask run`, you can make you `app.py` into a script by adding\n",
    "\n",
    "```python\n",
    "if __name__ == \"__main__\":\n",
    "    app.run(host = 'localhost', port = 5000, debug = True)\n",
    "```\n",
    "at the end of the file.\n"
   ]
  },
  {
   "cell_type": "markdown",
   "metadata": {},
   "source": [
    "#### Logging\n",
    "\n",
    "Flask comes with preconfigured loggers, which are standard python `Logger` objects.\n",
    "\n",
    "```python\n",
    "app.logger.debug('A value for debugging')\n",
    "app.logger.warning('A warning occurred (%d apples)', 42)\n",
    "app.logger.error('An error occurred')\n",
    "```"
   ]
  },
  {
   "cell_type": "markdown",
   "metadata": {},
   "source": [
    "## Connexion, Flask-RESTPlus, and Flask-RESTful\n",
    "\n",
    "These are three Flask extensions that help make writing REST api's much easier. Connexion is a much larger and more advanced framework that focuses on your api layout and linking it to python calls, while Flask-RESTPlus and Flask-RESTful are very much reliant on your code defining much of the api. Here is what they say about themselves\n",
    "\n",
    "* Flask-RESTful/Flask-RESTPlus is an extension for Flask that adds support for quickly building REST APIs. Flask-RESTPlus encourages best practices with minimal setup. If you are familiar with Flask, Flask-RESTful/Flask-RESTPlus should be easy to pick up. Flask-RESTPlus provides a coherent collection of decorators and tools to describe your API and expose its documentation properly (using Swagger).\n",
    "\n",
    "* Connexion is a framework that automagically handles HTTP requests based on OpenAPI Specification (formerly known as Swagger Spec) of your API described in YAML format. Connexion allows you to write an OpenAPI specification, then maps the endpoints to your Python functions; this makes it unique, as many tools generate the specification based on your Python code. You can describe your REST API in as much detail as you want; then Connexion guarantees that it will work as you specified.\n"
   ]
  },
  {
   "cell_type": "markdown",
   "metadata": {},
   "source": [
    "Here is an example of Flask-RESTPlus, which is an extension of Flask-RESTful.\n",
    "\n",
    "```python\n",
    "from flask import Flask, request\n",
    "from flask_restplus import Resource, Api\n",
    "\n",
    "app = Flask(__name__)\n",
    "api = Api(app)\n",
    "\n",
    "todos = {}\n",
    "\n",
    "@api.route('/<string:todo_id>')\n",
    "class TodoSimple(Resource):\n",
    "    def get(self, todo_id):\n",
    "        return {todo_id: todos[todo_id]}\n",
    "\n",
    "    def put(self, todo_id):\n",
    "        todos[todo_id] = request.form['data']\n",
    "        return {todo_id: todos[todo_id]}\n",
    "\n",
    "if __name__ == '__main__':\n",
    "    app.run(debug=True)\n",
    "```\n",
    "\n",
    "We will look at an example of a `connexion` project in detail a bit later."
   ]
  },
  {
   "cell_type": "markdown",
   "metadata": {},
   "source": [
    "### SQLAlchemy\n",
    "\n",
    "SQLAlchemy is the Python SQL toolkit and Object Relational Mapper that gives application developers the full power and flexibility of SQL. SQLAlchemy is most famous for its object-relational mapper (ORM), an optional component that provides the data mapper pattern, where classes can be mapped to the database in open ended, multiple ways - allowing the object model and database schema to develop in a cleanly decoupled way from the beginning. The ORM mapper makes SQL injection attacks almost impossible."
   ]
  },
  {
   "cell_type": "markdown",
   "metadata": {},
   "source": [
    "Model object in SQLAlchemy very much resesble the structure of a table\n",
    "\n",
    "```python\n",
    "from datetime import datetime\n",
    "from flask_sqlalchemy import SQLAlchemy\n",
    "\n",
    "app = ...\n",
    "\n",
    "db = SQLAlchemy(app)\n",
    "\n",
    "class Person(db.Model):\n",
    "    __tablename__ = \"person\"\n",
    "    person_id = db.Column(db.Integer, primary_key=True)\n",
    "    lname = db.Column(db.String(32))\n",
    "    fname = db.Column(db.String(32))\n",
    "    timestamp = db.Column(\n",
    "        db.DateTime, default=datetime.utcnow, onupdate=datetime.utcnow\n",
    "    )   \n",
    "```\n",
    "\n",
    "As you will see, an instance of person will have settable attributes. For example\n",
    "\n",
    "```python\n",
    "new_person = Person()\n",
    "new_person.lname = \"Yarmola\"\n",
    "new_person.timestamp  = datetime.utcow\n",
    "db.session.add(new_person)\n",
    "db.session.commit()\n",
    "```"
   ]
  },
  {
   "cell_type": "markdown",
   "metadata": {},
   "source": [
    "### Marshmallow\n",
    "\n",
    "Marshmallow is an ORM/ODM/framework-agnostic library for converting complex datatypes, such as objects, to and from native Python datatypes. For a REST api, one would be intersted in serializing and deserializing Python object into JSON or similar fomats.\n",
    "\n",
    "Here is an executable example"
   ]
  },
  {
   "cell_type": "code",
   "execution_count": null,
   "metadata": {},
   "outputs": [],
   "source": [
    "from datetime import date\n",
    "from marshmallow import Schema, fields\n",
    "from pprint import pprint\n",
    "\n",
    "class ArtistSchema(Schema):\n",
    "    name = fields.Str()\n",
    "\n",
    "class AlbumSchema(Schema):\n",
    "    title = fields.Str()\n",
    "    release_date = fields.Date()\n",
    "    artist = fields.Nested(ArtistSchema())\n",
    "\n",
    "class Artist :\n",
    "    def __init__(self, name) :\n",
    "        self.name = name\n",
    "    \n",
    "bowie = Artist('Bowie')\n",
    "album = dict(artist=bowie, title='Hunky Dory', release_date=date(1971, 12, 17))\n",
    "\n",
    "schema = AlbumSchema()\n",
    "result = schema.dump(album)\n",
    "pprint(result.data, indent=4)"
   ]
  },
  {
   "cell_type": "markdown",
   "metadata": {},
   "source": [
    "### Python REST APIs With Flask, Connexion, and SQLAlchemy from Real Python\n",
    "\n",
    "Let's go over the 3 webarchive guide for the `connexion-flask` project."
   ]
  }
 ],
 "metadata": {
  "kernelspec": {
   "display_name": "Python 3",
   "language": "python",
   "name": "python3"
  },
  "language_info": {
   "codemirror_mode": {
    "name": "ipython",
    "version": 3
   },
   "file_extension": ".py",
   "mimetype": "text/x-python",
   "name": "python",
   "nbconvert_exporter": "python",
   "pygments_lexer": "ipython3",
   "version": "3.7.4"
  }
 },
 "nbformat": 4,
 "nbformat_minor": 4
}
