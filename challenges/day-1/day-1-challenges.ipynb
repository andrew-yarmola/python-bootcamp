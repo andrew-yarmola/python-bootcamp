{
 "cells": [
  {
   "cell_type": "markdown",
   "metadata": {},
   "source": [
    "# Python Bootcamp Day 1 Challenges\n"
   ]
  },
  {
   "cell_type": "markdown",
   "metadata": {},
   "source": [
    "### Morning Challenge (Box game)\n",
    "Create a file `box_game.py`. At the beginning of the file, `import random`. Consider the following game,\n",
    "\n",
    "A game show has a team of `n` contestants, which are numbered `0,...,n-1`.\n",
    "\n",
    "In the game room, there are `n` boxes, also numbered `0,..., n-1`. Each box contains one of the numbers `0,..., n-1` and no two boxes contain the same number. The game show host makes the following bet with the contestants\n",
    "* the entire team pays \\$100 to play\n",
    "* the numbers inside the boxes are randomly shuffled **once** for the entire game.\n",
    "* one by one, contestants enter the room and are given `num_tries` chances to find their number (i.e. they get to open any `num_tries` boxes they choose, one at a time).\n",
    "* after a contestant has either found their number or opened `num_tries` boxes, the room is reset just as it was before the contestant went inside\n",
    "* if __all__ the contestants find their number, the game show will award the team \\$3000, however, if any contestant has failed to find their number, the game show keeps all the money\n",
    "\n",
    "Players can decide on a strategy ahead of time, but cannot communicate once the game begins."
   ]
  },
  {
   "cell_type": "markdown",
   "metadata": {},
   "source": [
    "* **a.** Write an `individual_strategy` function"
   ]
  },
  {
   "cell_type": "code",
   "execution_count": null,
   "metadata": {},
   "outputs": [],
   "source": [
    "def individual_strategy(boxes, num_tries, num_to_find) :\n",
    "    \"\"\" Implements a strategy to find num_to_find in the list boxes\n",
    "    by sampling the list in at most num_tries locations.\n",
    "    \n",
    "    Parameters\n",
    "    ----------\n",
    "    boxes : list, required\n",
    "        a list of box contents\n",
    "    num_tries : int, required\n",
    "        number of tries each contestant has to find their box.\n",
    "    num_to_find : int, required\n",
    "        the value to find in boxes\n",
    "        \n",
    "    Returns\n",
    "    ----------\n",
    "    True if the number is found, False otherwise. \"\"\""
   ]
  },
  {
   "cell_type": "markdown",
   "metadata": {},
   "source": [
    "* **b.** Write a function called `play_box_game` to play the game multiple times and return the **victory rate** (wins/rounds) with a given strategy."
   ]
  },
  {
   "cell_type": "code",
   "execution_count": null,
   "metadata": {},
   "outputs": [],
   "source": [
    "def play_box_game(num_ppl, num_tries, strategy, num_runs = 1) :\n",
    "    \"\"\" A tool to simulate many random rounds of the box game.\n",
    "    \n",
    "    Parameters\n",
    "    ----------\n",
    "    num_ppl : int, required\n",
    "        number of contestants.\n",
    "    num_tries : int, required\n",
    "        number of tries each contestant has to find their box.\n",
    "    strategy : function(boxes, num_tries, person), required\n",
    "        a strategy function to be used for each contestant.\n",
    "    num_runs : int, optional\n",
    "        number of times to play the game. Defaults to 1.\n",
    " \n",
    "    Returns\n",
    "    ----------\n",
    "    rate of victory with given strategy function \"\"\""
   ]
  },
  {
   "cell_type": "markdown",
   "metadata": {},
   "source": [
    "* **c.** Improve your `individual_strategy` so that \n",
    "\n",
    "`box_game.play_game(10, 5, box_game.individual_strategy, 10000) > 0.3`\n",
    "\n",
    "will (usually) be true. Here the number of contestants is 10, number of tries is 5, and the number of rounds is 10000."
   ]
  },
  {
   "cell_type": "markdown",
   "metadata": {},
   "source": [
    "### Extra Challenge (Towers of Hanoi)\n",
    "\n",
    "The Towers of Hanoi is an interesting mathematical puzzle. We start with three pegs and a number of disks of different (distinct) sizes which we can slide onto any peg. The puzzle starts with the disks in a stack on one peg in ascending order of size with the smallest at the top.\n",
    "\n",
    "The objective of the puzzle is to move the entire stack to another peg while obeying the following simple rules:\n",
    "* Only one disk can be moved at a time.\n",
    "* Each move consists of taking the upper disk from one of the stacks and placing it on top of another stack\n",
    "* No disk may be placed on top of a smaller disk.\n",
    "\n",
    "Create a module called `hanoi.py`."
   ]
  },
  {
   "cell_type": "markdown",
   "metadata": {},
   "source": [
    "* **a.** Write a **recursive** function `num_steps(n)` to compute the number of steps it takes to solve the puzzle with `n` disks."
   ]
  },
  {
   "cell_type": "markdown",
   "metadata": {},
   "source": [
    "* b. Label the pegs `'a','b','c'` and label the disks with numbers `1, ..., n` from smallest to largest. A **state** will be a dictionary `{'a' : list_of_disks_on_a, 'b': list_of_disks_on_b , 'c' : list_of_disks_on_c}` with each list ordered from smallest disk to largest. For example, the puzzle starts with `{'a' : [1,2,...,n], 'b' : [], 'c' :[]}`. Write a **recursive** function `solution_states(n)` which **returns a list** of states solving the problem (beginning with the start state)."
   ]
  },
  {
   "cell_type": "markdown",
   "metadata": {},
   "source": [
    "### Afternoon Challenge (I/O)\n",
    "\n",
    "Write a module called `file_sorter.py`\n",
    "\n",
    "* **a.** Learn about the the `requests` module\n",
    "    * if you like, you can also learn about `pathlib` module\n",
    "        * see [treyhunner.com/2019/01/no-really-pathlib-is-great/](https://treyhunner.com/2019/01/no-really-pathlib-is-great/)\n",
    "        * and [docs.python.org/3/library/pathlib.html](https://docs.python.org/3/library/pathlib.html)\n",
    "\n",
    "* **b.** Use the above modules to obtain at least 5 paragraphs of randomly generated text from [randomtext.me](http://www.randomtext.me). Write a function `generate_random_text_file(path)` that writes this random text to a plain file at `path`. Don't forget to strip out any HTML tags.\n",
    "\n",
    "* **c.** Write a function called `make_files(path)` which\n",
    "   * creates a directory called `sorting_dir`, if it doesn't already exist\n",
    "   * takes the path to your random text file and creates a blank file in `sorting_dir` for **every word in the file of random text**\n",
    "   * the names of the blank files should be `<word>.ext`, for example if your random text file contains \n",
    "   ```\n",
    "   Diam venenatis ultrices dolor\n",
    "   ```\n",
    "   you should generate files with names `Diam.ext`, `venenatis.ext`, `ultrices.ext`, and `dolor.ext` for that line. Make sure to generate files for **all** lines in your random text file. \n",
    "   * you can either just `open` and `close` a file to make a bank file, or  the `with` keyword and `pass`\n",
    "\n",
    "* **b.** Write a function called `first_letter_sort(sorting_dir)`, which takes a directory and **moves/sorts all the files** in `sorting_dir` into subdirectories by the first letter of the file name. The subdirectories should just be named by the **uppercase** first letter they represent (and they must be created if they don't already exist).\n",
    "   * For example, the files `Diam.ext`, `venenatis.ext`, `ultrices.ext`, and `dolor.ext` would be sorted into directories `D/`, `V/` and `U/` based on the first letter. Note that `Diam.ext` and `dolor` would both go into `D/`.\n"
   ]
  }
 ],
 "metadata": {
  "anaconda-cloud": {},
  "kernelspec": {
   "display_name": "Python 3",
   "language": "python",
   "name": "python3"
  },
  "language_info": {
   "codemirror_mode": {
    "name": "ipython",
    "version": 3
   },
   "file_extension": ".py",
   "mimetype": "text/x-python",
   "name": "python",
   "nbconvert_exporter": "python",
   "pygments_lexer": "ipython3",
   "version": "3.7.4"
  }
 },
 "nbformat": 4,
 "nbformat_minor": 4
}
