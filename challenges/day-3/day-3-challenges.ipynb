{
 "cells": [
  {
   "cell_type": "markdown",
   "metadata": {},
   "source": [
    "# Python Bootcamp Day 3 Challenges\n",
    "\n",
    "In the `day-3` folder fun `pipenv sync` to install all the necessary dependencies.\n",
    "\n",
    "## Getting familiar with Flask\n",
    "\n",
    "Write a dummmy REST api using the what we have learned that conforms to [http://dummy.restapiexample.com](http://dummy.restapiexample.com). Just use a global dictionary as you data structure.\n"
   ]
  },
  {
   "cell_type": "markdown",
   "metadata": {},
   "source": [
    "## From `redis` to `flask_redis`\n",
    "\n",
    "Convert the mini-project `redis_example` to use the `flask_redis` extension instead of the `redis` module.\n",
    "\n",
    "* use Docker to get a `redis` instance running with \n",
    "```bash\n",
    "docker run -d -p 6379:6379 --name some-redis redis\n",
    "```\n",
    "* check that the app connects to you docker container by running it\n",
    "* install `flask_redis` and switch over the app to using it\n",
    "* install `fakeredis` and switch over to using it as you database"
   ]
  },
  {
   "cell_type": "markdown",
   "metadata": {},
   "source": [
    "## Getting familiar with SQLAlchemy\n",
    "\n",
    "Look at the code in the `connexion-example` folder in `lectures/day-3`.\n",
    "\n",
    "* Get a MySQL server running in Docker. This is a bit involved.\n",
    "```bash\n",
    "docker run -d -p 3306:3306 -p 33060:33060 --name=mysql_db -d mysql/mysql-server:latest\n",
    "docker inspect mysql_db | grep Gateway # <----- save the gateway_ip for later\n",
    "docker logs mysql_db # <--- copy the root password\n",
    "docker exec -it mysql_db mysql -uroot -p # <--- paste root password at prompt\n",
    "```\n",
    "\n",
    "in the `mysql` terminal you now run\n",
    "```SQL\n",
    "ALTER USER 'root'@'localhost' IDENTIFIED BY 'secpass';\n",
    "SELECT host FROM mysql.user WHERE User = 'root';\n",
    "CREATE USER 'root'@'gateway_ip_here' IDENTIFIED BY 'secpass';\n",
    "GRANT ALL PRIVILEGES ON *.* TO 'root'@'gateway_ip_here';\n",
    "CREATE DATABASE people;\n",
    "```\n",
    "\n",
    "* Start a `pipevn shell` and `cd connexion-example`. There, run `python` and inside the python shell\n",
    "```python\n",
    "from config import connex_app, db\n",
    "from models import Person, Note, PersonSchema, NoteSchema\n",
    "db.create_all()\n",
    "```\n",
    "\n",
    "Inside this terminal, create a new `Person` and save them to the database. Change their last name and push and update to the MySQL server.\n",
    "\n",
    "\n",
    "* Do the same now with the `NoteSchema` to get  familiar with `marshmellow`\n",
    "\n",
    "* Try using `flask shell` instead of the imports and `db.create_all()` at the beginning of this file. Can you fix the project to you can use `flask shell`?\n",
    "\n",
    "* Try the migrating challenge before and after this part. Look at the code in the `connexion-example` folder in `lectures/day-3`. Find a way to switch from a remote MySQL server to a local sqlite sever."
   ]
  },
  {
   "cell_type": "markdown",
   "metadata": {},
   "source": [
    "## Learning to Migrate\n",
    "\n",
    "Install `flask_migrate` and enter the `pipenv` shell. Enter the `connexion-example` folder and edit `config.py` and add\n",
    "\n",
    "```python\n",
    "from flask_migrate import Migrate\n",
    "...\n",
    "# at the bottom\n",
    "migrate = Migrate(connex_app, db)\n",
    "```\n",
    "Back in the virtual environment shell\n",
    "\n",
    "```bash\n",
    "export FLASK_APP=server.py\n",
    "export FLASK_DEBUG=true\n",
    "flask db init\n",
    "flask db migrate\n",
    "```\n",
    "\n",
    "See [danidee10.github.io/2016/10/05/flask-by-example-5.html](https://danidee10.github.io/2016/10/05/flask-by-example-5.html) for a fun guide on migration.\n",
    "\n",
    "\n",
    "* Go an modify `Person` to include a middle name column.\n",
    "* Back in the shell, run\n",
    "\n",
    "```bash\n",
    "flask db migrate\n",
    "flask db upgrade\n",
    "```\n"
   ]
  },
  {
   "cell_type": "markdown",
   "metadata": {},
   "source": [
    "## Run some tests\n",
    "\n",
    "Look at the `flask-tutotial-with-tests` folder. This is the tutorial project from [flask.palletsprojects.com/en/1.1.x/tutorial/](https://flask.palletsprojects.com/en/1.1.x/tutorial/).\n",
    "\n",
    "Read over the testing portion of the tutorial [flask.palletsprojects.com/en/1.1.x/tutorial/tests/](https://flask.palletsprojects.com/en/1.1.x/tutorial/tests/) and run the tests.\n",
    "\n",
    "Feel free to edit and modify the tests. If you have time and energy, try adding tests to `connextion-example`."
   ]
  }
 ],
 "metadata": {
  "kernelspec": {
   "display_name": "Python 3",
   "language": "python",
   "name": "python3"
  },
  "language_info": {
   "codemirror_mode": {
    "name": "ipython",
    "version": 3
   },
   "file_extension": ".py",
   "mimetype": "text/x-python",
   "name": "python",
   "nbconvert_exporter": "python",
   "pygments_lexer": "ipython3",
   "version": "3.7.4"
  }
 },
 "nbformat": 4,
 "nbformat_minor": 4
}
