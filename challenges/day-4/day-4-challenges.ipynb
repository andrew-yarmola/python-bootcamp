{
 "cells": [
  {
   "cell_type": "markdown",
   "metadata": {},
   "source": [
    "# Python Bootcamp Day 4 Challenges"
   ]
  },
  {
   "cell_type": "markdown",
   "metadata": {},
   "source": [
    "## Arrays\n",
    "\n",
    "Write a module called `array_fun.py`\n",
    "\n",
    "**For the rest of this challenge, don't use loops!!!**\n",
    "\n",
    "* **a.** Learn about the function `numpy.unique()`. Write a function called `most_frequent(A)` which takes an array `A` and returns (any) most frequent entry.\n",
    "\n",
    "\n",
    "* **b.** Learn about the function `numpy.bincount()`. Write a **one line** function `array_with_bincount(C)` which takes a 1-dimensional array `C` of integers and returns an array `A` such that `numpy.bincount(A)` is equal to `C`.\n",
    "\n",
    "\n",
    "* **c.** Write a **one line** function `distance_matrix(points)` which \n",
    "   * takes an array `points` of shape `(k,2)` representing `k` points in the plane\n",
    "   * returns a matrix `D` such that `D[i,j]` is the Euclidean distance between `points[i]` and `points[j]`.\n",
    "\n",
    "* **d.** Use fancy indexing to write a function `swap_cols(A,i,j)` which will take a **2-dimensional array** `A` and swap column `j` with column `i`. You don't need to return anything as you should **modify** the original array `A`.\n",
    "\n",
    "\n",
    "* **e.** Define a (nested) structured data type `color_point` where one has a `'position'` given as `('x','y')` and a `'color'` given as `('r','g','b')`. Write a function `random_color_points(num_points)` which generates a random 1-dimensional array of length `num_points` of `color_point`s. For example, you should be able to run\n",
    "\n",
    "```python\n",
    "A = random_color_points(10)\n",
    "print(A.shape == (10,))\n",
    "print(A['position'])\n",
    "print(A['position']['x'])\n",
    "print(A['color']['r'])\n",
    "```"
   ]
  },
  {
   "cell_type": "markdown",
   "metadata": {},
   "source": [
    "## Game of Life\n",
    "\n",
    "For this challenge, you will implement John Conway's Game of Life. See Wikipedia for animations and examples.\n",
    "\n",
    "Imagine a grid or board of \"cells\" where black cells are \"alive\" and white cells are empty/dead.\n",
    "\n",
    "<img src=\"gol.png\" >\n",
    "\n",
    "The game runs in discrete time. At every step, this set of rules is used to produce the next version of the board :\n",
    "\n",
    "* Any live cell with fewer than two live neighbors dies, as if caused by under-population.\n",
    "* Any live cell with two or three live neighbors lives on to the next generation.\n",
    "* Any live cell with more than three live neighbors dies, as if by over-population.\n",
    "* Any empty/dead cell with exactly three live neighbors becomes a live cell, as if by reproduction.\n",
    "\n",
    "Note that each cell has at most `8` neighbors.\n",
    "\n",
    "We will represent a game grid by a 2-dimensional (integer) array `B` of `1`'s and `0`s with shape `(m, n)`. To make it easier to implement the game, we will assume out board `B` has **walls** of `0`'s around the perimeter. This means that at all stages of the game the top, bottom, right and left edges of `B` are always `0`'s.\n",
    "\n",
    "(Note : you can think of this as just playing the game on the middle grid `B[1:-1, 1:-1]`.)\n",
    "\n",
    "\n",
    "* **a.** Write a function called `neighbor_count(B)` which returns a 2-dimensional array `N` of shape `(m-2, n-2)` such that `N[i,j]` is the number of neighbors of `B[i+1, j+1]`. **Do not use loops !**\n",
    "\n",
    "\n",
    "* **b.** Learn about how binary operators `|` and `&` work for boolean arrays. Use these to write functions :\n",
    "   * `births(N,B)` - returns a boolean array showing births\n",
    "   * `survive(N,B)` - returns a boolean array showing survivors\n",
    "   * `deaths(N,B)` - returns a boolean array showing deaths\n",
    "   \n",
    "   \n",
    "* **c.** Write a function called `game_of_life(B, num_steps)` which will return a `3`-dimensional array `G` of shape `(num_steps+1, m, n)` such that `G[0,:,:]` is `B` and `G[i+1,:,:]` is the next step in the game after `G[i,:,:]`."
   ]
  },
  {
   "cell_type": "markdown",
   "metadata": {},
   "source": [
    "## Playing with data\n",
    "\n",
    "* **a.** Get the employee data from [http://dummy.restapiexample.com](http://dummy.restapiexample.com) and find at least two different methods of loading it into a `pandas.DataFrame`.\n",
    "\n",
    "  * Draw bar plots of the age and salary data\n",
    "  * Plot and run a linear regression to see if there is any correlation between age and salary in that dataset.\n",
    "\n",
    "\n",
    "* **b.** Run the `dsio-example` notebook and make sure it works. Inspect the data file and change the columns used for the graph steams\n",
    "  * Find some other data on the internet and plug it into the system.\n",
    "  \n",
    "* **c.** In the `pyod-model-comparison.ipynb`, replace the randomly generated data with some real data (e.g. the `load_boston` data, or employee data)"
   ]
  }
 ],
 "metadata": {
  "kernelspec": {
   "display_name": "data_mining",
   "language": "python",
   "name": "data_mining"
  },
  "language_info": {
   "codemirror_mode": {
    "name": "ipython",
    "version": 3
   },
   "file_extension": ".py",
   "mimetype": "text/x-python",
   "name": "python",
   "nbconvert_exporter": "python",
   "pygments_lexer": "ipython3",
   "version": "3.7.4"
  }
 },
 "nbformat": 4,
 "nbformat_minor": 4
}
